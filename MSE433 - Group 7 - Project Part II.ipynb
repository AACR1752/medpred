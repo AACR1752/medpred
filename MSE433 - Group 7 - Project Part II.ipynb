{
 "cells": [
  {
   "cell_type": "markdown",
   "metadata": {},
   "source": [
    "## MSE 433 - Term Project"
   ]
  },
  {
   "cell_type": "code",
   "execution_count": 1,
   "metadata": {},
   "outputs": [],
   "source": [
    "import pandas as pd\n",
    "import numpy as np\n",
    "import plotly.express as px\n",
    "from gurobipy import Model, GRB\n",
    "from sklearn.ensemble import RandomForestRegressor"
   ]
  },
  {
   "cell_type": "markdown",
   "metadata": {},
   "source": [
    "## Data Preprocessing"
   ]
  },
  {
   "cell_type": "code",
   "execution_count": 5,
   "metadata": {},
   "outputs": [
    {
     "data": {
      "application/vnd.microsoft.datawrangler.viewer.v0+json": {
       "columns": [
        {
         "name": "index",
         "rawType": "int64",
         "type": "integer"
        },
        {
         "name": "typeofsales",
         "rawType": "object",
         "type": "string"
        },
        {
         "name": "patient_id",
         "rawType": "int64",
         "type": "integer"
        },
        {
         "name": "specialisation",
         "rawType": "object",
         "type": "string"
        },
        {
         "name": "dept",
         "rawType": "object",
         "type": "string"
        },
        {
         "name": "dateofbill",
         "rawType": "datetime64[ns]",
         "type": "datetime"
        },
        {
         "name": "quantity",
         "rawType": "int64",
         "type": "integer"
        },
        {
         "name": "returnquantity",
         "rawType": "int64",
         "type": "integer"
        },
        {
         "name": "final_cost",
         "rawType": "float64",
         "type": "float"
        },
        {
         "name": "final_sales",
         "rawType": "float64",
         "type": "float"
        },
        {
         "name": "rtnmrp",
         "rawType": "float64",
         "type": "float"
        },
        {
         "name": "formulation",
         "rawType": "object",
         "type": "string"
        },
        {
         "name": "drugname",
         "rawType": "object",
         "type": "string"
        },
        {
         "name": "subcat",
         "rawType": "object",
         "type": "string"
        },
        {
         "name": "subcat1",
         "rawType": "object",
         "type": "string"
        },
        {
         "name": "month_name",
         "rawType": "object",
         "type": "string"
        },
        {
         "name": "month_number",
         "rawType": "int32",
         "type": "integer"
        },
        {
         "name": "week_number",
         "rawType": "UInt32",
         "type": "integer"
        },
        {
         "name": "bi_weekly",
         "rawType": "int32",
         "type": "integer"
        }
       ],
       "conversionMethod": "pd.DataFrame",
       "ref": "7cc28f73-8166-466f-9955-aeef010bf779",
       "rows": [
        [
         "7186",
         "Sale",
         "12018092575",
         "Specialisation20",
         "Department1",
         "2022-10-11 00:00:00",
         "3",
         "0",
         "78.976",
         "172.704",
         "0.0",
         "Form1",
         "SODIUM CHLORIDE 0.9%",
         "IV FLUIDS, ELECTROLYTES, TPN",
         "INTRAVENOUS & OTHER STERILE SOLUTIONS",
         "October",
         "10",
         "41",
         "1"
        ],
        [
         "13591",
         "Sale",
         "12018068231",
         "Specialisation23",
         "Department1",
         "2022-09-14 00:00:00",
         "1",
         "0",
         "284.16",
         "325.0",
         "0.0",
         "Form1",
         "EPOETIN BETA",
         "INJECTIONS",
         "CARDIIVASCULAR&HEMATOPOIETIC SYSTEM",
         "September",
         "9",
         "37",
         "1"
        ],
        [
         "6160",
         "Sale",
         "12018123972",
         "Specialisation6",
         "Department1",
         "2022-12-27 00:00:00",
         "3",
         "0",
         "66.88",
         "183.678",
         "0.0",
         "Form1",
         "AMOXYCILLIN 250MG + CLAVULANIC ACID 50MG",
         "INJECTIONS",
         "ANTI-INFECTIVES",
         "December",
         "12",
         "52",
         "2"
        ],
        [
         "3543",
         "Sale",
         "12018095061",
         "Specialisation4",
         "Department2",
         "2022-02-08 00:00:00",
         "5",
         "0",
         "96.516",
         "344.5",
         "0.0",
         "Form1",
         "ATRACURIUM BESYLATE 25MG/2.5ML",
         "INJECTIONS",
         "MUSCULO-SKELETAL SYSTEM",
         "February",
         "2",
         "6",
         "1"
        ],
        [
         "9687",
         "Sale",
         "12018090142",
         "Specialisation8",
         "Department1",
         "2022-12-05 00:00:00",
         "3",
         "0",
         "114.592",
         "290.4",
         "0.0",
         "Form1",
         "MULTIPLE ELECTROLYTES 500ML IVF",
         "IV FLUIDS, ELECTROLYTES, TPN",
         "INTRAVENOUS & OTHER STERILE SOLUTIONS",
         "December",
         "12",
         "49",
         "1"
        ]
       ],
       "shape": {
        "columns": 18,
        "rows": 5
       }
      },
      "text/html": [
       "<div>\n",
       "<style scoped>\n",
       "    .dataframe tbody tr th:only-of-type {\n",
       "        vertical-align: middle;\n",
       "    }\n",
       "\n",
       "    .dataframe tbody tr th {\n",
       "        vertical-align: top;\n",
       "    }\n",
       "\n",
       "    .dataframe thead th {\n",
       "        text-align: right;\n",
       "    }\n",
       "</style>\n",
       "<table border=\"1\" class=\"dataframe\">\n",
       "  <thead>\n",
       "    <tr style=\"text-align: right;\">\n",
       "      <th></th>\n",
       "      <th>typeofsales</th>\n",
       "      <th>patient_id</th>\n",
       "      <th>specialisation</th>\n",
       "      <th>dept</th>\n",
       "      <th>dateofbill</th>\n",
       "      <th>quantity</th>\n",
       "      <th>returnquantity</th>\n",
       "      <th>final_cost</th>\n",
       "      <th>final_sales</th>\n",
       "      <th>rtnmrp</th>\n",
       "      <th>formulation</th>\n",
       "      <th>drugname</th>\n",
       "      <th>subcat</th>\n",
       "      <th>subcat1</th>\n",
       "      <th>month_name</th>\n",
       "      <th>month_number</th>\n",
       "      <th>week_number</th>\n",
       "      <th>bi_weekly</th>\n",
       "    </tr>\n",
       "  </thead>\n",
       "  <tbody>\n",
       "    <tr>\n",
       "      <th>7186</th>\n",
       "      <td>Sale</td>\n",
       "      <td>12018092575</td>\n",
       "      <td>Specialisation20</td>\n",
       "      <td>Department1</td>\n",
       "      <td>2022-10-11</td>\n",
       "      <td>3</td>\n",
       "      <td>0</td>\n",
       "      <td>78.976</td>\n",
       "      <td>172.704</td>\n",
       "      <td>0.0</td>\n",
       "      <td>Form1</td>\n",
       "      <td>SODIUM CHLORIDE 0.9%</td>\n",
       "      <td>IV FLUIDS, ELECTROLYTES, TPN</td>\n",
       "      <td>INTRAVENOUS &amp; OTHER STERILE SOLUTIONS</td>\n",
       "      <td>October</td>\n",
       "      <td>10</td>\n",
       "      <td>41</td>\n",
       "      <td>1</td>\n",
       "    </tr>\n",
       "    <tr>\n",
       "      <th>13591</th>\n",
       "      <td>Sale</td>\n",
       "      <td>12018068231</td>\n",
       "      <td>Specialisation23</td>\n",
       "      <td>Department1</td>\n",
       "      <td>2022-09-14</td>\n",
       "      <td>1</td>\n",
       "      <td>0</td>\n",
       "      <td>284.160</td>\n",
       "      <td>325.000</td>\n",
       "      <td>0.0</td>\n",
       "      <td>Form1</td>\n",
       "      <td>EPOETIN BETA</td>\n",
       "      <td>INJECTIONS</td>\n",
       "      <td>CARDIIVASCULAR&amp;HEMATOPOIETIC SYSTEM</td>\n",
       "      <td>September</td>\n",
       "      <td>9</td>\n",
       "      <td>37</td>\n",
       "      <td>1</td>\n",
       "    </tr>\n",
       "    <tr>\n",
       "      <th>6160</th>\n",
       "      <td>Sale</td>\n",
       "      <td>12018123972</td>\n",
       "      <td>Specialisation6</td>\n",
       "      <td>Department1</td>\n",
       "      <td>2022-12-27</td>\n",
       "      <td>3</td>\n",
       "      <td>0</td>\n",
       "      <td>66.880</td>\n",
       "      <td>183.678</td>\n",
       "      <td>0.0</td>\n",
       "      <td>Form1</td>\n",
       "      <td>AMOXYCILLIN 250MG + CLAVULANIC ACID 50MG</td>\n",
       "      <td>INJECTIONS</td>\n",
       "      <td>ANTI-INFECTIVES</td>\n",
       "      <td>December</td>\n",
       "      <td>12</td>\n",
       "      <td>52</td>\n",
       "      <td>2</td>\n",
       "    </tr>\n",
       "    <tr>\n",
       "      <th>3543</th>\n",
       "      <td>Sale</td>\n",
       "      <td>12018095061</td>\n",
       "      <td>Specialisation4</td>\n",
       "      <td>Department2</td>\n",
       "      <td>2022-02-08</td>\n",
       "      <td>5</td>\n",
       "      <td>0</td>\n",
       "      <td>96.516</td>\n",
       "      <td>344.500</td>\n",
       "      <td>0.0</td>\n",
       "      <td>Form1</td>\n",
       "      <td>ATRACURIUM BESYLATE 25MG/2.5ML</td>\n",
       "      <td>INJECTIONS</td>\n",
       "      <td>MUSCULO-SKELETAL SYSTEM</td>\n",
       "      <td>February</td>\n",
       "      <td>2</td>\n",
       "      <td>6</td>\n",
       "      <td>1</td>\n",
       "    </tr>\n",
       "    <tr>\n",
       "      <th>9687</th>\n",
       "      <td>Sale</td>\n",
       "      <td>12018090142</td>\n",
       "      <td>Specialisation8</td>\n",
       "      <td>Department1</td>\n",
       "      <td>2022-12-05</td>\n",
       "      <td>3</td>\n",
       "      <td>0</td>\n",
       "      <td>114.592</td>\n",
       "      <td>290.400</td>\n",
       "      <td>0.0</td>\n",
       "      <td>Form1</td>\n",
       "      <td>MULTIPLE ELECTROLYTES 500ML IVF</td>\n",
       "      <td>IV FLUIDS, ELECTROLYTES, TPN</td>\n",
       "      <td>INTRAVENOUS &amp; OTHER STERILE SOLUTIONS</td>\n",
       "      <td>December</td>\n",
       "      <td>12</td>\n",
       "      <td>49</td>\n",
       "      <td>1</td>\n",
       "    </tr>\n",
       "  </tbody>\n",
       "</table>\n",
       "</div>"
      ],
      "text/plain": [
       "      typeofsales   patient_id    specialisation         dept dateofbill  \\\n",
       "7186         Sale  12018092575  Specialisation20  Department1 2022-10-11   \n",
       "13591        Sale  12018068231  Specialisation23  Department1 2022-09-14   \n",
       "6160         Sale  12018123972   Specialisation6  Department1 2022-12-27   \n",
       "3543         Sale  12018095061   Specialisation4  Department2 2022-02-08   \n",
       "9687         Sale  12018090142   Specialisation8  Department1 2022-12-05   \n",
       "\n",
       "       quantity  returnquantity  final_cost  final_sales  rtnmrp formulation  \\\n",
       "7186          3               0      78.976      172.704     0.0       Form1   \n",
       "13591         1               0     284.160      325.000     0.0       Form1   \n",
       "6160          3               0      66.880      183.678     0.0       Form1   \n",
       "3543          5               0      96.516      344.500     0.0       Form1   \n",
       "9687          3               0     114.592      290.400     0.0       Form1   \n",
       "\n",
       "                                       drugname                        subcat  \\\n",
       "7186                       SODIUM CHLORIDE 0.9%  IV FLUIDS, ELECTROLYTES, TPN   \n",
       "13591                              EPOETIN BETA                    INJECTIONS   \n",
       "6160   AMOXYCILLIN 250MG + CLAVULANIC ACID 50MG                    INJECTIONS   \n",
       "3543             ATRACURIUM BESYLATE 25MG/2.5ML                    INJECTIONS   \n",
       "9687            MULTIPLE ELECTROLYTES 500ML IVF  IV FLUIDS, ELECTROLYTES, TPN   \n",
       "\n",
       "                                     subcat1 month_name  month_number  \\\n",
       "7186   INTRAVENOUS & OTHER STERILE SOLUTIONS    October            10   \n",
       "13591    CARDIIVASCULAR&HEMATOPOIETIC SYSTEM  September             9   \n",
       "6160                         ANTI-INFECTIVES   December            12   \n",
       "3543                 MUSCULO-SKELETAL SYSTEM   February             2   \n",
       "9687   INTRAVENOUS & OTHER STERILE SOLUTIONS   December            12   \n",
       "\n",
       "       week_number  bi_weekly  \n",
       "7186            41          1  \n",
       "13591           37          1  \n",
       "6160            52          2  \n",
       "3543             6          1  \n",
       "9687            49          1  "
      ]
     },
     "execution_count": 5,
     "metadata": {},
     "output_type": "execute_result"
    }
   ],
   "source": [
    "df = pd.read_csv('data/med_inv_dataset.csv')\n",
    "\n",
    "df.columns = df.columns.str.lower()\n",
    "df = df.dropna()\n",
    "df['dateofbill'] = pd.to_datetime(df['dateofbill'])\n",
    "df['month_name'] = df['dateofbill'].dt.strftime('%B') # Extract month name\n",
    "df['month_number'] = df['dateofbill'].dt.month  # Extract month number\n",
    "df['week_number'] = df['dateofbill'].dt.isocalendar().week  # Extract week number\n",
    "\n",
    "# Create a bi-weekly period column\n",
    "df['bi_weekly'] = (df['dateofbill'].dt.day - 1) // 14 + 1\n",
    "\n",
    "df.sample(5)"
   ]
  },
  {
   "cell_type": "code",
   "execution_count": 6,
   "metadata": {},
   "outputs": [],
   "source": [
    "df_bi_weekly = df.groupby(['subcat', 'month_name', 'month_number', 'bi_weekly'], as_index=False).agg(\n",
    "    {\n",
    "        'quantity': 'sum',\n",
    "        'returnquantity': 'sum',\n",
    "        'final_cost': 'sum',\n",
    "        'final_sales': 'sum',\n",
    "        'rtnmrp': 'sum'\n",
    "    }\n",
    ")\n",
    "\n",
    "# Collect top 5 subcategories with the highest sum of quantity\n",
    "top_5_subcats = df_bi_weekly.groupby('subcat')['quantity'].sum().nlargest(5).index\n",
    "\n",
    "# Filter the dataframe for only the top 5 subcategories\n",
    "filtered_top_5_per_subcat = df_bi_weekly[df_bi_weekly['subcat'].isin(top_5_subcats)]"
   ]
  },
  {
   "cell_type": "code",
   "execution_count": 8,
   "metadata": {},
   "outputs": [],
   "source": [
    "filtered_df_bi_weekly = filtered_top_5_per_subcat.sort_values(by=['subcat', 'month_number', 'bi_weekly'])\n",
    "\n",
    "# Add a biweekly index for every drugname in every subcat\n",
    "filtered_df_bi_weekly['biweekly_index'] = (\n",
    "    filtered_df_bi_weekly.groupby(['subcat'])\n",
    "    .cumcount() + 1\n",
    ")\n",
    "\n",
    "# Filter rows where month_number is 4, 5, or 6 (2 and 3 is added just for their history but will get removed during the \n",
    "# feature engineering processs)\n",
    "filtered_months_df = filtered_df_bi_weekly[filtered_df_bi_weekly['month_number'].isin([2, 3, 4, 5, 6])]\n",
    "\n",
    "# The rest of the DataFrame but will remove these months later\n",
    "rest_df = filtered_df_bi_weekly"
   ]
  },
  {
   "cell_type": "code",
   "execution_count": 9,
   "metadata": {},
   "outputs": [],
   "source": [
    "def calculate_last_three_cycles(df, subcat, horizon = 'biweekly_index', quanity= 'quantity', train=False):\n",
    "    ml_df = df[(df['subcat'] == subcat)][[horizon,'subcat', quanity]]\n",
    "\n",
    "    ml_df['quantity_lastcycle']=ml_df[quanity].shift(+1)\n",
    "    ml_df['quantity_2cycleback']=ml_df[quanity].shift(+2)\n",
    "    ml_df['quantity_3cycleback']=ml_df[quanity].shift(+3)\n",
    "    ml_df['quantity_4cycleback']=ml_df[quanity].shift(+4)\n",
    "    ml_df['quantity_5cycleback']=ml_df[quanity].shift(+5)\n",
    "\n",
    "    if train:\n",
    "        ml_df = ml_df[~ml_df[horizon].isin([9, 10, 11, 12, 13, 14, 15, 16, 17])]\n",
    "\n",
    "    ml_df = ml_df.dropna() #dropping na is necessary to avoid model failure other option\n",
    "\n",
    "    X = ml_df[['subcat', horizon,'quantity_lastcycle', 'quantity_2cycleback', 'quantity_3cycleback', 'quantity_4cycleback', 'quantity_5cycleback']]\n",
    "    y = ml_df[['subcat', quanity]]\n",
    "    return X, y"
   ]
  },
  {
   "cell_type": "code",
   "execution_count": 10,
   "metadata": {},
   "outputs": [],
   "source": [
    "trainX = pd.DataFrame(columns=['subcat', 'quantity_lastcycle', 'quantity_2cycleback', 'quantity_3cycleback', \n",
    "                               'quantity_4cycleback','quantity_5cycleback'])\n",
    "trainY = pd.DataFrame(columns=['subcat', 'quantity'])\n",
    "\n",
    "trainX_rtn = pd.DataFrame(columns=['subcat', 'quantity_lastcycle', 'quantity_2cycleback', 'quantity_3cycleback', \n",
    "                               'quantity_4cycleback','quantity_5cycleback'])\n",
    "trainY_rtn = pd.DataFrame(columns=['subcat', 'returnquantity'])\n",
    "\n",
    "list_subcat = filtered_top_5_per_subcat['subcat'].unique().tolist()"
   ]
  },
  {
   "cell_type": "code",
   "execution_count": 11,
   "metadata": {},
   "outputs": [],
   "source": [
    "subcat_dict = {\n",
    "    list_subcat[0]: {'Capacity': 200, 'shelf_life': (3,8), 'unit_cost': (40.85,322.27), 'salvage_value': (1,617.76)},\n",
    "    list_subcat[1]: {'Capacity': 400, 'shelf_life': (2,5), 'unit_cost': (40.00,3178.00), 'salvage_value': (1,8014.0)},\n",
    "    list_subcat[2]: {'Capacity': 100, 'shelf_life': (1,4), 'unit_cost': (40.00,3719.00), 'salvage_value': (1,4462.8)},\n",
    "    list_subcat[3]: {'Capacity': 100, 'shelf_life': (1,3), 'unit_cost': (42.95,594.95), 'salvage_value': (1,327.11)},\n",
    "    list_subcat[4]: {'Capacity': 300, 'shelf_life': (5,10), 'unit_cost': (40.00,3491.09), 'salvage_value': (1,1226.0)}\n",
    "}"
   ]
  },
  {
   "cell_type": "code",
   "execution_count": 12,
   "metadata": {},
   "outputs": [
    {
     "name": "stderr",
     "output_type": "stream",
     "text": [
      "/var/folders/dc/n7cp43k94blc5lmsv8p725pc0000gn/T/ipykernel_67739/1466546704.py:4: FutureWarning: The behavior of DataFrame concatenation with empty or all-NA entries is deprecated. In a future version, this will no longer exclude empty or all-NA columns when determining the result dtypes. To retain the old behavior, exclude the relevant entries before the concat operation.\n",
      "  trainX = pd.concat([X, trainX])\n",
      "/var/folders/dc/n7cp43k94blc5lmsv8p725pc0000gn/T/ipykernel_67739/1466546704.py:6: FutureWarning: The behavior of DataFrame concatenation with empty or all-NA entries is deprecated. In a future version, this will no longer exclude empty or all-NA columns when determining the result dtypes. To retain the old behavior, exclude the relevant entries before the concat operation.\n",
      "  trainX_rtn = pd.concat([X_rtn, trainX_rtn])\n"
     ]
    }
   ],
   "source": [
    "for key in list_subcat:\n",
    "    X, y = calculate_last_three_cycles(rest_df, subcat = key, quanity = 'quantity', train=True)\n",
    "    X_rtn, y_rtn = calculate_last_three_cycles(rest_df, subcat = key, quanity = 'returnquantity', train=True)\n",
    "    trainX = pd.concat([X, trainX])\n",
    "    trainY = pd.concat([y, trainY])\n",
    "    trainX_rtn = pd.concat([X_rtn, trainX_rtn])\n",
    "    trainY_rtn = pd.concat([y_rtn, trainY_rtn])"
   ]
  },
  {
   "cell_type": "code",
   "execution_count": 13,
   "metadata": {},
   "outputs": [],
   "source": [
    "testX = pd.DataFrame(columns=['subcat', 'quantity_lastcycle', 'quantity_2cycleback', 'quantity_3cycleback',\n",
    "                              'quantity_4cycleback','quantity_5cycleback'])\n",
    "testY = pd.DataFrame(columns=['subcat', 'quantity'])\n",
    "\n",
    "testX_rtn = pd.DataFrame(columns=['subcat', 'quantity_lastcycle', 'quantity_2cycleback', 'quantity_3cycleback', \n",
    "                               'quantity_4cycleback','quantity_5cycleback'])\n",
    "testY_rtn = pd.DataFrame(columns=['subcat', 'returnquantity'])"
   ]
  },
  {
   "cell_type": "code",
   "execution_count": 14,
   "metadata": {},
   "outputs": [
    {
     "name": "stderr",
     "output_type": "stream",
     "text": [
      "/var/folders/dc/n7cp43k94blc5lmsv8p725pc0000gn/T/ipykernel_67739/307547127.py:4: FutureWarning: The behavior of DataFrame concatenation with empty or all-NA entries is deprecated. In a future version, this will no longer exclude empty or all-NA columns when determining the result dtypes. To retain the old behavior, exclude the relevant entries before the concat operation.\n",
      "  testX = pd.concat([X, testX])\n",
      "/var/folders/dc/n7cp43k94blc5lmsv8p725pc0000gn/T/ipykernel_67739/307547127.py:6: FutureWarning: The behavior of DataFrame concatenation with empty or all-NA entries is deprecated. In a future version, this will no longer exclude empty or all-NA columns when determining the result dtypes. To retain the old behavior, exclude the relevant entries before the concat operation.\n",
      "  testX_rtn = pd.concat([X_rtn, testX_rtn])\n"
     ]
    }
   ],
   "source": [
    "for key in list_subcat:\n",
    "    X, y = calculate_last_three_cycles(filtered_months_df, subcat = key, quanity = 'quantity')\n",
    "    X_rtn, y_rtn = calculate_last_three_cycles(filtered_months_df, subcat = key, quanity = 'returnquantity')\n",
    "    testX = pd.concat([X, testX])\n",
    "    testY = pd.concat([y, testY])\n",
    "    testX_rtn = pd.concat([X_rtn, testX_rtn])\n",
    "    testY_rtn = pd.concat([y_rtn, testY_rtn])"
   ]
  },
  {
   "cell_type": "markdown",
   "metadata": {},
   "source": [
    "## Predictive Analysis - Part 1"
   ]
  },
  {
   "cell_type": "markdown",
   "metadata": {},
   "source": [
    "### Lets select one subcat here since we are trying to predict and optimize for one subcat at time\n",
    "\n",
    "Originally we implemented this on streamlit which allowed the user to use a drop down to select a subcat."
   ]
  },
  {
   "cell_type": "code",
   "execution_count": 18,
   "metadata": {},
   "outputs": [
    {
     "name": "stdout",
     "output_type": "stream",
     "text": [
      "Number 0: INHALERS & RESPULES\n",
      "Number 1: INJECTIONS\n",
      "Number 2: IV FLUIDS, ELECTROLYTES, TPN\n",
      "Number 3: LIQUIDS & SOLUTIONS\n",
      "Number 4: TABLETS & CAPSULES\n"
     ]
    }
   ],
   "source": [
    "i = 0\n",
    "for subcate in list_subcat:\n",
    "    print(f\"Number {i}: {subcate}\")\n",
    "    i+=1"
   ]
  },
  {
   "cell_type": "code",
   "execution_count": 16,
   "metadata": {},
   "outputs": [
    {
     "name": "stdout",
     "output_type": "stream",
     "text": [
      "Selected subcategory: INJECTIONS\n"
     ]
    }
   ],
   "source": [
    "selected_subcat = list_subcat[1]\n",
    "print(f\"Selected subcategory: {selected_subcat}\")"
   ]
  },
  {
   "cell_type": "code",
   "execution_count": 30,
   "metadata": {},
   "outputs": [],
   "source": [
    "filtered_df = trainX[trainX['subcat'] == selected_subcat]\n",
    "# selected_drugname = st.selectbox('Select a drug', filtered_df['drugname'].unique())\n",
    "\n",
    "# Cost Coefficients\n",
    "holding_cost = 2 # Cost per unit held\n",
    "stockout_penalty = 50  # Cost per stockout\n",
    "waste_penalty = 10 # Cost for expired stock"
   ]
  },
  {
   "cell_type": "code",
   "execution_count": 31,
   "metadata": {},
   "outputs": [],
   "source": [
    "seed = 800"
   ]
  },
  {
   "cell_type": "code",
   "execution_count": 32,
   "metadata": {},
   "outputs": [],
   "source": [
    "model = RandomForestRegressor(random_state=seed)\n",
    "model_rtn = RandomForestRegressor(random_state=seed)"
   ]
  },
  {
   "cell_type": "code",
   "execution_count": 33,
   "metadata": {},
   "outputs": [],
   "source": [
    "# This is for demand\n",
    "tempx = trainX[(trainX['subcat'] == selected_subcat)].copy()\n",
    "t_x = tempx[['quantity_lastcycle', 'quantity_2cycleback', 'quantity_3cycleback','quantity_4cycleback','quantity_5cycleback']]\n",
    "t_y = trainY[(trainY['subcat']==selected_subcat)]['quantity']\n",
    "model.fit(t_x, t_y)\n",
    "test = testX[(testX['subcat'] == selected_subcat)][['quantity_lastcycle', 'quantity_2cycleback', 'quantity_3cycleback',\n",
    "                                                                                            'quantity_4cycleback','quantity_5cycleback']]\n",
    "predicted_demand = model.predict(test)\n",
    "predicted_demand = np.ceil(predicted_demand).astype(int) "
   ]
  },
  {
   "cell_type": "code",
   "execution_count": 34,
   "metadata": {},
   "outputs": [
    {
     "data": {
      "text/plain": [
       "array([466, 481, 137, 471, 520, 162, 473, 377, 219])"
      ]
     },
     "execution_count": 34,
     "metadata": {},
     "output_type": "execute_result"
    }
   ],
   "source": [
    "predicted_demand"
   ]
  },
  {
   "cell_type": "code",
   "execution_count": 35,
   "metadata": {},
   "outputs": [],
   "source": [
    "# This is for return qty\n",
    "tempx_rtn = trainX_rtn[(trainX_rtn['subcat'] == selected_subcat)].copy()\n",
    "t_x = tempx_rtn[['quantity_lastcycle', 'quantity_2cycleback', 'quantity_3cycleback','quantity_4cycleback','quantity_5cycleback']]\n",
    "t_y = trainY_rtn[(trainY_rtn['subcat']==selected_subcat)]['returnquantity']\n",
    "\n",
    "model_rtn.fit(t_x, t_y)\n",
    "\n",
    "test = testX_rtn[(testX_rtn['subcat'] == selected_subcat)][['quantity_lastcycle', 'quantity_2cycleback', 'quantity_3cycleback',\n",
    "                                                                                                'quantity_4cycleback','quantity_5cycleback']]\n",
    "predicted_return = model_rtn.predict(test)\n",
    "predicted_return = np.ceil(predicted_return).astype(int) "
   ]
  },
  {
   "cell_type": "code",
   "execution_count": 36,
   "metadata": {},
   "outputs": [],
   "source": [
    "test_index = testX[(testX['subcat'] == selected_subcat)]['biweekly_index']\n",
    "    \n",
    "T = len(predicted_demand)-1\n",
    "\n",
    "temp_dict = subcat_dict[selected_subcat]\n",
    "\n",
    "# Create a DataFrame with biweekly_index and predicted_demand\n",
    "prediction_df = pd.DataFrame({\n",
    "    'biweekly_index': test_index,\n",
    "    'Predicted_Demand': predicted_demand,\n",
    "    'Return_Prediction': predicted_return,\n",
    "    \"Unit_Cost\": np.random.uniform(temp_dict['unit_cost'][0], temp_dict['unit_cost'][1], len(predicted_demand)),  \n",
    "    \"Salvage_Value\": np.random.uniform(temp_dict['salvage_value'][0], temp_dict['salvage_value'][1], len(predicted_demand)),\n",
    "    \"Shelf_Life\": np.random.randint(temp_dict['shelf_life'][0], temp_dict['shelf_life'][1], len(predicted_demand))  \n",
    "})"
   ]
  },
  {
   "cell_type": "code",
   "execution_count": 37,
   "metadata": {},
   "outputs": [],
   "source": [
    "# Create a temporary table with biweekly_index, month_name, and bi_weekly\n",
    "temp_table = filtered_df_bi_weekly[['biweekly_index', 'month_name', 'bi_weekly']].drop_duplicates()\n",
    "\n",
    "# Create a temporary table with biweekly_index, month_name, and bi_weekly\n",
    "temp_table = filtered_df_bi_weekly[['biweekly_index', 'month_name', 'bi_weekly']].drop_duplicates()\n",
    "\n",
    "# Join prediction_df with the temp_table on biweekly_index\n",
    "prediction_df = prediction_df.merge(temp_table, on='biweekly_index', how='left')\n",
    "# Reorder columns to place month_name and bi_weekly at the beginning\n",
    "columns_order = ['month_name', 'bi_weekly'] + [col for col in prediction_df.columns if col not in ['month_name', 'bi_weekly']]\n",
    "prediction_df = prediction_df[columns_order]\n",
    "\n",
    "# Rename 'bi_weekly' to 'cycle_number'\n",
    "prediction_df.rename(columns={'bi_weekly': 'cycle_number'}, inplace=True)\n",
    "\n",
    "# Drop the 'biweekly_index' column\n",
    "prediction_df.drop(columns=['biweekly_index'], inplace=True)\n",
    "\n",
    "prediction_df = prediction_df.reset_index(drop=True)"
   ]
  },
  {
   "cell_type": "code",
   "execution_count": 28,
   "metadata": {},
   "outputs": [
    {
     "data": {
      "application/vnd.microsoft.datawrangler.viewer.v0+json": {
       "columns": [
        {
         "name": "index",
         "rawType": "int64",
         "type": "integer"
        },
        {
         "name": "month_name",
         "rawType": "object",
         "type": "string"
        },
        {
         "name": "cycle_number",
         "rawType": "int32",
         "type": "integer"
        },
        {
         "name": "Predicted_Demand",
         "rawType": "int64",
         "type": "integer"
        },
        {
         "name": "Return_Prediction",
         "rawType": "int64",
         "type": "integer"
        },
        {
         "name": "Unit_Cost",
         "rawType": "float64",
         "type": "float"
        },
        {
         "name": "Salvage_Value",
         "rawType": "float64",
         "type": "float"
        },
        {
         "name": "Shelf_Life",
         "rawType": "int64",
         "type": "integer"
        }
       ],
       "conversionMethod": "pd.DataFrame",
       "ref": "13662d19-3e00-4ec9-8887-bea6162d6d10",
       "rows": [
        [
         "0",
         "April",
         "1",
         "466",
         "54",
         "71.07944977318948",
         "5956.15860895898",
         "2"
        ],
        [
         "1",
         "April",
         "2",
         "481",
         "68",
         "753.2463537941092",
         "6349.414320561583",
         "2"
        ],
        [
         "2",
         "April",
         "3",
         "137",
         "17",
         "2214.642215693079",
         "7783.717173695702",
         "3"
        ],
        [
         "3",
         "May",
         "1",
         "471",
         "56",
         "1510.8635273762093",
         "7966.760976977814",
         "3"
        ],
        [
         "4",
         "May",
         "2",
         "520",
         "46",
         "86.69261192370145",
         "6738.661872238813",
         "2"
        ],
        [
         "5",
         "May",
         "3",
         "162",
         "9",
         "852.201261652151",
         "7653.5954064015505",
         "2"
        ],
        [
         "6",
         "June",
         "1",
         "473",
         "46",
         "1208.9816588370816",
         "2050.843844033676",
         "4"
        ],
        [
         "7",
         "June",
         "2",
         "377",
         "50",
         "1927.9799365138422",
         "3547.3795558557326",
         "4"
        ],
        [
         "8",
         "June",
         "3",
         "219",
         "31",
         "2320.1591171719406",
         "3207.2453897892747",
         "4"
        ],
        [
         "9",
         "July",
         "1",
         "219",
         "31",
         "2320.1591171719406",
         "3207.2453897892747",
         "4"
        ]
       ],
       "shape": {
        "columns": 7,
        "rows": 10
       }
      },
      "text/html": [
       "<div>\n",
       "<style scoped>\n",
       "    .dataframe tbody tr th:only-of-type {\n",
       "        vertical-align: middle;\n",
       "    }\n",
       "\n",
       "    .dataframe tbody tr th {\n",
       "        vertical-align: top;\n",
       "    }\n",
       "\n",
       "    .dataframe thead th {\n",
       "        text-align: right;\n",
       "    }\n",
       "</style>\n",
       "<table border=\"1\" class=\"dataframe\">\n",
       "  <thead>\n",
       "    <tr style=\"text-align: right;\">\n",
       "      <th></th>\n",
       "      <th>month_name</th>\n",
       "      <th>cycle_number</th>\n",
       "      <th>Predicted_Demand</th>\n",
       "      <th>Return_Prediction</th>\n",
       "      <th>Unit_Cost</th>\n",
       "      <th>Salvage_Value</th>\n",
       "      <th>Shelf_Life</th>\n",
       "    </tr>\n",
       "  </thead>\n",
       "  <tbody>\n",
       "    <tr>\n",
       "      <th>0</th>\n",
       "      <td>April</td>\n",
       "      <td>1</td>\n",
       "      <td>466</td>\n",
       "      <td>54</td>\n",
       "      <td>71.079450</td>\n",
       "      <td>5956.158609</td>\n",
       "      <td>2</td>\n",
       "    </tr>\n",
       "    <tr>\n",
       "      <th>1</th>\n",
       "      <td>April</td>\n",
       "      <td>2</td>\n",
       "      <td>481</td>\n",
       "      <td>68</td>\n",
       "      <td>753.246354</td>\n",
       "      <td>6349.414321</td>\n",
       "      <td>2</td>\n",
       "    </tr>\n",
       "    <tr>\n",
       "      <th>2</th>\n",
       "      <td>April</td>\n",
       "      <td>3</td>\n",
       "      <td>137</td>\n",
       "      <td>17</td>\n",
       "      <td>2214.642216</td>\n",
       "      <td>7783.717174</td>\n",
       "      <td>3</td>\n",
       "    </tr>\n",
       "    <tr>\n",
       "      <th>3</th>\n",
       "      <td>May</td>\n",
       "      <td>1</td>\n",
       "      <td>471</td>\n",
       "      <td>56</td>\n",
       "      <td>1510.863527</td>\n",
       "      <td>7966.760977</td>\n",
       "      <td>3</td>\n",
       "    </tr>\n",
       "    <tr>\n",
       "      <th>4</th>\n",
       "      <td>May</td>\n",
       "      <td>2</td>\n",
       "      <td>520</td>\n",
       "      <td>46</td>\n",
       "      <td>86.692612</td>\n",
       "      <td>6738.661872</td>\n",
       "      <td>2</td>\n",
       "    </tr>\n",
       "    <tr>\n",
       "      <th>5</th>\n",
       "      <td>May</td>\n",
       "      <td>3</td>\n",
       "      <td>162</td>\n",
       "      <td>9</td>\n",
       "      <td>852.201262</td>\n",
       "      <td>7653.595406</td>\n",
       "      <td>2</td>\n",
       "    </tr>\n",
       "    <tr>\n",
       "      <th>6</th>\n",
       "      <td>June</td>\n",
       "      <td>1</td>\n",
       "      <td>473</td>\n",
       "      <td>46</td>\n",
       "      <td>1208.981659</td>\n",
       "      <td>2050.843844</td>\n",
       "      <td>4</td>\n",
       "    </tr>\n",
       "    <tr>\n",
       "      <th>7</th>\n",
       "      <td>June</td>\n",
       "      <td>2</td>\n",
       "      <td>377</td>\n",
       "      <td>50</td>\n",
       "      <td>1927.979937</td>\n",
       "      <td>3547.379556</td>\n",
       "      <td>4</td>\n",
       "    </tr>\n",
       "    <tr>\n",
       "      <th>8</th>\n",
       "      <td>June</td>\n",
       "      <td>3</td>\n",
       "      <td>219</td>\n",
       "      <td>31</td>\n",
       "      <td>2320.159117</td>\n",
       "      <td>3207.245390</td>\n",
       "      <td>4</td>\n",
       "    </tr>\n",
       "    <tr>\n",
       "      <th>9</th>\n",
       "      <td>July</td>\n",
       "      <td>1</td>\n",
       "      <td>219</td>\n",
       "      <td>31</td>\n",
       "      <td>2320.159117</td>\n",
       "      <td>3207.245390</td>\n",
       "      <td>4</td>\n",
       "    </tr>\n",
       "  </tbody>\n",
       "</table>\n",
       "</div>"
      ],
      "text/plain": [
       "  month_name  cycle_number  Predicted_Demand  Return_Prediction    Unit_Cost  \\\n",
       "0      April             1               466                 54    71.079450   \n",
       "1      April             2               481                 68   753.246354   \n",
       "2      April             3               137                 17  2214.642216   \n",
       "3        May             1               471                 56  1510.863527   \n",
       "4        May             2               520                 46    86.692612   \n",
       "5        May             3               162                  9   852.201262   \n",
       "6       June             1               473                 46  1208.981659   \n",
       "7       June             2               377                 50  1927.979937   \n",
       "8       June             3               219                 31  2320.159117   \n",
       "9       July             1               219                 31  2320.159117   \n",
       "\n",
       "   Salvage_Value  Shelf_Life  \n",
       "0    5956.158609           2  \n",
       "1    6349.414321           2  \n",
       "2    7783.717174           3  \n",
       "3    7966.760977           3  \n",
       "4    6738.661872           2  \n",
       "5    7653.595406           2  \n",
       "6    2050.843844           4  \n",
       "7    3547.379556           4  \n",
       "8    3207.245390           4  \n",
       "9    3207.245390           4  "
      ]
     },
     "execution_count": 28,
     "metadata": {},
     "output_type": "execute_result"
    }
   ],
   "source": [
    "prediction_df"
   ]
  },
  {
   "cell_type": "markdown",
   "metadata": {},
   "source": [
    "## Prescriptive Analysis\n",
    "\n",
    "This is where Part 2 of the prescriptive model begins"
   ]
  },
  {
   "cell_type": "code",
   "execution_count": 38,
   "metadata": {},
   "outputs": [],
   "source": [
    "# Gurobi Model\n",
    "model = Model(\"Multi_Period_Medical_Inventory_Optimization\")\n",
    "\n",
    "# Decision Variables\n",
    "Q = model.addVars(prediction_df.index, vtype=GRB.CONTINUOUS, name=\"OrderQty\")  # Order quantity\n",
    "\n",
    "# State Variables\n",
    "I = model.addVars(prediction_df.index, vtype=GRB.CONTINUOUS, name=\"Inventory\")  # Inventory level\n",
    "\n",
    "# Auxiliary Variables (Derived)\n",
    "Y = model.addVars(prediction_df.index, vtype=GRB.CONTINUOUS, name=\"Expired\")   # Expired stock\n",
    "S = model.addVars(prediction_df.index, vtype=GRB.CONTINUOUS, name=\"Stockout\")  # Stockout\n",
    "\n",
    "# Objective: Minimize Total Cost\n",
    "model.setObjective(\n",
    "    sum(prediction_df.loc[i, \"Unit_Cost\"] * Q[i] + \n",
    "        holding_cost * (I[i]) +\n",
    "        stockout_penalty * S[i] + \n",
    "        waste_penalty * Y[i] - \n",
    "        prediction_df.loc[i, \"Salvage_Value\"] * prediction_df.loc[i, \"Return_Prediction\"]\n",
    "        for i in prediction_df.index),\n",
    "    GRB.MINIMIZE\n",
    ")"
   ]
  },
  {
   "cell_type": "code",
   "execution_count": null,
   "metadata": {},
   "outputs": [],
   "source": [
    "# Constraints:\n",
    "for i in prediction_df.index:\n",
    "    # Safety Stock Constraint\n",
    "    safety_stock = 0.2 * prediction_df[\"Predicted_Demand\"]  # Example: 20% of demand as buffer\n",
    "    \n",
    "    # Inventory Balance Constraint\n",
    "    if i >= T:  # Ensure we don't reference out-of-bounds indices\n",
    "        continue\n",
    "    \n",
    "    # Starting Inventory at capacity\n",
    "    model.addConstr(I[0] == subcat_dict[selected_subcat]['Capacity'], name=f\"Initial_Inventory{i}\")\n",
    "    \n",
    "    # Ensure inventory level meets safety stock requirements\n",
    "    model.addConstr(I[i] >= safety_stock[i], name=f\"SafetyStock_{i}\")\n",
    "    \n",
    "    model.addConstr(I[i+1] == I[i] + Q[i] + prediction_df.loc[i, \"Return_Prediction\"] - prediction_df.loc[i, \"Predicted_Demand\"] - Y[i], name=f\"Inventory_Balance_{i}\")\n",
    "\n",
    "    model.addConstr(I[i+1] <= subcat_dict[selected_subcat]['Capacity'], name=f\"Space_constraint{i}\")\n",
    "    \n",
    "    # Expired Inventory Constraint\n",
    "    model.addConstr(Y[i] <= I[i], name=f\"Expiry_{i}\")\n",
    "\n",
    "    # Stockout Constraint\n",
    "    model.addConstr(S[i] >= prediction_df.loc[i, \"Predicted_Demand\"] - I[i] - Q[i], name=f\"Stockout_{i}\")"
   ]
  },
  {
   "cell_type": "code",
   "execution_count": 40,
   "metadata": {},
   "outputs": [
    {
     "name": "stdout",
     "output_type": "stream",
     "text": [
      "Gurobi Optimizer version 12.0.1 build v12.0.1rc0 (mac64[x86] - Darwin 24.3.0 24D81)\n",
      "\n",
      "CPU model: Intel(R) Core(TM) i7-8557U CPU @ 1.70GHz\n",
      "Thread count: 4 physical cores, 8 logical processors, using up to 8 threads\n",
      "\n",
      "Optimize a model with 40 rows, 40 columns and 88 nonzeros\n",
      "Model fingerprint: 0xe94167fa\n",
      "Coefficient statistics:\n",
      "  Matrix range     [1e+00, 1e+00]\n",
      "  Objective range  [2e+00, 3e+03]\n",
      "  Bounds range     [0e+00, 0e+00]\n",
      "  RHS range        [3e+01, 5e+02]\n",
      "Presolve removed 29 rows and 23 columns\n",
      "Presolve time: 0.01s\n",
      "Presolved: 11 rows, 17 columns, 31 nonzeros\n",
      "\n",
      "Iteration    Objective       Primal Inf.    Dual Inf.      Time\n",
      "       0   -1.2550960e+06   1.581000e+02   0.000000e+00      0s\n",
      "       6   -5.2064684e+05   0.000000e+00   0.000000e+00      0s\n",
      "\n",
      "Solved in 6 iterations and 0.01 seconds (0.00 work units)\n",
      "Optimal objective -5.206468394e+05\n"
     ]
    }
   ],
   "source": [
    "# Solve Model\n",
    "model.optimize()"
   ]
  },
  {
   "cell_type": "code",
   "execution_count": 41,
   "metadata": {},
   "outputs": [],
   "source": [
    "prediction_df[\"Optimal_Order\"] = [Q[i].x for i in prediction_df.index]\n",
    "prediction_df[\"Inventory_Level\"] = [I[i].x for i in prediction_df.index]\n",
    "prediction_df[\"Expired_Stock\"] = [Y[i].x for i in prediction_df.index]\n",
    "prediction_df[\"Stockouts\"] = [S[i].x for i in prediction_df.index]"
   ]
  },
  {
   "cell_type": "code",
   "execution_count": 45,
   "metadata": {},
   "outputs": [
    {
     "data": {
      "application/vnd.microsoft.datawrangler.viewer.v0+json": {
       "columns": [
        {
         "name": "index",
         "rawType": "int64",
         "type": "integer"
        },
        {
         "name": "month_name",
         "rawType": "object",
         "type": "string"
        },
        {
         "name": "cycle_number",
         "rawType": "int32",
         "type": "integer"
        },
        {
         "name": "Predicted_Demand",
         "rawType": "int64",
         "type": "integer"
        },
        {
         "name": "Return_Prediction",
         "rawType": "int64",
         "type": "integer"
        },
        {
         "name": "Unit_Cost",
         "rawType": "float64",
         "type": "float"
        },
        {
         "name": "Salvage_Value",
         "rawType": "float64",
         "type": "float"
        },
        {
         "name": "Shelf_Life",
         "rawType": "int64",
         "type": "integer"
        },
        {
         "name": "Optimal_Order",
         "rawType": "float64",
         "type": "float"
        },
        {
         "name": "Inventory_Level",
         "rawType": "float64",
         "type": "float"
        },
        {
         "name": "Expired_Stock",
         "rawType": "float64",
         "type": "float"
        },
        {
         "name": "Stockouts",
         "rawType": "float64",
         "type": "float"
        }
       ],
       "conversionMethod": "pd.DataFrame",
       "ref": "c42d59d2-97fc-47b2-97ed-de970ef1f26d",
       "rows": [
        [
         "0",
         "April",
         "1",
         "466",
         "54",
         "1657.018954037395",
         "1995.8336787370577",
         "2",
         "0.0",
         "812.0",
         "0.0",
         "0.0"
        ],
        [
         "1",
         "April",
         "2",
         "481",
         "68",
         "1304.9645613766709",
         "3430.611892918372",
         "4",
         "227.20000000000005",
         "400.0",
         "0.0",
         "0.0"
        ],
        [
         "2",
         "April",
         "3",
         "137",
         "17",
         "1791.0651708319142",
         "2555.0127743436824",
         "4",
         "0.0",
         "214.2",
         "0.0",
         "0.0"
        ],
        [
         "3",
         "May",
         "1",
         "471",
         "56",
         "485.87085325774444",
         "5692.207903059818",
         "4",
         "720.8",
         "94.2",
         "0.0",
         "0.0"
        ],
        [
         "4",
         "May",
         "2",
         "520",
         "46",
         "2754.7483066251275",
         "5336.35944888337",
         "3",
         "106.39999999999998",
         "400.0",
         "0.0",
         "13.600000000000023"
        ],
        [
         "5",
         "May",
         "3",
         "162",
         "9",
         "836.3018761154249",
         "3496.187609106672",
         "4",
         "215.20000000000002",
         "32.4",
         "0.0",
         "0.0"
        ],
        [
         "6",
         "June",
         "1",
         "473",
         "46",
         "339.4001380157641",
         "5629.673984005499",
         "4",
         "659.4",
         "94.60000000000001",
         "0.0",
         "0.0"
        ],
        [
         "7",
         "June",
         "2",
         "377",
         "50",
         "2652.499942128746",
         "7065.367509993075",
         "4",
         "0.0",
         "327.0",
         "0.0",
         "50.0"
        ],
        [
         "8",
         "June",
         "3",
         "219",
         "31",
         "704.2503265775961",
         "4511.774909525239",
         "4",
         "0.0",
         "0.0",
         "0.0",
         "0.0"
        ],
        [
         "9",
         "July",
         "1",
         "219",
         "31",
         "704.2503265775961",
         "4511.774909525239",
         "4",
         "0.0",
         "0.0",
         "0.0",
         "0.0"
        ]
       ],
       "shape": {
        "columns": 11,
        "rows": 10
       }
      },
      "text/html": [
       "<div>\n",
       "<style scoped>\n",
       "    .dataframe tbody tr th:only-of-type {\n",
       "        vertical-align: middle;\n",
       "    }\n",
       "\n",
       "    .dataframe tbody tr th {\n",
       "        vertical-align: top;\n",
       "    }\n",
       "\n",
       "    .dataframe thead th {\n",
       "        text-align: right;\n",
       "    }\n",
       "</style>\n",
       "<table border=\"1\" class=\"dataframe\">\n",
       "  <thead>\n",
       "    <tr style=\"text-align: right;\">\n",
       "      <th></th>\n",
       "      <th>month_name</th>\n",
       "      <th>cycle_number</th>\n",
       "      <th>Predicted_Demand</th>\n",
       "      <th>Return_Prediction</th>\n",
       "      <th>Unit_Cost</th>\n",
       "      <th>Salvage_Value</th>\n",
       "      <th>Shelf_Life</th>\n",
       "      <th>Optimal_Order</th>\n",
       "      <th>Inventory_Level</th>\n",
       "      <th>Expired_Stock</th>\n",
       "      <th>Stockouts</th>\n",
       "    </tr>\n",
       "  </thead>\n",
       "  <tbody>\n",
       "    <tr>\n",
       "      <th>0</th>\n",
       "      <td>April</td>\n",
       "      <td>1</td>\n",
       "      <td>466</td>\n",
       "      <td>54</td>\n",
       "      <td>1657.018954</td>\n",
       "      <td>1995.833679</td>\n",
       "      <td>2</td>\n",
       "      <td>0.0</td>\n",
       "      <td>812.0</td>\n",
       "      <td>0.0</td>\n",
       "      <td>0.0</td>\n",
       "    </tr>\n",
       "    <tr>\n",
       "      <th>1</th>\n",
       "      <td>April</td>\n",
       "      <td>2</td>\n",
       "      <td>481</td>\n",
       "      <td>68</td>\n",
       "      <td>1304.964561</td>\n",
       "      <td>3430.611893</td>\n",
       "      <td>4</td>\n",
       "      <td>227.2</td>\n",
       "      <td>400.0</td>\n",
       "      <td>0.0</td>\n",
       "      <td>0.0</td>\n",
       "    </tr>\n",
       "    <tr>\n",
       "      <th>2</th>\n",
       "      <td>April</td>\n",
       "      <td>3</td>\n",
       "      <td>137</td>\n",
       "      <td>17</td>\n",
       "      <td>1791.065171</td>\n",
       "      <td>2555.012774</td>\n",
       "      <td>4</td>\n",
       "      <td>0.0</td>\n",
       "      <td>214.2</td>\n",
       "      <td>0.0</td>\n",
       "      <td>0.0</td>\n",
       "    </tr>\n",
       "    <tr>\n",
       "      <th>3</th>\n",
       "      <td>May</td>\n",
       "      <td>1</td>\n",
       "      <td>471</td>\n",
       "      <td>56</td>\n",
       "      <td>485.870853</td>\n",
       "      <td>5692.207903</td>\n",
       "      <td>4</td>\n",
       "      <td>720.8</td>\n",
       "      <td>94.2</td>\n",
       "      <td>0.0</td>\n",
       "      <td>0.0</td>\n",
       "    </tr>\n",
       "    <tr>\n",
       "      <th>4</th>\n",
       "      <td>May</td>\n",
       "      <td>2</td>\n",
       "      <td>520</td>\n",
       "      <td>46</td>\n",
       "      <td>2754.748307</td>\n",
       "      <td>5336.359449</td>\n",
       "      <td>3</td>\n",
       "      <td>106.4</td>\n",
       "      <td>400.0</td>\n",
       "      <td>0.0</td>\n",
       "      <td>13.6</td>\n",
       "    </tr>\n",
       "    <tr>\n",
       "      <th>5</th>\n",
       "      <td>May</td>\n",
       "      <td>3</td>\n",
       "      <td>162</td>\n",
       "      <td>9</td>\n",
       "      <td>836.301876</td>\n",
       "      <td>3496.187609</td>\n",
       "      <td>4</td>\n",
       "      <td>215.2</td>\n",
       "      <td>32.4</td>\n",
       "      <td>0.0</td>\n",
       "      <td>0.0</td>\n",
       "    </tr>\n",
       "    <tr>\n",
       "      <th>6</th>\n",
       "      <td>June</td>\n",
       "      <td>1</td>\n",
       "      <td>473</td>\n",
       "      <td>46</td>\n",
       "      <td>339.400138</td>\n",
       "      <td>5629.673984</td>\n",
       "      <td>4</td>\n",
       "      <td>659.4</td>\n",
       "      <td>94.6</td>\n",
       "      <td>0.0</td>\n",
       "      <td>0.0</td>\n",
       "    </tr>\n",
       "    <tr>\n",
       "      <th>7</th>\n",
       "      <td>June</td>\n",
       "      <td>2</td>\n",
       "      <td>377</td>\n",
       "      <td>50</td>\n",
       "      <td>2652.499942</td>\n",
       "      <td>7065.367510</td>\n",
       "      <td>4</td>\n",
       "      <td>0.0</td>\n",
       "      <td>327.0</td>\n",
       "      <td>0.0</td>\n",
       "      <td>50.0</td>\n",
       "    </tr>\n",
       "    <tr>\n",
       "      <th>8</th>\n",
       "      <td>June</td>\n",
       "      <td>3</td>\n",
       "      <td>219</td>\n",
       "      <td>31</td>\n",
       "      <td>704.250327</td>\n",
       "      <td>4511.774910</td>\n",
       "      <td>4</td>\n",
       "      <td>0.0</td>\n",
       "      <td>0.0</td>\n",
       "      <td>0.0</td>\n",
       "      <td>0.0</td>\n",
       "    </tr>\n",
       "    <tr>\n",
       "      <th>9</th>\n",
       "      <td>July</td>\n",
       "      <td>1</td>\n",
       "      <td>219</td>\n",
       "      <td>31</td>\n",
       "      <td>704.250327</td>\n",
       "      <td>4511.774910</td>\n",
       "      <td>4</td>\n",
       "      <td>0.0</td>\n",
       "      <td>0.0</td>\n",
       "      <td>0.0</td>\n",
       "      <td>0.0</td>\n",
       "    </tr>\n",
       "  </tbody>\n",
       "</table>\n",
       "</div>"
      ],
      "text/plain": [
       "  month_name  cycle_number  Predicted_Demand  Return_Prediction    Unit_Cost  \\\n",
       "0      April             1               466                 54  1657.018954   \n",
       "1      April             2               481                 68  1304.964561   \n",
       "2      April             3               137                 17  1791.065171   \n",
       "3        May             1               471                 56   485.870853   \n",
       "4        May             2               520                 46  2754.748307   \n",
       "5        May             3               162                  9   836.301876   \n",
       "6       June             1               473                 46   339.400138   \n",
       "7       June             2               377                 50  2652.499942   \n",
       "8       June             3               219                 31   704.250327   \n",
       "9       July             1               219                 31   704.250327   \n",
       "\n",
       "   Salvage_Value  Shelf_Life  Optimal_Order  Inventory_Level  Expired_Stock  \\\n",
       "0    1995.833679           2            0.0            812.0            0.0   \n",
       "1    3430.611893           4          227.2            400.0            0.0   \n",
       "2    2555.012774           4            0.0            214.2            0.0   \n",
       "3    5692.207903           4          720.8             94.2            0.0   \n",
       "4    5336.359449           3          106.4            400.0            0.0   \n",
       "5    3496.187609           4          215.2             32.4            0.0   \n",
       "6    5629.673984           4          659.4             94.6            0.0   \n",
       "7    7065.367510           4            0.0            327.0            0.0   \n",
       "8    4511.774910           4            0.0              0.0            0.0   \n",
       "9    4511.774910           4            0.0              0.0            0.0   \n",
       "\n",
       "   Stockouts  \n",
       "0        0.0  \n",
       "1        0.0  \n",
       "2        0.0  \n",
       "3        0.0  \n",
       "4       13.6  \n",
       "5        0.0  \n",
       "6        0.0  \n",
       "7       50.0  \n",
       "8        0.0  \n",
       "9        0.0  "
      ]
     },
     "execution_count": 45,
     "metadata": {},
     "output_type": "execute_result"
    }
   ],
   "source": [
    "prediction_df"
   ]
  },
  {
   "cell_type": "markdown",
   "metadata": {},
   "source": [
    "Each cycle represents a bi-weekly period."
   ]
  },
  {
   "cell_type": "code",
   "execution_count": 42,
   "metadata": {},
   "outputs": [
    {
     "data": {
      "application/vnd.plotly.v1+json": {
       "config": {
        "plotlyServerURL": "https://plot.ly"
       },
       "data": [
        {
         "hovertemplate": "variable=Predicted_Demand<br>Cycles=%{x}<br>Quantity=%{y}<extra></extra>",
         "legendgroup": "Predicted_Demand",
         "line": {
          "color": "#636efa",
          "dash": "solid"
         },
         "marker": {
          "symbol": "circle"
         },
         "mode": "lines",
         "name": "Predicted_Demand",
         "orientation": "v",
         "showlegend": true,
         "type": "scatter",
         "x": [
          0,
          1,
          2,
          3,
          4,
          5,
          6,
          7,
          8,
          9
         ],
         "xaxis": "x",
         "y": [
          466,
          481,
          137,
          471,
          520,
          162,
          473,
          377,
          219,
          219
         ],
         "yaxis": "y"
        },
        {
         "hovertemplate": "variable=Return_Prediction<br>Cycles=%{x}<br>Quantity=%{y}<extra></extra>",
         "legendgroup": "Return_Prediction",
         "line": {
          "color": "#EF553B",
          "dash": "solid"
         },
         "marker": {
          "symbol": "circle"
         },
         "mode": "lines",
         "name": "Return_Prediction",
         "orientation": "v",
         "showlegend": true,
         "type": "scatter",
         "x": [
          0,
          1,
          2,
          3,
          4,
          5,
          6,
          7,
          8,
          9
         ],
         "xaxis": "x",
         "y": [
          54,
          68,
          17,
          56,
          46,
          9,
          46,
          50,
          31,
          31
         ],
         "yaxis": "y"
        }
       ],
       "layout": {
        "legend": {
         "title": {
          "text": "variable"
         },
         "tracegroupgap": 0
        },
        "template": {
         "data": {
          "bar": [
           {
            "error_x": {
             "color": "#2a3f5f"
            },
            "error_y": {
             "color": "#2a3f5f"
            },
            "marker": {
             "line": {
              "color": "#E5ECF6",
              "width": 0.5
             },
             "pattern": {
              "fillmode": "overlay",
              "size": 10,
              "solidity": 0.2
             }
            },
            "type": "bar"
           }
          ],
          "barpolar": [
           {
            "marker": {
             "line": {
              "color": "#E5ECF6",
              "width": 0.5
             },
             "pattern": {
              "fillmode": "overlay",
              "size": 10,
              "solidity": 0.2
             }
            },
            "type": "barpolar"
           }
          ],
          "carpet": [
           {
            "aaxis": {
             "endlinecolor": "#2a3f5f",
             "gridcolor": "white",
             "linecolor": "white",
             "minorgridcolor": "white",
             "startlinecolor": "#2a3f5f"
            },
            "baxis": {
             "endlinecolor": "#2a3f5f",
             "gridcolor": "white",
             "linecolor": "white",
             "minorgridcolor": "white",
             "startlinecolor": "#2a3f5f"
            },
            "type": "carpet"
           }
          ],
          "choropleth": [
           {
            "colorbar": {
             "outlinewidth": 0,
             "ticks": ""
            },
            "type": "choropleth"
           }
          ],
          "contour": [
           {
            "colorbar": {
             "outlinewidth": 0,
             "ticks": ""
            },
            "colorscale": [
             [
              0,
              "#0d0887"
             ],
             [
              0.1111111111111111,
              "#46039f"
             ],
             [
              0.2222222222222222,
              "#7201a8"
             ],
             [
              0.3333333333333333,
              "#9c179e"
             ],
             [
              0.4444444444444444,
              "#bd3786"
             ],
             [
              0.5555555555555556,
              "#d8576b"
             ],
             [
              0.6666666666666666,
              "#ed7953"
             ],
             [
              0.7777777777777778,
              "#fb9f3a"
             ],
             [
              0.8888888888888888,
              "#fdca26"
             ],
             [
              1,
              "#f0f921"
             ]
            ],
            "type": "contour"
           }
          ],
          "contourcarpet": [
           {
            "colorbar": {
             "outlinewidth": 0,
             "ticks": ""
            },
            "type": "contourcarpet"
           }
          ],
          "heatmap": [
           {
            "colorbar": {
             "outlinewidth": 0,
             "ticks": ""
            },
            "colorscale": [
             [
              0,
              "#0d0887"
             ],
             [
              0.1111111111111111,
              "#46039f"
             ],
             [
              0.2222222222222222,
              "#7201a8"
             ],
             [
              0.3333333333333333,
              "#9c179e"
             ],
             [
              0.4444444444444444,
              "#bd3786"
             ],
             [
              0.5555555555555556,
              "#d8576b"
             ],
             [
              0.6666666666666666,
              "#ed7953"
             ],
             [
              0.7777777777777778,
              "#fb9f3a"
             ],
             [
              0.8888888888888888,
              "#fdca26"
             ],
             [
              1,
              "#f0f921"
             ]
            ],
            "type": "heatmap"
           }
          ],
          "heatmapgl": [
           {
            "colorbar": {
             "outlinewidth": 0,
             "ticks": ""
            },
            "colorscale": [
             [
              0,
              "#0d0887"
             ],
             [
              0.1111111111111111,
              "#46039f"
             ],
             [
              0.2222222222222222,
              "#7201a8"
             ],
             [
              0.3333333333333333,
              "#9c179e"
             ],
             [
              0.4444444444444444,
              "#bd3786"
             ],
             [
              0.5555555555555556,
              "#d8576b"
             ],
             [
              0.6666666666666666,
              "#ed7953"
             ],
             [
              0.7777777777777778,
              "#fb9f3a"
             ],
             [
              0.8888888888888888,
              "#fdca26"
             ],
             [
              1,
              "#f0f921"
             ]
            ],
            "type": "heatmapgl"
           }
          ],
          "histogram": [
           {
            "marker": {
             "pattern": {
              "fillmode": "overlay",
              "size": 10,
              "solidity": 0.2
             }
            },
            "type": "histogram"
           }
          ],
          "histogram2d": [
           {
            "colorbar": {
             "outlinewidth": 0,
             "ticks": ""
            },
            "colorscale": [
             [
              0,
              "#0d0887"
             ],
             [
              0.1111111111111111,
              "#46039f"
             ],
             [
              0.2222222222222222,
              "#7201a8"
             ],
             [
              0.3333333333333333,
              "#9c179e"
             ],
             [
              0.4444444444444444,
              "#bd3786"
             ],
             [
              0.5555555555555556,
              "#d8576b"
             ],
             [
              0.6666666666666666,
              "#ed7953"
             ],
             [
              0.7777777777777778,
              "#fb9f3a"
             ],
             [
              0.8888888888888888,
              "#fdca26"
             ],
             [
              1,
              "#f0f921"
             ]
            ],
            "type": "histogram2d"
           }
          ],
          "histogram2dcontour": [
           {
            "colorbar": {
             "outlinewidth": 0,
             "ticks": ""
            },
            "colorscale": [
             [
              0,
              "#0d0887"
             ],
             [
              0.1111111111111111,
              "#46039f"
             ],
             [
              0.2222222222222222,
              "#7201a8"
             ],
             [
              0.3333333333333333,
              "#9c179e"
             ],
             [
              0.4444444444444444,
              "#bd3786"
             ],
             [
              0.5555555555555556,
              "#d8576b"
             ],
             [
              0.6666666666666666,
              "#ed7953"
             ],
             [
              0.7777777777777778,
              "#fb9f3a"
             ],
             [
              0.8888888888888888,
              "#fdca26"
             ],
             [
              1,
              "#f0f921"
             ]
            ],
            "type": "histogram2dcontour"
           }
          ],
          "mesh3d": [
           {
            "colorbar": {
             "outlinewidth": 0,
             "ticks": ""
            },
            "type": "mesh3d"
           }
          ],
          "parcoords": [
           {
            "line": {
             "colorbar": {
              "outlinewidth": 0,
              "ticks": ""
             }
            },
            "type": "parcoords"
           }
          ],
          "pie": [
           {
            "automargin": true,
            "type": "pie"
           }
          ],
          "scatter": [
           {
            "fillpattern": {
             "fillmode": "overlay",
             "size": 10,
             "solidity": 0.2
            },
            "type": "scatter"
           }
          ],
          "scatter3d": [
           {
            "line": {
             "colorbar": {
              "outlinewidth": 0,
              "ticks": ""
             }
            },
            "marker": {
             "colorbar": {
              "outlinewidth": 0,
              "ticks": ""
             }
            },
            "type": "scatter3d"
           }
          ],
          "scattercarpet": [
           {
            "marker": {
             "colorbar": {
              "outlinewidth": 0,
              "ticks": ""
             }
            },
            "type": "scattercarpet"
           }
          ],
          "scattergeo": [
           {
            "marker": {
             "colorbar": {
              "outlinewidth": 0,
              "ticks": ""
             }
            },
            "type": "scattergeo"
           }
          ],
          "scattergl": [
           {
            "marker": {
             "colorbar": {
              "outlinewidth": 0,
              "ticks": ""
             }
            },
            "type": "scattergl"
           }
          ],
          "scattermapbox": [
           {
            "marker": {
             "colorbar": {
              "outlinewidth": 0,
              "ticks": ""
             }
            },
            "type": "scattermapbox"
           }
          ],
          "scatterpolar": [
           {
            "marker": {
             "colorbar": {
              "outlinewidth": 0,
              "ticks": ""
             }
            },
            "type": "scatterpolar"
           }
          ],
          "scatterpolargl": [
           {
            "marker": {
             "colorbar": {
              "outlinewidth": 0,
              "ticks": ""
             }
            },
            "type": "scatterpolargl"
           }
          ],
          "scatterternary": [
           {
            "marker": {
             "colorbar": {
              "outlinewidth": 0,
              "ticks": ""
             }
            },
            "type": "scatterternary"
           }
          ],
          "surface": [
           {
            "colorbar": {
             "outlinewidth": 0,
             "ticks": ""
            },
            "colorscale": [
             [
              0,
              "#0d0887"
             ],
             [
              0.1111111111111111,
              "#46039f"
             ],
             [
              0.2222222222222222,
              "#7201a8"
             ],
             [
              0.3333333333333333,
              "#9c179e"
             ],
             [
              0.4444444444444444,
              "#bd3786"
             ],
             [
              0.5555555555555556,
              "#d8576b"
             ],
             [
              0.6666666666666666,
              "#ed7953"
             ],
             [
              0.7777777777777778,
              "#fb9f3a"
             ],
             [
              0.8888888888888888,
              "#fdca26"
             ],
             [
              1,
              "#f0f921"
             ]
            ],
            "type": "surface"
           }
          ],
          "table": [
           {
            "cells": {
             "fill": {
              "color": "#EBF0F8"
             },
             "line": {
              "color": "white"
             }
            },
            "header": {
             "fill": {
              "color": "#C8D4E3"
             },
             "line": {
              "color": "white"
             }
            },
            "type": "table"
           }
          ]
         },
         "layout": {
          "annotationdefaults": {
           "arrowcolor": "#2a3f5f",
           "arrowhead": 0,
           "arrowwidth": 1
          },
          "autotypenumbers": "strict",
          "coloraxis": {
           "colorbar": {
            "outlinewidth": 0,
            "ticks": ""
           }
          },
          "colorscale": {
           "diverging": [
            [
             0,
             "#8e0152"
            ],
            [
             0.1,
             "#c51b7d"
            ],
            [
             0.2,
             "#de77ae"
            ],
            [
             0.3,
             "#f1b6da"
            ],
            [
             0.4,
             "#fde0ef"
            ],
            [
             0.5,
             "#f7f7f7"
            ],
            [
             0.6,
             "#e6f5d0"
            ],
            [
             0.7,
             "#b8e186"
            ],
            [
             0.8,
             "#7fbc41"
            ],
            [
             0.9,
             "#4d9221"
            ],
            [
             1,
             "#276419"
            ]
           ],
           "sequential": [
            [
             0,
             "#0d0887"
            ],
            [
             0.1111111111111111,
             "#46039f"
            ],
            [
             0.2222222222222222,
             "#7201a8"
            ],
            [
             0.3333333333333333,
             "#9c179e"
            ],
            [
             0.4444444444444444,
             "#bd3786"
            ],
            [
             0.5555555555555556,
             "#d8576b"
            ],
            [
             0.6666666666666666,
             "#ed7953"
            ],
            [
             0.7777777777777778,
             "#fb9f3a"
            ],
            [
             0.8888888888888888,
             "#fdca26"
            ],
            [
             1,
             "#f0f921"
            ]
           ],
           "sequentialminus": [
            [
             0,
             "#0d0887"
            ],
            [
             0.1111111111111111,
             "#46039f"
            ],
            [
             0.2222222222222222,
             "#7201a8"
            ],
            [
             0.3333333333333333,
             "#9c179e"
            ],
            [
             0.4444444444444444,
             "#bd3786"
            ],
            [
             0.5555555555555556,
             "#d8576b"
            ],
            [
             0.6666666666666666,
             "#ed7953"
            ],
            [
             0.7777777777777778,
             "#fb9f3a"
            ],
            [
             0.8888888888888888,
             "#fdca26"
            ],
            [
             1,
             "#f0f921"
            ]
           ]
          },
          "colorway": [
           "#636efa",
           "#EF553B",
           "#00cc96",
           "#ab63fa",
           "#FFA15A",
           "#19d3f3",
           "#FF6692",
           "#B6E880",
           "#FF97FF",
           "#FECB52"
          ],
          "font": {
           "color": "#2a3f5f"
          },
          "geo": {
           "bgcolor": "white",
           "lakecolor": "white",
           "landcolor": "#E5ECF6",
           "showlakes": true,
           "showland": true,
           "subunitcolor": "white"
          },
          "hoverlabel": {
           "align": "left"
          },
          "hovermode": "closest",
          "mapbox": {
           "style": "light"
          },
          "paper_bgcolor": "white",
          "plot_bgcolor": "#E5ECF6",
          "polar": {
           "angularaxis": {
            "gridcolor": "white",
            "linecolor": "white",
            "ticks": ""
           },
           "bgcolor": "#E5ECF6",
           "radialaxis": {
            "gridcolor": "white",
            "linecolor": "white",
            "ticks": ""
           }
          },
          "scene": {
           "xaxis": {
            "backgroundcolor": "#E5ECF6",
            "gridcolor": "white",
            "gridwidth": 2,
            "linecolor": "white",
            "showbackground": true,
            "ticks": "",
            "zerolinecolor": "white"
           },
           "yaxis": {
            "backgroundcolor": "#E5ECF6",
            "gridcolor": "white",
            "gridwidth": 2,
            "linecolor": "white",
            "showbackground": true,
            "ticks": "",
            "zerolinecolor": "white"
           },
           "zaxis": {
            "backgroundcolor": "#E5ECF6",
            "gridcolor": "white",
            "gridwidth": 2,
            "linecolor": "white",
            "showbackground": true,
            "ticks": "",
            "zerolinecolor": "white"
           }
          },
          "shapedefaults": {
           "line": {
            "color": "#2a3f5f"
           }
          },
          "ternary": {
           "aaxis": {
            "gridcolor": "white",
            "linecolor": "white",
            "ticks": ""
           },
           "baxis": {
            "gridcolor": "white",
            "linecolor": "white",
            "ticks": ""
           },
           "bgcolor": "#E5ECF6",
           "caxis": {
            "gridcolor": "white",
            "linecolor": "white",
            "ticks": ""
           }
          },
          "title": {
           "x": 0.05
          },
          "xaxis": {
           "automargin": true,
           "gridcolor": "white",
           "linecolor": "white",
           "ticks": "",
           "title": {
            "standoff": 15
           },
           "zerolinecolor": "white",
           "zerolinewidth": 2
          },
          "yaxis": {
           "automargin": true,
           "gridcolor": "white",
           "linecolor": "white",
           "ticks": "",
           "title": {
            "standoff": 15
           },
           "zerolinecolor": "white",
           "zerolinewidth": 2
          }
         }
        },
        "title": {
         "text": "Predicted Demand and Return Prediction"
        },
        "xaxis": {
         "anchor": "y",
         "domain": [
          0,
          1
         ],
         "title": {
          "text": "Cycles"
         }
        },
        "yaxis": {
         "anchor": "x",
         "domain": [
          0,
          1
         ],
         "title": {
          "text": "Quantity"
         }
        }
       }
      }
     },
     "metadata": {},
     "output_type": "display_data"
    }
   ],
   "source": [
    "fig1 = px.line(\n",
    "        prediction_df,\n",
    "        x=prediction_df.index,\n",
    "        y=['Predicted_Demand', 'Return_Prediction'],\n",
    "        labels={'value': 'Quantity', 'index': 'Cycles'},\n",
    "        title=\"Predicted Demand and Return Prediction\"\n",
    "        )\n",
    "# st.plotly_chart(fig1)\n",
    "fig1.show()"
   ]
  },
  {
   "cell_type": "markdown",
   "metadata": {},
   "source": [
    "Order Quantity Across Planning Period "
   ]
  },
  {
   "cell_type": "code",
   "execution_count": 43,
   "metadata": {},
   "outputs": [
    {
     "data": {
      "application/vnd.plotly.v1+json": {
       "config": {
        "plotlyServerURL": "https://plot.ly"
       },
       "data": [
        {
         "alignmentgroup": "True",
         "hovertemplate": "Cycles=%{x}<br>Order Quantity=%{y}<extra></extra>",
         "legendgroup": "",
         "marker": {
          "color": "#636efa",
          "pattern": {
           "shape": ""
          }
         },
         "name": "",
         "offsetgroup": "",
         "orientation": "v",
         "showlegend": false,
         "textposition": "auto",
         "type": "bar",
         "x": [
          0,
          1,
          2,
          3,
          4,
          5,
          6,
          7,
          8,
          9
         ],
         "xaxis": "x",
         "y": [
          0,
          227.20000000000005,
          0,
          720.8,
          106.39999999999998,
          215.20000000000002,
          659.4,
          0,
          0,
          0
         ],
         "yaxis": "y"
        }
       ],
       "layout": {
        "barmode": "relative",
        "legend": {
         "tracegroupgap": 0
        },
        "template": {
         "data": {
          "bar": [
           {
            "error_x": {
             "color": "#2a3f5f"
            },
            "error_y": {
             "color": "#2a3f5f"
            },
            "marker": {
             "line": {
              "color": "#E5ECF6",
              "width": 0.5
             },
             "pattern": {
              "fillmode": "overlay",
              "size": 10,
              "solidity": 0.2
             }
            },
            "type": "bar"
           }
          ],
          "barpolar": [
           {
            "marker": {
             "line": {
              "color": "#E5ECF6",
              "width": 0.5
             },
             "pattern": {
              "fillmode": "overlay",
              "size": 10,
              "solidity": 0.2
             }
            },
            "type": "barpolar"
           }
          ],
          "carpet": [
           {
            "aaxis": {
             "endlinecolor": "#2a3f5f",
             "gridcolor": "white",
             "linecolor": "white",
             "minorgridcolor": "white",
             "startlinecolor": "#2a3f5f"
            },
            "baxis": {
             "endlinecolor": "#2a3f5f",
             "gridcolor": "white",
             "linecolor": "white",
             "minorgridcolor": "white",
             "startlinecolor": "#2a3f5f"
            },
            "type": "carpet"
           }
          ],
          "choropleth": [
           {
            "colorbar": {
             "outlinewidth": 0,
             "ticks": ""
            },
            "type": "choropleth"
           }
          ],
          "contour": [
           {
            "colorbar": {
             "outlinewidth": 0,
             "ticks": ""
            },
            "colorscale": [
             [
              0,
              "#0d0887"
             ],
             [
              0.1111111111111111,
              "#46039f"
             ],
             [
              0.2222222222222222,
              "#7201a8"
             ],
             [
              0.3333333333333333,
              "#9c179e"
             ],
             [
              0.4444444444444444,
              "#bd3786"
             ],
             [
              0.5555555555555556,
              "#d8576b"
             ],
             [
              0.6666666666666666,
              "#ed7953"
             ],
             [
              0.7777777777777778,
              "#fb9f3a"
             ],
             [
              0.8888888888888888,
              "#fdca26"
             ],
             [
              1,
              "#f0f921"
             ]
            ],
            "type": "contour"
           }
          ],
          "contourcarpet": [
           {
            "colorbar": {
             "outlinewidth": 0,
             "ticks": ""
            },
            "type": "contourcarpet"
           }
          ],
          "heatmap": [
           {
            "colorbar": {
             "outlinewidth": 0,
             "ticks": ""
            },
            "colorscale": [
             [
              0,
              "#0d0887"
             ],
             [
              0.1111111111111111,
              "#46039f"
             ],
             [
              0.2222222222222222,
              "#7201a8"
             ],
             [
              0.3333333333333333,
              "#9c179e"
             ],
             [
              0.4444444444444444,
              "#bd3786"
             ],
             [
              0.5555555555555556,
              "#d8576b"
             ],
             [
              0.6666666666666666,
              "#ed7953"
             ],
             [
              0.7777777777777778,
              "#fb9f3a"
             ],
             [
              0.8888888888888888,
              "#fdca26"
             ],
             [
              1,
              "#f0f921"
             ]
            ],
            "type": "heatmap"
           }
          ],
          "heatmapgl": [
           {
            "colorbar": {
             "outlinewidth": 0,
             "ticks": ""
            },
            "colorscale": [
             [
              0,
              "#0d0887"
             ],
             [
              0.1111111111111111,
              "#46039f"
             ],
             [
              0.2222222222222222,
              "#7201a8"
             ],
             [
              0.3333333333333333,
              "#9c179e"
             ],
             [
              0.4444444444444444,
              "#bd3786"
             ],
             [
              0.5555555555555556,
              "#d8576b"
             ],
             [
              0.6666666666666666,
              "#ed7953"
             ],
             [
              0.7777777777777778,
              "#fb9f3a"
             ],
             [
              0.8888888888888888,
              "#fdca26"
             ],
             [
              1,
              "#f0f921"
             ]
            ],
            "type": "heatmapgl"
           }
          ],
          "histogram": [
           {
            "marker": {
             "pattern": {
              "fillmode": "overlay",
              "size": 10,
              "solidity": 0.2
             }
            },
            "type": "histogram"
           }
          ],
          "histogram2d": [
           {
            "colorbar": {
             "outlinewidth": 0,
             "ticks": ""
            },
            "colorscale": [
             [
              0,
              "#0d0887"
             ],
             [
              0.1111111111111111,
              "#46039f"
             ],
             [
              0.2222222222222222,
              "#7201a8"
             ],
             [
              0.3333333333333333,
              "#9c179e"
             ],
             [
              0.4444444444444444,
              "#bd3786"
             ],
             [
              0.5555555555555556,
              "#d8576b"
             ],
             [
              0.6666666666666666,
              "#ed7953"
             ],
             [
              0.7777777777777778,
              "#fb9f3a"
             ],
             [
              0.8888888888888888,
              "#fdca26"
             ],
             [
              1,
              "#f0f921"
             ]
            ],
            "type": "histogram2d"
           }
          ],
          "histogram2dcontour": [
           {
            "colorbar": {
             "outlinewidth": 0,
             "ticks": ""
            },
            "colorscale": [
             [
              0,
              "#0d0887"
             ],
             [
              0.1111111111111111,
              "#46039f"
             ],
             [
              0.2222222222222222,
              "#7201a8"
             ],
             [
              0.3333333333333333,
              "#9c179e"
             ],
             [
              0.4444444444444444,
              "#bd3786"
             ],
             [
              0.5555555555555556,
              "#d8576b"
             ],
             [
              0.6666666666666666,
              "#ed7953"
             ],
             [
              0.7777777777777778,
              "#fb9f3a"
             ],
             [
              0.8888888888888888,
              "#fdca26"
             ],
             [
              1,
              "#f0f921"
             ]
            ],
            "type": "histogram2dcontour"
           }
          ],
          "mesh3d": [
           {
            "colorbar": {
             "outlinewidth": 0,
             "ticks": ""
            },
            "type": "mesh3d"
           }
          ],
          "parcoords": [
           {
            "line": {
             "colorbar": {
              "outlinewidth": 0,
              "ticks": ""
             }
            },
            "type": "parcoords"
           }
          ],
          "pie": [
           {
            "automargin": true,
            "type": "pie"
           }
          ],
          "scatter": [
           {
            "fillpattern": {
             "fillmode": "overlay",
             "size": 10,
             "solidity": 0.2
            },
            "type": "scatter"
           }
          ],
          "scatter3d": [
           {
            "line": {
             "colorbar": {
              "outlinewidth": 0,
              "ticks": ""
             }
            },
            "marker": {
             "colorbar": {
              "outlinewidth": 0,
              "ticks": ""
             }
            },
            "type": "scatter3d"
           }
          ],
          "scattercarpet": [
           {
            "marker": {
             "colorbar": {
              "outlinewidth": 0,
              "ticks": ""
             }
            },
            "type": "scattercarpet"
           }
          ],
          "scattergeo": [
           {
            "marker": {
             "colorbar": {
              "outlinewidth": 0,
              "ticks": ""
             }
            },
            "type": "scattergeo"
           }
          ],
          "scattergl": [
           {
            "marker": {
             "colorbar": {
              "outlinewidth": 0,
              "ticks": ""
             }
            },
            "type": "scattergl"
           }
          ],
          "scattermapbox": [
           {
            "marker": {
             "colorbar": {
              "outlinewidth": 0,
              "ticks": ""
             }
            },
            "type": "scattermapbox"
           }
          ],
          "scatterpolar": [
           {
            "marker": {
             "colorbar": {
              "outlinewidth": 0,
              "ticks": ""
             }
            },
            "type": "scatterpolar"
           }
          ],
          "scatterpolargl": [
           {
            "marker": {
             "colorbar": {
              "outlinewidth": 0,
              "ticks": ""
             }
            },
            "type": "scatterpolargl"
           }
          ],
          "scatterternary": [
           {
            "marker": {
             "colorbar": {
              "outlinewidth": 0,
              "ticks": ""
             }
            },
            "type": "scatterternary"
           }
          ],
          "surface": [
           {
            "colorbar": {
             "outlinewidth": 0,
             "ticks": ""
            },
            "colorscale": [
             [
              0,
              "#0d0887"
             ],
             [
              0.1111111111111111,
              "#46039f"
             ],
             [
              0.2222222222222222,
              "#7201a8"
             ],
             [
              0.3333333333333333,
              "#9c179e"
             ],
             [
              0.4444444444444444,
              "#bd3786"
             ],
             [
              0.5555555555555556,
              "#d8576b"
             ],
             [
              0.6666666666666666,
              "#ed7953"
             ],
             [
              0.7777777777777778,
              "#fb9f3a"
             ],
             [
              0.8888888888888888,
              "#fdca26"
             ],
             [
              1,
              "#f0f921"
             ]
            ],
            "type": "surface"
           }
          ],
          "table": [
           {
            "cells": {
             "fill": {
              "color": "#EBF0F8"
             },
             "line": {
              "color": "white"
             }
            },
            "header": {
             "fill": {
              "color": "#C8D4E3"
             },
             "line": {
              "color": "white"
             }
            },
            "type": "table"
           }
          ]
         },
         "layout": {
          "annotationdefaults": {
           "arrowcolor": "#2a3f5f",
           "arrowhead": 0,
           "arrowwidth": 1
          },
          "autotypenumbers": "strict",
          "coloraxis": {
           "colorbar": {
            "outlinewidth": 0,
            "ticks": ""
           }
          },
          "colorscale": {
           "diverging": [
            [
             0,
             "#8e0152"
            ],
            [
             0.1,
             "#c51b7d"
            ],
            [
             0.2,
             "#de77ae"
            ],
            [
             0.3,
             "#f1b6da"
            ],
            [
             0.4,
             "#fde0ef"
            ],
            [
             0.5,
             "#f7f7f7"
            ],
            [
             0.6,
             "#e6f5d0"
            ],
            [
             0.7,
             "#b8e186"
            ],
            [
             0.8,
             "#7fbc41"
            ],
            [
             0.9,
             "#4d9221"
            ],
            [
             1,
             "#276419"
            ]
           ],
           "sequential": [
            [
             0,
             "#0d0887"
            ],
            [
             0.1111111111111111,
             "#46039f"
            ],
            [
             0.2222222222222222,
             "#7201a8"
            ],
            [
             0.3333333333333333,
             "#9c179e"
            ],
            [
             0.4444444444444444,
             "#bd3786"
            ],
            [
             0.5555555555555556,
             "#d8576b"
            ],
            [
             0.6666666666666666,
             "#ed7953"
            ],
            [
             0.7777777777777778,
             "#fb9f3a"
            ],
            [
             0.8888888888888888,
             "#fdca26"
            ],
            [
             1,
             "#f0f921"
            ]
           ],
           "sequentialminus": [
            [
             0,
             "#0d0887"
            ],
            [
             0.1111111111111111,
             "#46039f"
            ],
            [
             0.2222222222222222,
             "#7201a8"
            ],
            [
             0.3333333333333333,
             "#9c179e"
            ],
            [
             0.4444444444444444,
             "#bd3786"
            ],
            [
             0.5555555555555556,
             "#d8576b"
            ],
            [
             0.6666666666666666,
             "#ed7953"
            ],
            [
             0.7777777777777778,
             "#fb9f3a"
            ],
            [
             0.8888888888888888,
             "#fdca26"
            ],
            [
             1,
             "#f0f921"
            ]
           ]
          },
          "colorway": [
           "#636efa",
           "#EF553B",
           "#00cc96",
           "#ab63fa",
           "#FFA15A",
           "#19d3f3",
           "#FF6692",
           "#B6E880",
           "#FF97FF",
           "#FECB52"
          ],
          "font": {
           "color": "#2a3f5f"
          },
          "geo": {
           "bgcolor": "white",
           "lakecolor": "white",
           "landcolor": "#E5ECF6",
           "showlakes": true,
           "showland": true,
           "subunitcolor": "white"
          },
          "hoverlabel": {
           "align": "left"
          },
          "hovermode": "closest",
          "mapbox": {
           "style": "light"
          },
          "paper_bgcolor": "white",
          "plot_bgcolor": "#E5ECF6",
          "polar": {
           "angularaxis": {
            "gridcolor": "white",
            "linecolor": "white",
            "ticks": ""
           },
           "bgcolor": "#E5ECF6",
           "radialaxis": {
            "gridcolor": "white",
            "linecolor": "white",
            "ticks": ""
           }
          },
          "scene": {
           "xaxis": {
            "backgroundcolor": "#E5ECF6",
            "gridcolor": "white",
            "gridwidth": 2,
            "linecolor": "white",
            "showbackground": true,
            "ticks": "",
            "zerolinecolor": "white"
           },
           "yaxis": {
            "backgroundcolor": "#E5ECF6",
            "gridcolor": "white",
            "gridwidth": 2,
            "linecolor": "white",
            "showbackground": true,
            "ticks": "",
            "zerolinecolor": "white"
           },
           "zaxis": {
            "backgroundcolor": "#E5ECF6",
            "gridcolor": "white",
            "gridwidth": 2,
            "linecolor": "white",
            "showbackground": true,
            "ticks": "",
            "zerolinecolor": "white"
           }
          },
          "shapedefaults": {
           "line": {
            "color": "#2a3f5f"
           }
          },
          "ternary": {
           "aaxis": {
            "gridcolor": "white",
            "linecolor": "white",
            "ticks": ""
           },
           "baxis": {
            "gridcolor": "white",
            "linecolor": "white",
            "ticks": ""
           },
           "bgcolor": "#E5ECF6",
           "caxis": {
            "gridcolor": "white",
            "linecolor": "white",
            "ticks": ""
           }
          },
          "title": {
           "x": 0.05
          },
          "xaxis": {
           "automargin": true,
           "gridcolor": "white",
           "linecolor": "white",
           "ticks": "",
           "title": {
            "standoff": 15
           },
           "zerolinecolor": "white",
           "zerolinewidth": 2
          },
          "yaxis": {
           "automargin": true,
           "gridcolor": "white",
           "linecolor": "white",
           "ticks": "",
           "title": {
            "standoff": 15
           },
           "zerolinecolor": "white",
           "zerolinewidth": 2
          }
         }
        },
        "title": {
         "text": "Inventory Level Over Time"
        },
        "xaxis": {
         "anchor": "y",
         "domain": [
          0,
          1
         ],
         "tickmode": "linear",
         "title": {
          "text": "Cycles"
         }
        },
        "yaxis": {
         "anchor": "x",
         "domain": [
          0,
          1
         ],
         "title": {
          "text": "Order Quantity"
         }
        }
       }
      }
     },
     "metadata": {},
     "output_type": "display_data"
    }
   ],
   "source": [
    "fig3 = px.bar(\n",
    "            prediction_df,\n",
    "            x=prediction_df.index,\n",
    "            y='Optimal_Order',\n",
    "            labels={'Optimal_Order': 'Order Quantity', 'index': 'Cycles'},\n",
    "            title=\"Inventory Level Over Time\"\n",
    "        )\n",
    "# Update layout to show all x-axis labels\n",
    "fig3.update_layout(\n",
    "    xaxis=dict(\n",
    "        tickmode='linear'  # Ensures all x-axis labels are shown\n",
    "    ))\n",
    "\n",
    "fig3.show()"
   ]
  },
  {
   "cell_type": "markdown",
   "metadata": {},
   "source": [
    "Inventory Level Over Time"
   ]
  },
  {
   "cell_type": "code",
   "execution_count": 44,
   "metadata": {},
   "outputs": [
    {
     "data": {
      "application/vnd.plotly.v1+json": {
       "config": {
        "plotlyServerURL": "https://plot.ly"
       },
       "data": [
        {
         "hovertemplate": "Cycles=%{x}<br>Inventory Level=%{y}<extra></extra>",
         "legendgroup": "",
         "line": {
          "color": "#636efa",
          "dash": "solid"
         },
         "marker": {
          "symbol": "circle"
         },
         "mode": "lines",
         "name": "",
         "orientation": "v",
         "showlegend": false,
         "type": "scatter",
         "x": [
          0,
          1,
          2,
          3,
          4,
          5,
          6,
          7,
          8,
          9
         ],
         "xaxis": "x",
         "y": [
          812,
          400,
          214.2,
          94.2,
          400,
          32.4,
          94.60000000000001,
          327,
          0,
          0
         ],
         "yaxis": "y"
        }
       ],
       "layout": {
        "legend": {
         "tracegroupgap": 0
        },
        "template": {
         "data": {
          "bar": [
           {
            "error_x": {
             "color": "#2a3f5f"
            },
            "error_y": {
             "color": "#2a3f5f"
            },
            "marker": {
             "line": {
              "color": "#E5ECF6",
              "width": 0.5
             },
             "pattern": {
              "fillmode": "overlay",
              "size": 10,
              "solidity": 0.2
             }
            },
            "type": "bar"
           }
          ],
          "barpolar": [
           {
            "marker": {
             "line": {
              "color": "#E5ECF6",
              "width": 0.5
             },
             "pattern": {
              "fillmode": "overlay",
              "size": 10,
              "solidity": 0.2
             }
            },
            "type": "barpolar"
           }
          ],
          "carpet": [
           {
            "aaxis": {
             "endlinecolor": "#2a3f5f",
             "gridcolor": "white",
             "linecolor": "white",
             "minorgridcolor": "white",
             "startlinecolor": "#2a3f5f"
            },
            "baxis": {
             "endlinecolor": "#2a3f5f",
             "gridcolor": "white",
             "linecolor": "white",
             "minorgridcolor": "white",
             "startlinecolor": "#2a3f5f"
            },
            "type": "carpet"
           }
          ],
          "choropleth": [
           {
            "colorbar": {
             "outlinewidth": 0,
             "ticks": ""
            },
            "type": "choropleth"
           }
          ],
          "contour": [
           {
            "colorbar": {
             "outlinewidth": 0,
             "ticks": ""
            },
            "colorscale": [
             [
              0,
              "#0d0887"
             ],
             [
              0.1111111111111111,
              "#46039f"
             ],
             [
              0.2222222222222222,
              "#7201a8"
             ],
             [
              0.3333333333333333,
              "#9c179e"
             ],
             [
              0.4444444444444444,
              "#bd3786"
             ],
             [
              0.5555555555555556,
              "#d8576b"
             ],
             [
              0.6666666666666666,
              "#ed7953"
             ],
             [
              0.7777777777777778,
              "#fb9f3a"
             ],
             [
              0.8888888888888888,
              "#fdca26"
             ],
             [
              1,
              "#f0f921"
             ]
            ],
            "type": "contour"
           }
          ],
          "contourcarpet": [
           {
            "colorbar": {
             "outlinewidth": 0,
             "ticks": ""
            },
            "type": "contourcarpet"
           }
          ],
          "heatmap": [
           {
            "colorbar": {
             "outlinewidth": 0,
             "ticks": ""
            },
            "colorscale": [
             [
              0,
              "#0d0887"
             ],
             [
              0.1111111111111111,
              "#46039f"
             ],
             [
              0.2222222222222222,
              "#7201a8"
             ],
             [
              0.3333333333333333,
              "#9c179e"
             ],
             [
              0.4444444444444444,
              "#bd3786"
             ],
             [
              0.5555555555555556,
              "#d8576b"
             ],
             [
              0.6666666666666666,
              "#ed7953"
             ],
             [
              0.7777777777777778,
              "#fb9f3a"
             ],
             [
              0.8888888888888888,
              "#fdca26"
             ],
             [
              1,
              "#f0f921"
             ]
            ],
            "type": "heatmap"
           }
          ],
          "heatmapgl": [
           {
            "colorbar": {
             "outlinewidth": 0,
             "ticks": ""
            },
            "colorscale": [
             [
              0,
              "#0d0887"
             ],
             [
              0.1111111111111111,
              "#46039f"
             ],
             [
              0.2222222222222222,
              "#7201a8"
             ],
             [
              0.3333333333333333,
              "#9c179e"
             ],
             [
              0.4444444444444444,
              "#bd3786"
             ],
             [
              0.5555555555555556,
              "#d8576b"
             ],
             [
              0.6666666666666666,
              "#ed7953"
             ],
             [
              0.7777777777777778,
              "#fb9f3a"
             ],
             [
              0.8888888888888888,
              "#fdca26"
             ],
             [
              1,
              "#f0f921"
             ]
            ],
            "type": "heatmapgl"
           }
          ],
          "histogram": [
           {
            "marker": {
             "pattern": {
              "fillmode": "overlay",
              "size": 10,
              "solidity": 0.2
             }
            },
            "type": "histogram"
           }
          ],
          "histogram2d": [
           {
            "colorbar": {
             "outlinewidth": 0,
             "ticks": ""
            },
            "colorscale": [
             [
              0,
              "#0d0887"
             ],
             [
              0.1111111111111111,
              "#46039f"
             ],
             [
              0.2222222222222222,
              "#7201a8"
             ],
             [
              0.3333333333333333,
              "#9c179e"
             ],
             [
              0.4444444444444444,
              "#bd3786"
             ],
             [
              0.5555555555555556,
              "#d8576b"
             ],
             [
              0.6666666666666666,
              "#ed7953"
             ],
             [
              0.7777777777777778,
              "#fb9f3a"
             ],
             [
              0.8888888888888888,
              "#fdca26"
             ],
             [
              1,
              "#f0f921"
             ]
            ],
            "type": "histogram2d"
           }
          ],
          "histogram2dcontour": [
           {
            "colorbar": {
             "outlinewidth": 0,
             "ticks": ""
            },
            "colorscale": [
             [
              0,
              "#0d0887"
             ],
             [
              0.1111111111111111,
              "#46039f"
             ],
             [
              0.2222222222222222,
              "#7201a8"
             ],
             [
              0.3333333333333333,
              "#9c179e"
             ],
             [
              0.4444444444444444,
              "#bd3786"
             ],
             [
              0.5555555555555556,
              "#d8576b"
             ],
             [
              0.6666666666666666,
              "#ed7953"
             ],
             [
              0.7777777777777778,
              "#fb9f3a"
             ],
             [
              0.8888888888888888,
              "#fdca26"
             ],
             [
              1,
              "#f0f921"
             ]
            ],
            "type": "histogram2dcontour"
           }
          ],
          "mesh3d": [
           {
            "colorbar": {
             "outlinewidth": 0,
             "ticks": ""
            },
            "type": "mesh3d"
           }
          ],
          "parcoords": [
           {
            "line": {
             "colorbar": {
              "outlinewidth": 0,
              "ticks": ""
             }
            },
            "type": "parcoords"
           }
          ],
          "pie": [
           {
            "automargin": true,
            "type": "pie"
           }
          ],
          "scatter": [
           {
            "fillpattern": {
             "fillmode": "overlay",
             "size": 10,
             "solidity": 0.2
            },
            "type": "scatter"
           }
          ],
          "scatter3d": [
           {
            "line": {
             "colorbar": {
              "outlinewidth": 0,
              "ticks": ""
             }
            },
            "marker": {
             "colorbar": {
              "outlinewidth": 0,
              "ticks": ""
             }
            },
            "type": "scatter3d"
           }
          ],
          "scattercarpet": [
           {
            "marker": {
             "colorbar": {
              "outlinewidth": 0,
              "ticks": ""
             }
            },
            "type": "scattercarpet"
           }
          ],
          "scattergeo": [
           {
            "marker": {
             "colorbar": {
              "outlinewidth": 0,
              "ticks": ""
             }
            },
            "type": "scattergeo"
           }
          ],
          "scattergl": [
           {
            "marker": {
             "colorbar": {
              "outlinewidth": 0,
              "ticks": ""
             }
            },
            "type": "scattergl"
           }
          ],
          "scattermapbox": [
           {
            "marker": {
             "colorbar": {
              "outlinewidth": 0,
              "ticks": ""
             }
            },
            "type": "scattermapbox"
           }
          ],
          "scatterpolar": [
           {
            "marker": {
             "colorbar": {
              "outlinewidth": 0,
              "ticks": ""
             }
            },
            "type": "scatterpolar"
           }
          ],
          "scatterpolargl": [
           {
            "marker": {
             "colorbar": {
              "outlinewidth": 0,
              "ticks": ""
             }
            },
            "type": "scatterpolargl"
           }
          ],
          "scatterternary": [
           {
            "marker": {
             "colorbar": {
              "outlinewidth": 0,
              "ticks": ""
             }
            },
            "type": "scatterternary"
           }
          ],
          "surface": [
           {
            "colorbar": {
             "outlinewidth": 0,
             "ticks": ""
            },
            "colorscale": [
             [
              0,
              "#0d0887"
             ],
             [
              0.1111111111111111,
              "#46039f"
             ],
             [
              0.2222222222222222,
              "#7201a8"
             ],
             [
              0.3333333333333333,
              "#9c179e"
             ],
             [
              0.4444444444444444,
              "#bd3786"
             ],
             [
              0.5555555555555556,
              "#d8576b"
             ],
             [
              0.6666666666666666,
              "#ed7953"
             ],
             [
              0.7777777777777778,
              "#fb9f3a"
             ],
             [
              0.8888888888888888,
              "#fdca26"
             ],
             [
              1,
              "#f0f921"
             ]
            ],
            "type": "surface"
           }
          ],
          "table": [
           {
            "cells": {
             "fill": {
              "color": "#EBF0F8"
             },
             "line": {
              "color": "white"
             }
            },
            "header": {
             "fill": {
              "color": "#C8D4E3"
             },
             "line": {
              "color": "white"
             }
            },
            "type": "table"
           }
          ]
         },
         "layout": {
          "annotationdefaults": {
           "arrowcolor": "#2a3f5f",
           "arrowhead": 0,
           "arrowwidth": 1
          },
          "autotypenumbers": "strict",
          "coloraxis": {
           "colorbar": {
            "outlinewidth": 0,
            "ticks": ""
           }
          },
          "colorscale": {
           "diverging": [
            [
             0,
             "#8e0152"
            ],
            [
             0.1,
             "#c51b7d"
            ],
            [
             0.2,
             "#de77ae"
            ],
            [
             0.3,
             "#f1b6da"
            ],
            [
             0.4,
             "#fde0ef"
            ],
            [
             0.5,
             "#f7f7f7"
            ],
            [
             0.6,
             "#e6f5d0"
            ],
            [
             0.7,
             "#b8e186"
            ],
            [
             0.8,
             "#7fbc41"
            ],
            [
             0.9,
             "#4d9221"
            ],
            [
             1,
             "#276419"
            ]
           ],
           "sequential": [
            [
             0,
             "#0d0887"
            ],
            [
             0.1111111111111111,
             "#46039f"
            ],
            [
             0.2222222222222222,
             "#7201a8"
            ],
            [
             0.3333333333333333,
             "#9c179e"
            ],
            [
             0.4444444444444444,
             "#bd3786"
            ],
            [
             0.5555555555555556,
             "#d8576b"
            ],
            [
             0.6666666666666666,
             "#ed7953"
            ],
            [
             0.7777777777777778,
             "#fb9f3a"
            ],
            [
             0.8888888888888888,
             "#fdca26"
            ],
            [
             1,
             "#f0f921"
            ]
           ],
           "sequentialminus": [
            [
             0,
             "#0d0887"
            ],
            [
             0.1111111111111111,
             "#46039f"
            ],
            [
             0.2222222222222222,
             "#7201a8"
            ],
            [
             0.3333333333333333,
             "#9c179e"
            ],
            [
             0.4444444444444444,
             "#bd3786"
            ],
            [
             0.5555555555555556,
             "#d8576b"
            ],
            [
             0.6666666666666666,
             "#ed7953"
            ],
            [
             0.7777777777777778,
             "#fb9f3a"
            ],
            [
             0.8888888888888888,
             "#fdca26"
            ],
            [
             1,
             "#f0f921"
            ]
           ]
          },
          "colorway": [
           "#636efa",
           "#EF553B",
           "#00cc96",
           "#ab63fa",
           "#FFA15A",
           "#19d3f3",
           "#FF6692",
           "#B6E880",
           "#FF97FF",
           "#FECB52"
          ],
          "font": {
           "color": "#2a3f5f"
          },
          "geo": {
           "bgcolor": "white",
           "lakecolor": "white",
           "landcolor": "#E5ECF6",
           "showlakes": true,
           "showland": true,
           "subunitcolor": "white"
          },
          "hoverlabel": {
           "align": "left"
          },
          "hovermode": "closest",
          "mapbox": {
           "style": "light"
          },
          "paper_bgcolor": "white",
          "plot_bgcolor": "#E5ECF6",
          "polar": {
           "angularaxis": {
            "gridcolor": "white",
            "linecolor": "white",
            "ticks": ""
           },
           "bgcolor": "#E5ECF6",
           "radialaxis": {
            "gridcolor": "white",
            "linecolor": "white",
            "ticks": ""
           }
          },
          "scene": {
           "xaxis": {
            "backgroundcolor": "#E5ECF6",
            "gridcolor": "white",
            "gridwidth": 2,
            "linecolor": "white",
            "showbackground": true,
            "ticks": "",
            "zerolinecolor": "white"
           },
           "yaxis": {
            "backgroundcolor": "#E5ECF6",
            "gridcolor": "white",
            "gridwidth": 2,
            "linecolor": "white",
            "showbackground": true,
            "ticks": "",
            "zerolinecolor": "white"
           },
           "zaxis": {
            "backgroundcolor": "#E5ECF6",
            "gridcolor": "white",
            "gridwidth": 2,
            "linecolor": "white",
            "showbackground": true,
            "ticks": "",
            "zerolinecolor": "white"
           }
          },
          "shapedefaults": {
           "line": {
            "color": "#2a3f5f"
           }
          },
          "ternary": {
           "aaxis": {
            "gridcolor": "white",
            "linecolor": "white",
            "ticks": ""
           },
           "baxis": {
            "gridcolor": "white",
            "linecolor": "white",
            "ticks": ""
           },
           "bgcolor": "#E5ECF6",
           "caxis": {
            "gridcolor": "white",
            "linecolor": "white",
            "ticks": ""
           }
          },
          "title": {
           "x": 0.05
          },
          "xaxis": {
           "automargin": true,
           "gridcolor": "white",
           "linecolor": "white",
           "ticks": "",
           "title": {
            "standoff": 15
           },
           "zerolinecolor": "white",
           "zerolinewidth": 2
          },
          "yaxis": {
           "automargin": true,
           "gridcolor": "white",
           "linecolor": "white",
           "ticks": "",
           "title": {
            "standoff": 15
           },
           "zerolinecolor": "white",
           "zerolinewidth": 2
          }
         }
        },
        "title": {
         "text": "Inventory Level Over Time"
        },
        "xaxis": {
         "anchor": "y",
         "domain": [
          0,
          1
         ],
         "title": {
          "text": "Cycles"
         }
        },
        "yaxis": {
         "anchor": "x",
         "domain": [
          0,
          1
         ],
         "title": {
          "text": "Inventory Level"
         }
        }
       }
      }
     },
     "metadata": {},
     "output_type": "display_data"
    }
   ],
   "source": [
    "fig2 = px.line(\n",
    "            prediction_df,\n",
    "            x=prediction_df.index,\n",
    "            y='Inventory_Level',\n",
    "            labels={'Inventory_Level': 'Inventory Level', 'index': 'Cycles'},\n",
    "            title=\"Inventory Level Over Time\"\n",
    "        )\n",
    "\n",
    "fig2.show()"
   ]
  }
 ],
 "metadata": {
  "kernelspec": {
   "display_name": "dss",
   "language": "python",
   "name": "python3"
  },
  "language_info": {
   "codemirror_mode": {
    "name": "ipython",
    "version": 3
   },
   "file_extension": ".py",
   "mimetype": "text/x-python",
   "name": "python",
   "nbconvert_exporter": "python",
   "pygments_lexer": "ipython3",
   "version": "3.12.4"
  }
 },
 "nbformat": 4,
 "nbformat_minor": 2
}
