{
 "cells": [
  {
   "cell_type": "code",
   "execution_count": null,
   "metadata": {},
   "outputs": [],
   "source": [
    "import pandas as pd\n",
    "import numpy as np\n",
    "import plotly.express as px\n",
    "from gurobipy import Model, GRB\n",
    "from sklearn.ensemble import RandomForestRegressor"
   ]
  },
  {
   "cell_type": "markdown",
   "metadata": {},
   "source": [
    "### Data Preprocessing and Helper Functions"
   ]
  },
  {
   "cell_type": "code",
   "execution_count": 8,
   "metadata": {},
   "outputs": [],
   "source": [
    "# Set page configuration\n",
    "seed = 800\n",
    "np.random.seed(seed)"
   ]
  },
  {
   "cell_type": "code",
   "execution_count": 9,
   "metadata": {},
   "outputs": [],
   "source": [
    "df = pd.read_csv('data/med_inv_dataset.csv')\n",
    "\n",
    "df.columns = df.columns.str.lower()\n",
    "df = df.dropna()\n",
    "df['dateofbill'] = pd.to_datetime(df['dateofbill'])\n",
    "df['month_name'] = df['dateofbill'].dt.strftime('%B') # Extract month name\n",
    "df['month_number'] = df['dateofbill'].dt.month  # Extract month number\n",
    "df['week_number'] = df['dateofbill'].dt.isocalendar().week  # Extract week number\n",
    "\n",
    "# Create a bi-weekly period column\n",
    "df['bi_weekly'] = (df['dateofbill'].dt.day - 1) // 14 + 1"
   ]
  },
  {
   "cell_type": "code",
   "execution_count": 10,
   "metadata": {},
   "outputs": [],
   "source": [
    "# Group by drug, subcat, month_name, month_number, and bi-weekly period\n",
    "df_bi_weekly = df.groupby(['subcat', 'month_name', 'month_number', 'bi_weekly'], as_index=False).agg(\n",
    "    {\n",
    "        'quantity': 'sum',\n",
    "        'returnquantity': 'sum',\n",
    "        'final_cost': 'sum',\n",
    "        'final_sales': 'sum',\n",
    "        'rtnmrp': 'sum'\n",
    "    }\n",
    ")\n",
    "\n",
    "# Step 1: Collect top 5 subcategories with the highest sum of quantity\n",
    "top_5_subcats = df_bi_weekly.groupby('subcat')['quantity'].sum().nlargest(5).index\n",
    "\n",
    "# Step 2: Filter the dataframe for only the top 5 subcategories\n",
    "filtered_top_5_per_subcat = df_bi_weekly[df_bi_weekly['subcat'].isin(top_5_subcats)]\n",
    "\n",
    "# filtered_df_bi_weekly = df_bi_weekly.merge(filtered_top_5_per_subcat[['subcat']], on=['subcat'])\n",
    "filtered_df_bi_weekly = filtered_top_5_per_subcat.sort_values(by=['subcat', 'month_number', 'bi_weekly'])\n",
    "# Add a biweekly index for every drugname in every subcat\n",
    "filtered_df_bi_weekly['biweekly_index'] = (\n",
    "    filtered_df_bi_weekly.groupby(['subcat'])\n",
    "    .cumcount() + 1\n",
    ")"
   ]
  },
  {
   "cell_type": "code",
   "execution_count": 11,
   "metadata": {},
   "outputs": [],
   "source": [
    "# Filter rows where month_number is 4, 5, or 6 (2 and 3 is added just for their history)\n",
    "filtered_months_df = filtered_df_bi_weekly[filtered_df_bi_weekly['month_number'].isin([2, 3, 4, 5, 6])]\n",
    "\n",
    "# The rest of the DataFrame but will remove these months later\n",
    "rest_df = filtered_df_bi_weekly\n"
   ]
  },
  {
   "cell_type": "code",
   "execution_count": 12,
   "metadata": {},
   "outputs": [],
   "source": [
    "def calculate_last_three_cycles(df, subcat, horizon = 'biweekly_index', quanity= 'quantity', train=False):\n",
    "    ml_df = df[(df['subcat'] == subcat)][[horizon,'subcat', quanity]]\n",
    "\n",
    "    ml_df['quantity_lastcycle']=ml_df[quanity].shift(+1)\n",
    "    ml_df['quantity_2cycleback']=ml_df[quanity].shift(+2)\n",
    "    ml_df['quantity_3cycleback']=ml_df[quanity].shift(+3)\n",
    "    ml_df['quantity_4cycleback']=ml_df[quanity].shift(+4)\n",
    "    ml_df['quantity_5cycleback']=ml_df[quanity].shift(+5)\n",
    "\n",
    "    if train:\n",
    "        ml_df = ml_df[~ml_df[horizon].isin([9, 10, 11, 12, 13, 14, 15, 16, 17])]\n",
    "\n",
    "    ml_df = ml_df.dropna() #dropping na is necessary to avoid model failure other option\n",
    "\n",
    "    X = ml_df[['subcat', horizon,'quantity_lastcycle', 'quantity_2cycleback', 'quantity_3cycleback', 'quantity_4cycleback', 'quantity_5cycleback']]\n",
    "    y = ml_df[['subcat', quanity]]\n",
    "    return X, y"
   ]
  },
  {
   "cell_type": "code",
   "execution_count": 13,
   "metadata": {},
   "outputs": [],
   "source": [
    "trainX = pd.DataFrame(columns=['subcat', 'quantity_lastcycle', 'quantity_2cycleback', 'quantity_3cycleback', \n",
    "                               'quantity_4cycleback','quantity_5cycleback'])\n",
    "trainY = pd.DataFrame(columns=['subcat', 'quantity'])\n",
    "\n",
    "trainX_rtn = pd.DataFrame(columns=['subcat', 'quantity_lastcycle', 'quantity_2cycleback', 'quantity_3cycleback', \n",
    "                               'quantity_4cycleback','quantity_5cycleback'])\n",
    "trainY_rtn = pd.DataFrame(columns=['subcat', 'returnquantity'])"
   ]
  },
  {
   "cell_type": "code",
   "execution_count": 14,
   "metadata": {},
   "outputs": [
    {
     "name": "stderr",
     "output_type": "stream",
     "text": [
      "/var/folders/dc/n7cp43k94blc5lmsv8p725pc0000gn/T/ipykernel_34108/3968763974.py:16: FutureWarning:\n",
      "\n",
      "The behavior of DataFrame concatenation with empty or all-NA entries is deprecated. In a future version, this will no longer exclude empty or all-NA columns when determining the result dtypes. To retain the old behavior, exclude the relevant entries before the concat operation.\n",
      "\n",
      "/var/folders/dc/n7cp43k94blc5lmsv8p725pc0000gn/T/ipykernel_34108/3968763974.py:18: FutureWarning:\n",
      "\n",
      "The behavior of DataFrame concatenation with empty or all-NA entries is deprecated. In a future version, this will no longer exclude empty or all-NA columns when determining the result dtypes. To retain the old behavior, exclude the relevant entries before the concat operation.\n",
      "\n"
     ]
    }
   ],
   "source": [
    "list_subcat = filtered_top_5_per_subcat['subcat'].unique().tolist()\n",
    "\n",
    "subcat_dict = {\n",
    "    list_subcat[0]: {'Capacity': 200, 'shelf_life': (3,8), 'unit_cost': (40.85,322.27), 'salvage_value': (1,617.76)},\n",
    "    list_subcat[1]: {'Capacity': 400, 'shelf_life': (2,5), 'unit_cost': (40.00,3178.00), 'salvage_value': (1,8014.0)},\n",
    "    list_subcat[2]: {'Capacity': 100, 'shelf_life': (1,4), 'unit_cost': (40.00,3719.00), 'salvage_value': (1,4462.8)},\n",
    "    list_subcat[3]: {'Capacity': 100, 'shelf_life': (1,3), 'unit_cost': (42.95,594.95), 'salvage_value': (1,327.11)},\n",
    "    list_subcat[4]: {'Capacity': 300, 'shelf_life': (5,10), 'unit_cost': (40.00,3491.09), 'salvage_value': (1,1226.0)}\n",
    "}\n",
    "\n",
    "# st.write(subcat_dict)\n",
    "\n",
    "for key in list_subcat:\n",
    "    X, y = calculate_last_three_cycles(rest_df, subcat = key, quanity = 'quantity', train=True)\n",
    "    X_rtn, y_rtn = calculate_last_three_cycles(rest_df, subcat = key, quanity = 'returnquantity', train=True)\n",
    "    trainX = pd.concat([X, trainX])\n",
    "    trainY = pd.concat([y, trainY])\n",
    "    trainX_rtn = pd.concat([X_rtn, trainX_rtn])\n",
    "    trainY_rtn = pd.concat([y_rtn, trainY_rtn])"
   ]
  },
  {
   "cell_type": "code",
   "execution_count": 15,
   "metadata": {},
   "outputs": [],
   "source": [
    "testX = pd.DataFrame(columns=['subcat', 'quantity_lastcycle', 'quantity_2cycleback', 'quantity_3cycleback',\n",
    "                              'quantity_4cycleback','quantity_5cycleback'])\n",
    "testY = pd.DataFrame(columns=['subcat', 'quantity'])\n",
    "\n",
    "testX_rtn = pd.DataFrame(columns=['subcat', 'quantity_lastcycle', 'quantity_2cycleback', 'quantity_3cycleback', \n",
    "                               'quantity_4cycleback','quantity_5cycleback'])\n",
    "testY_rtn = pd.DataFrame(columns=['subcat', 'returnquantity'])"
   ]
  },
  {
   "cell_type": "code",
   "execution_count": 16,
   "metadata": {},
   "outputs": [
    {
     "name": "stderr",
     "output_type": "stream",
     "text": [
      "/var/folders/dc/n7cp43k94blc5lmsv8p725pc0000gn/T/ipykernel_34108/307547127.py:4: FutureWarning:\n",
      "\n",
      "The behavior of DataFrame concatenation with empty or all-NA entries is deprecated. In a future version, this will no longer exclude empty or all-NA columns when determining the result dtypes. To retain the old behavior, exclude the relevant entries before the concat operation.\n",
      "\n",
      "/var/folders/dc/n7cp43k94blc5lmsv8p725pc0000gn/T/ipykernel_34108/307547127.py:6: FutureWarning:\n",
      "\n",
      "The behavior of DataFrame concatenation with empty or all-NA entries is deprecated. In a future version, this will no longer exclude empty or all-NA columns when determining the result dtypes. To retain the old behavior, exclude the relevant entries before the concat operation.\n",
      "\n"
     ]
    }
   ],
   "source": [
    "for key in list_subcat:\n",
    "    X, y = calculate_last_three_cycles(filtered_months_df, subcat = key, quanity = 'quantity')\n",
    "    X_rtn, y_rtn = calculate_last_three_cycles(filtered_months_df, subcat = key, quanity = 'returnquantity')\n",
    "    testX = pd.concat([X, testX])\n",
    "    testY = pd.concat([y, testY])\n",
    "    testX_rtn = pd.concat([X_rtn, testX_rtn])\n",
    "    testY_rtn = pd.concat([y_rtn, testY_rtn])"
   ]
  },
  {
   "cell_type": "markdown",
   "metadata": {},
   "source": [
    "Model converted into a function for reusablilty"
   ]
  },
  {
   "cell_type": "code",
   "execution_count": 21,
   "metadata": {},
   "outputs": [],
   "source": [
    "def optimize_inventory(selected_subcat, holding_cost, stockout_penalty, waste_penalty):\n",
    "    model = RandomForestRegressor(random_state=seed)\n",
    "    model_rtn = RandomForestRegressor(random_state=seed)\n",
    "\n",
    "    # This is for demand\n",
    "    tempx = trainX[(trainX['subcat'] == selected_subcat)].copy()\n",
    "    t_x = tempx[['quantity_lastcycle', 'quantity_2cycleback', 'quantity_3cycleback','quantity_4cycleback','quantity_5cycleback']]\n",
    "    t_y = trainY[(trainY['subcat']==selected_subcat)]['quantity']\n",
    "    model.fit(t_x, t_y)\n",
    "    test = testX[(testX['subcat'] == selected_subcat)][['quantity_lastcycle', 'quantity_2cycleback', 'quantity_3cycleback',\n",
    "                                                                                                'quantity_4cycleback','quantity_5cycleback']]\n",
    "    predicted_demand = model.predict(test)\n",
    "    predicted_demand = np.ceil(predicted_demand).astype(int) \n",
    "\n",
    "    # This is for return qty\n",
    "    tempx_rtn = trainX_rtn[(trainX_rtn['subcat'] == selected_subcat)].copy()\n",
    "    t_x = tempx_rtn[['quantity_lastcycle', 'quantity_2cycleback', 'quantity_3cycleback','quantity_4cycleback','quantity_5cycleback']]\n",
    "    t_y = trainY_rtn[(trainY_rtn['subcat']==selected_subcat)]['returnquantity']\n",
    "\n",
    "    model_rtn.fit(t_x, t_y)\n",
    "    \n",
    "    test = testX_rtn[(testX_rtn['subcat'] == selected_subcat)][['quantity_lastcycle', 'quantity_2cycleback', 'quantity_3cycleback',\n",
    "                                                                                                'quantity_4cycleback','quantity_5cycleback']]\n",
    "    predicted_return = model_rtn.predict(test)\n",
    "    predicted_return = np.ceil(predicted_return).astype(int) \n",
    "    \n",
    "    test_index = testX[(testX['subcat'] == selected_subcat)]['biweekly_index']\n",
    "    \n",
    "    T = len(predicted_demand)-1\n",
    "\n",
    "    temp_dict = subcat_dict[selected_subcat]\n",
    "\n",
    "    # Create a DataFrame with biweekly_index and predicted_demand\n",
    "    np.random.seed(seed)\n",
    "    prediction_df = pd.DataFrame({\n",
    "        'biweekly_index': test_index,\n",
    "        'Predicted_Demand': predicted_demand,\n",
    "        'Return_Prediction': predicted_return,\n",
    "        \"Unit_Cost\": np.random.uniform(temp_dict['unit_cost'][0], temp_dict['unit_cost'][1], len(predicted_demand)),  \n",
    "        \"Salvage_Value\": np.random.uniform(temp_dict['salvage_value'][0], temp_dict['salvage_value'][1], len(predicted_demand)),\n",
    "        \"Shelf_Life\": np.random.randint(temp_dict['shelf_life'][0], temp_dict['shelf_life'][1], len(predicted_demand))  \n",
    "    })\n",
    "\n",
    "    # Create a temporary table with biweekly_index, month_name, and bi_weekly\n",
    "    temp_table = filtered_df_bi_weekly[['biweekly_index', 'month_name', 'bi_weekly']].drop_duplicates()\n",
    "\n",
    "    # Join prediction_df with the temp_table on biweekly_index\n",
    "    prediction_df = prediction_df.merge(temp_table, on='biweekly_index', how='left')\n",
    "    # Reorder columns to place month_name and bi_weekly at the beginning\n",
    "    columns_order = ['month_name', 'bi_weekly'] + [col for col in prediction_df.columns if col not in ['month_name', 'bi_weekly']]\n",
    "    prediction_df = prediction_df[columns_order]\n",
    "\n",
    "    # Rename 'bi_weekly' to 'cycle_number'\n",
    "    prediction_df.rename(columns={'bi_weekly': 'cycle_number'}, inplace=True)\n",
    "\n",
    "    # Drop the 'biweekly_index' column\n",
    "    prediction_df.drop(columns=['biweekly_index'], inplace=True)\n",
    "\n",
    "    prediction_df = prediction_df.reset_index(drop=True)\n",
    "\n",
    "    # Gurobi Model\n",
    "    model = Model(\"Multi_Period_Medical_Inventory_Optimization\")\n",
    "\n",
    "    # Decision Variables\n",
    "    Q = model.addVars(prediction_df.index, vtype=GRB.CONTINUOUS, name=\"OrderQty\")  # Order quantity\n",
    "\n",
    "    # State Variables\n",
    "    I = model.addVars(prediction_df.index, vtype=GRB.CONTINUOUS, name=\"Inventory\")  # Inventory level\n",
    "\n",
    "    # Auxiliary Variables (Derived)\n",
    "    Y = model.addVars(prediction_df.index, vtype=GRB.CONTINUOUS, name=\"Expired\")   # Expired stock\n",
    "    S = model.addVars(prediction_df.index, vtype=GRB.CONTINUOUS, name=\"Stockout\")  # Stockout\n",
    "\n",
    "    # Objective: Minimize Total Cost\n",
    "    model.setObjective(\n",
    "        sum(prediction_df.loc[i, \"Unit_Cost\"] * Q[i] + \n",
    "            holding_cost * (I[i]) +\n",
    "            stockout_penalty * S[i] + \n",
    "            waste_penalty * Y[i] - \n",
    "            prediction_df.loc[i, \"Salvage_Value\"] * prediction_df.loc[i, \"Return_Prediction\"]\n",
    "            for i in prediction_df.index),\n",
    "        GRB.MINIMIZE\n",
    "    )\n",
    "\n",
    "    # Constraints:\n",
    "    for i in prediction_df.index:\n",
    "        # Safety Stock Constraint\n",
    "        safety_stock = 0.2 * prediction_df[\"Predicted_Demand\"]  # Example: 20% of demand as buffer\n",
    "        \n",
    "        # Inventory Balance Constraint\n",
    "        if i >= T:  # Ensure we don't reference out-of-bounds indices\n",
    "            continue\n",
    "        \n",
    "        # Starting Inventory at capacity\n",
    "        model.addConstr(I[0] == subcat_dict[selected_subcat]['Capacity'], name=f\"Initial_Inventory{i}\")\n",
    "\n",
    "        # Ensure inventory level meets safety stock requirements\n",
    "        model.addConstr(I[i] >= safety_stock[i], name=f\"SafetyStock_{i}\")\n",
    "        \n",
    "        model.addConstr(I[i+1] == I[i] + Q[i] + prediction_df.loc[i, \"Return_Prediction\"] - prediction_df.loc[i, \"Predicted_Demand\"] - Y[i], name=f\"Inventory_Balance_{i}\")\n",
    "\n",
    "        model.addConstr(I[i+1] <= subcat_dict[selected_subcat]['Capacity'], name=f\"Space_constraint{i}\")\n",
    "        \n",
    "        # Expired Inventory Constraint\n",
    "        model.addConstr(Y[i] <= I[i], name=f\"Expiry_{i}\")\n",
    "\n",
    "        # Stockout Constraint\n",
    "        model.addConstr(S[i] >= prediction_df.loc[i, \"Predicted_Demand\"] - I[i] - Q[i], name=f\"Stockout_{i}\")\n",
    "    \n",
    "    # Solve Model\n",
    "    model.optimize()\n",
    "\n",
    "    prediction_df[\"Optimal_Order\"] = [Q[i].x for i in prediction_df.index]\n",
    "    prediction_df[\"Inventory_Level\"] = [I[i].x for i in prediction_df.index]\n",
    "    prediction_df[\"Expired_Stock\"] = [Y[i].x for i in prediction_df.index]\n",
    "    prediction_df[\"Stockouts\"] = [S[i].x for i in prediction_df.index]\n",
    "    return prediction_df"
   ]
  },
  {
   "cell_type": "markdown",
   "metadata": {},
   "source": [
    "### User Selection to run Sensitivity Analysis"
   ]
  },
  {
   "cell_type": "markdown",
   "metadata": {},
   "source": [
    "Please select a subcat and feel free to adjust different values for the penalities"
   ]
  },
  {
   "cell_type": "code",
   "execution_count": 22,
   "metadata": {},
   "outputs": [
    {
     "name": "stdout",
     "output_type": "stream",
     "text": [
      "Number 0: INHALERS & RESPULES\n",
      "Number 1: INJECTIONS\n",
      "Number 2: IV FLUIDS, ELECTROLYTES, TPN\n",
      "Number 3: LIQUIDS & SOLUTIONS\n",
      "Number 4: TABLETS & CAPSULES\n"
     ]
    }
   ],
   "source": [
    "i = 0\n",
    "for subcate in list_subcat:\n",
    "    print(f\"Number {i}: {subcate}\")\n",
    "    i+=1"
   ]
  },
  {
   "cell_type": "code",
   "execution_count": 23,
   "metadata": {},
   "outputs": [
    {
     "name": "stdout",
     "output_type": "stream",
     "text": [
      "Selected subcategory: INJECTIONS\n"
     ]
    }
   ],
   "source": [
    "selected_subcat = list_subcat[1]\n",
    "print(f\"Selected subcategory: {selected_subcat}\")"
   ]
  },
  {
   "cell_type": "code",
   "execution_count": 25,
   "metadata": {},
   "outputs": [],
   "source": [
    "filtered_df = trainX[trainX['subcat'] == selected_subcat]\n",
    "# selected_drugname = st.selectbox('Select a drug', filtered_df['drugname'].unique())\n",
    "\n",
    "# Cost Coefficients_1\n",
    "holding_cost_1 = 2 # Cost per unit held\n",
    "stockout_penalty_1 = 50  # Cost per stockout\n",
    "waste_penalty_1 = 10 # Cost for expired stock\n",
    "\n",
    "# Cost Coefficients_2\n",
    "holding_cost_2 = 2 # Cost per unit held\n",
    "stockout_penalty_2 = 50  # Cost per stockout\n",
    "waste_penalty_2 = 10 # Cost for expired stock\n",
    "\n",
    "# Cost Coefficients_3\n",
    "holding_cost_3 = 2 # Cost per unit held\n",
    "stockout_penalty_3 = 50  # Cost per stockout\n",
    "waste_penalty_3 = 10 # Cost for expired stock"
   ]
  },
  {
   "cell_type": "code",
   "execution_count": 26,
   "metadata": {},
   "outputs": [
    {
     "name": "stdout",
     "output_type": "stream",
     "text": [
      "Set parameter Username\n",
      "Set parameter LicenseID to value 2611369\n",
      "Academic license - for non-commercial use only - expires 2026-01-17\n",
      "Gurobi Optimizer version 12.0.1 build v12.0.1rc0 (mac64[x86] - Darwin 24.4.0 24E248)\n",
      "\n",
      "CPU model: Intel(R) Core(TM) i7-8557U CPU @ 1.70GHz\n",
      "Thread count: 4 physical cores, 8 logical processors, using up to 8 threads\n",
      "\n",
      "Optimize a model with 48 rows, 40 columns and 96 nonzeros\n",
      "Model fingerprint: 0x36096da4\n",
      "Coefficient statistics:\n",
      "  Matrix range     [1e+00, 1e+00]\n",
      "  Objective range  [2e+00, 3e+03]\n",
      "  Bounds range     [0e+00, 0e+00]\n",
      "  RHS range        [3e+01, 5e+02]\n",
      "Presolve removed 37 rows and 23 columns\n",
      "Presolve time: 0.02s\n",
      "Presolved: 11 rows, 17 columns, 31 nonzeros\n",
      "\n",
      "Iteration    Objective       Primal Inf.    Dual Inf.      Time\n",
      "       0   -1.0165153e+06   1.581000e+02   0.000000e+00      0s\n",
      "       6    3.0855642e+05   0.000000e+00   0.000000e+00      0s\n",
      "\n",
      "Solved in 6 iterations and 0.03 seconds (0.00 work units)\n",
      "Optimal objective  3.085564199e+05\n",
      "Gurobi Optimizer version 12.0.1 build v12.0.1rc0 (mac64[x86] - Darwin 24.4.0 24E248)\n",
      "\n",
      "CPU model: Intel(R) Core(TM) i7-8557U CPU @ 1.70GHz\n",
      "Thread count: 4 physical cores, 8 logical processors, using up to 8 threads\n",
      "\n",
      "Optimize a model with 48 rows, 40 columns and 96 nonzeros\n",
      "Model fingerprint: 0x36096da4\n",
      "Coefficient statistics:\n",
      "  Matrix range     [1e+00, 1e+00]\n",
      "  Objective range  [2e+00, 3e+03]\n",
      "  Bounds range     [0e+00, 0e+00]\n",
      "  RHS range        [3e+01, 5e+02]\n",
      "Presolve removed 37 rows and 23 columns\n",
      "Presolve time: 0.01s\n",
      "Presolved: 11 rows, 17 columns, 31 nonzeros\n",
      "\n",
      "Iteration    Objective       Primal Inf.    Dual Inf.      Time\n",
      "       0   -1.0165153e+06   1.581000e+02   0.000000e+00      0s\n",
      "       6    3.0855642e+05   0.000000e+00   0.000000e+00      0s\n",
      "\n",
      "Solved in 6 iterations and 0.01 seconds (0.00 work units)\n",
      "Optimal objective  3.085564199e+05\n",
      "Gurobi Optimizer version 12.0.1 build v12.0.1rc0 (mac64[x86] - Darwin 24.4.0 24E248)\n",
      "\n",
      "CPU model: Intel(R) Core(TM) i7-8557U CPU @ 1.70GHz\n",
      "Thread count: 4 physical cores, 8 logical processors, using up to 8 threads\n",
      "\n",
      "Optimize a model with 48 rows, 40 columns and 96 nonzeros\n",
      "Model fingerprint: 0x36096da4\n",
      "Coefficient statistics:\n",
      "  Matrix range     [1e+00, 1e+00]\n",
      "  Objective range  [2e+00, 3e+03]\n",
      "  Bounds range     [0e+00, 0e+00]\n",
      "  RHS range        [3e+01, 5e+02]\n",
      "Presolve removed 37 rows and 23 columns\n",
      "Presolve time: 0.00s\n",
      "Presolved: 11 rows, 17 columns, 31 nonzeros\n",
      "\n",
      "Iteration    Objective       Primal Inf.    Dual Inf.      Time\n",
      "       0   -1.0165153e+06   1.581000e+02   0.000000e+00      0s\n",
      "       6    3.0855642e+05   0.000000e+00   0.000000e+00      0s\n",
      "\n",
      "Solved in 6 iterations and 0.01 seconds (0.00 work units)\n",
      "Optimal objective  3.085564199e+05\n"
     ]
    }
   ],
   "source": [
    "# Predict based on sliders\n",
    "prediction_df_1 = optimize_inventory(selected_subcat, holding_cost_1, stockout_penalty_1, waste_penalty_1)\n",
    "prediction_df_2 = optimize_inventory(selected_subcat, holding_cost_2, stockout_penalty_2, waste_penalty_2)\n",
    "prediction_df_3 = optimize_inventory(selected_subcat, holding_cost_3, stockout_penalty_3, waste_penalty_3)"
   ]
  },
  {
   "cell_type": "code",
   "execution_count": 27,
   "metadata": {},
   "outputs": [],
   "source": [
    "# Combine both sets into one DataFrame for easy plotting\n",
    "prediction_df_1['Set'] = 'Set 1'\n",
    "prediction_df_2['Set'] = 'Set 2'\n",
    "prediction_df_3['Set'] = 'Set 3'"
   ]
  },
  {
   "cell_type": "code",
   "execution_count": 28,
   "metadata": {},
   "outputs": [],
   "source": [
    "# Combine the two DataFrames\n",
    "combined_df = pd.concat([prediction_df_1[['Optimal_Order', 'Set']], prediction_df_2[['Optimal_Order', 'Set']], prediction_df_3[['Optimal_Order', 'Set']]])"
   ]
  },
  {
   "cell_type": "code",
   "execution_count": 30,
   "metadata": {},
   "outputs": [
    {
     "data": {
      "application/vnd.plotly.v1+json": {
       "config": {
        "plotlyServerURL": "https://plot.ly"
       },
       "data": [
        {
         "alignmentgroup": "True",
         "hovertemplate": "Set=Set 1<br>index=%{x}<br>Order Quantity=%{y}<extra></extra>",
         "legendgroup": "Set 1",
         "marker": {
          "color": "#636efa",
          "pattern": {
           "shape": ""
          }
         },
         "name": "Set 1",
         "offsetgroup": "Set 1",
         "orientation": "v",
         "showlegend": true,
         "textposition": "auto",
         "type": "bar",
         "x": [
          0,
          1,
          2,
          3,
          4,
          5,
          6,
          7,
          8,
          9
         ],
         "xaxis": "x",
         "y": [
          412,
          40.39999999999998,
          186.79999999999998,
          720.8,
          474,
          0,
          255.39999999999998,
          251.6,
          0,
          0
         ],
         "yaxis": "y"
        },
        {
         "alignmentgroup": "True",
         "hovertemplate": "Set=Set 2<br>index=%{x}<br>Order Quantity=%{y}<extra></extra>",
         "legendgroup": "Set 2",
         "marker": {
          "color": "#EF553B",
          "pattern": {
           "shape": ""
          }
         },
         "name": "Set 2",
         "offsetgroup": "Set 2",
         "orientation": "v",
         "showlegend": true,
         "textposition": "auto",
         "type": "bar",
         "x": [
          0,
          1,
          2,
          3,
          4,
          5,
          6,
          7,
          8,
          9
         ],
         "xaxis": "x",
         "y": [
          412,
          40.39999999999998,
          186.79999999999998,
          720.8,
          474,
          0,
          255.39999999999998,
          251.6,
          0,
          0
         ],
         "yaxis": "y"
        },
        {
         "alignmentgroup": "True",
         "hovertemplate": "Set=Set 3<br>index=%{x}<br>Order Quantity=%{y}<extra></extra>",
         "legendgroup": "Set 3",
         "marker": {
          "color": "#00cc96",
          "pattern": {
           "shape": ""
          }
         },
         "name": "Set 3",
         "offsetgroup": "Set 3",
         "orientation": "v",
         "showlegend": true,
         "textposition": "auto",
         "type": "bar",
         "x": [
          0,
          1,
          2,
          3,
          4,
          5,
          6,
          7,
          8,
          9
         ],
         "xaxis": "x",
         "y": [
          412,
          40.39999999999998,
          186.79999999999998,
          720.8,
          474,
          0,
          255.39999999999998,
          251.6,
          0,
          0
         ],
         "yaxis": "y"
        }
       ],
       "layout": {
        "barmode": "group",
        "legend": {
         "title": {
          "text": "Set"
         },
         "tracegroupgap": 0
        },
        "template": {
         "data": {
          "bar": [
           {
            "error_x": {
             "color": "#2a3f5f"
            },
            "error_y": {
             "color": "#2a3f5f"
            },
            "marker": {
             "line": {
              "color": "#E5ECF6",
              "width": 0.5
             },
             "pattern": {
              "fillmode": "overlay",
              "size": 10,
              "solidity": 0.2
             }
            },
            "type": "bar"
           }
          ],
          "barpolar": [
           {
            "marker": {
             "line": {
              "color": "#E5ECF6",
              "width": 0.5
             },
             "pattern": {
              "fillmode": "overlay",
              "size": 10,
              "solidity": 0.2
             }
            },
            "type": "barpolar"
           }
          ],
          "carpet": [
           {
            "aaxis": {
             "endlinecolor": "#2a3f5f",
             "gridcolor": "white",
             "linecolor": "white",
             "minorgridcolor": "white",
             "startlinecolor": "#2a3f5f"
            },
            "baxis": {
             "endlinecolor": "#2a3f5f",
             "gridcolor": "white",
             "linecolor": "white",
             "minorgridcolor": "white",
             "startlinecolor": "#2a3f5f"
            },
            "type": "carpet"
           }
          ],
          "choropleth": [
           {
            "colorbar": {
             "outlinewidth": 0,
             "ticks": ""
            },
            "type": "choropleth"
           }
          ],
          "contour": [
           {
            "colorbar": {
             "outlinewidth": 0,
             "ticks": ""
            },
            "colorscale": [
             [
              0,
              "#0d0887"
             ],
             [
              0.1111111111111111,
              "#46039f"
             ],
             [
              0.2222222222222222,
              "#7201a8"
             ],
             [
              0.3333333333333333,
              "#9c179e"
             ],
             [
              0.4444444444444444,
              "#bd3786"
             ],
             [
              0.5555555555555556,
              "#d8576b"
             ],
             [
              0.6666666666666666,
              "#ed7953"
             ],
             [
              0.7777777777777778,
              "#fb9f3a"
             ],
             [
              0.8888888888888888,
              "#fdca26"
             ],
             [
              1,
              "#f0f921"
             ]
            ],
            "type": "contour"
           }
          ],
          "contourcarpet": [
           {
            "colorbar": {
             "outlinewidth": 0,
             "ticks": ""
            },
            "type": "contourcarpet"
           }
          ],
          "heatmap": [
           {
            "colorbar": {
             "outlinewidth": 0,
             "ticks": ""
            },
            "colorscale": [
             [
              0,
              "#0d0887"
             ],
             [
              0.1111111111111111,
              "#46039f"
             ],
             [
              0.2222222222222222,
              "#7201a8"
             ],
             [
              0.3333333333333333,
              "#9c179e"
             ],
             [
              0.4444444444444444,
              "#bd3786"
             ],
             [
              0.5555555555555556,
              "#d8576b"
             ],
             [
              0.6666666666666666,
              "#ed7953"
             ],
             [
              0.7777777777777778,
              "#fb9f3a"
             ],
             [
              0.8888888888888888,
              "#fdca26"
             ],
             [
              1,
              "#f0f921"
             ]
            ],
            "type": "heatmap"
           }
          ],
          "heatmapgl": [
           {
            "colorbar": {
             "outlinewidth": 0,
             "ticks": ""
            },
            "colorscale": [
             [
              0,
              "#0d0887"
             ],
             [
              0.1111111111111111,
              "#46039f"
             ],
             [
              0.2222222222222222,
              "#7201a8"
             ],
             [
              0.3333333333333333,
              "#9c179e"
             ],
             [
              0.4444444444444444,
              "#bd3786"
             ],
             [
              0.5555555555555556,
              "#d8576b"
             ],
             [
              0.6666666666666666,
              "#ed7953"
             ],
             [
              0.7777777777777778,
              "#fb9f3a"
             ],
             [
              0.8888888888888888,
              "#fdca26"
             ],
             [
              1,
              "#f0f921"
             ]
            ],
            "type": "heatmapgl"
           }
          ],
          "histogram": [
           {
            "marker": {
             "pattern": {
              "fillmode": "overlay",
              "size": 10,
              "solidity": 0.2
             }
            },
            "type": "histogram"
           }
          ],
          "histogram2d": [
           {
            "colorbar": {
             "outlinewidth": 0,
             "ticks": ""
            },
            "colorscale": [
             [
              0,
              "#0d0887"
             ],
             [
              0.1111111111111111,
              "#46039f"
             ],
             [
              0.2222222222222222,
              "#7201a8"
             ],
             [
              0.3333333333333333,
              "#9c179e"
             ],
             [
              0.4444444444444444,
              "#bd3786"
             ],
             [
              0.5555555555555556,
              "#d8576b"
             ],
             [
              0.6666666666666666,
              "#ed7953"
             ],
             [
              0.7777777777777778,
              "#fb9f3a"
             ],
             [
              0.8888888888888888,
              "#fdca26"
             ],
             [
              1,
              "#f0f921"
             ]
            ],
            "type": "histogram2d"
           }
          ],
          "histogram2dcontour": [
           {
            "colorbar": {
             "outlinewidth": 0,
             "ticks": ""
            },
            "colorscale": [
             [
              0,
              "#0d0887"
             ],
             [
              0.1111111111111111,
              "#46039f"
             ],
             [
              0.2222222222222222,
              "#7201a8"
             ],
             [
              0.3333333333333333,
              "#9c179e"
             ],
             [
              0.4444444444444444,
              "#bd3786"
             ],
             [
              0.5555555555555556,
              "#d8576b"
             ],
             [
              0.6666666666666666,
              "#ed7953"
             ],
             [
              0.7777777777777778,
              "#fb9f3a"
             ],
             [
              0.8888888888888888,
              "#fdca26"
             ],
             [
              1,
              "#f0f921"
             ]
            ],
            "type": "histogram2dcontour"
           }
          ],
          "mesh3d": [
           {
            "colorbar": {
             "outlinewidth": 0,
             "ticks": ""
            },
            "type": "mesh3d"
           }
          ],
          "parcoords": [
           {
            "line": {
             "colorbar": {
              "outlinewidth": 0,
              "ticks": ""
             }
            },
            "type": "parcoords"
           }
          ],
          "pie": [
           {
            "automargin": true,
            "type": "pie"
           }
          ],
          "scatter": [
           {
            "fillpattern": {
             "fillmode": "overlay",
             "size": 10,
             "solidity": 0.2
            },
            "type": "scatter"
           }
          ],
          "scatter3d": [
           {
            "line": {
             "colorbar": {
              "outlinewidth": 0,
              "ticks": ""
             }
            },
            "marker": {
             "colorbar": {
              "outlinewidth": 0,
              "ticks": ""
             }
            },
            "type": "scatter3d"
           }
          ],
          "scattercarpet": [
           {
            "marker": {
             "colorbar": {
              "outlinewidth": 0,
              "ticks": ""
             }
            },
            "type": "scattercarpet"
           }
          ],
          "scattergeo": [
           {
            "marker": {
             "colorbar": {
              "outlinewidth": 0,
              "ticks": ""
             }
            },
            "type": "scattergeo"
           }
          ],
          "scattergl": [
           {
            "marker": {
             "colorbar": {
              "outlinewidth": 0,
              "ticks": ""
             }
            },
            "type": "scattergl"
           }
          ],
          "scattermapbox": [
           {
            "marker": {
             "colorbar": {
              "outlinewidth": 0,
              "ticks": ""
             }
            },
            "type": "scattermapbox"
           }
          ],
          "scatterpolar": [
           {
            "marker": {
             "colorbar": {
              "outlinewidth": 0,
              "ticks": ""
             }
            },
            "type": "scatterpolar"
           }
          ],
          "scatterpolargl": [
           {
            "marker": {
             "colorbar": {
              "outlinewidth": 0,
              "ticks": ""
             }
            },
            "type": "scatterpolargl"
           }
          ],
          "scatterternary": [
           {
            "marker": {
             "colorbar": {
              "outlinewidth": 0,
              "ticks": ""
             }
            },
            "type": "scatterternary"
           }
          ],
          "surface": [
           {
            "colorbar": {
             "outlinewidth": 0,
             "ticks": ""
            },
            "colorscale": [
             [
              0,
              "#0d0887"
             ],
             [
              0.1111111111111111,
              "#46039f"
             ],
             [
              0.2222222222222222,
              "#7201a8"
             ],
             [
              0.3333333333333333,
              "#9c179e"
             ],
             [
              0.4444444444444444,
              "#bd3786"
             ],
             [
              0.5555555555555556,
              "#d8576b"
             ],
             [
              0.6666666666666666,
              "#ed7953"
             ],
             [
              0.7777777777777778,
              "#fb9f3a"
             ],
             [
              0.8888888888888888,
              "#fdca26"
             ],
             [
              1,
              "#f0f921"
             ]
            ],
            "type": "surface"
           }
          ],
          "table": [
           {
            "cells": {
             "fill": {
              "color": "#EBF0F8"
             },
             "line": {
              "color": "white"
             }
            },
            "header": {
             "fill": {
              "color": "#C8D4E3"
             },
             "line": {
              "color": "white"
             }
            },
            "type": "table"
           }
          ]
         },
         "layout": {
          "annotationdefaults": {
           "arrowcolor": "#2a3f5f",
           "arrowhead": 0,
           "arrowwidth": 1
          },
          "autotypenumbers": "strict",
          "coloraxis": {
           "colorbar": {
            "outlinewidth": 0,
            "ticks": ""
           }
          },
          "colorscale": {
           "diverging": [
            [
             0,
             "#8e0152"
            ],
            [
             0.1,
             "#c51b7d"
            ],
            [
             0.2,
             "#de77ae"
            ],
            [
             0.3,
             "#f1b6da"
            ],
            [
             0.4,
             "#fde0ef"
            ],
            [
             0.5,
             "#f7f7f7"
            ],
            [
             0.6,
             "#e6f5d0"
            ],
            [
             0.7,
             "#b8e186"
            ],
            [
             0.8,
             "#7fbc41"
            ],
            [
             0.9,
             "#4d9221"
            ],
            [
             1,
             "#276419"
            ]
           ],
           "sequential": [
            [
             0,
             "#0d0887"
            ],
            [
             0.1111111111111111,
             "#46039f"
            ],
            [
             0.2222222222222222,
             "#7201a8"
            ],
            [
             0.3333333333333333,
             "#9c179e"
            ],
            [
             0.4444444444444444,
             "#bd3786"
            ],
            [
             0.5555555555555556,
             "#d8576b"
            ],
            [
             0.6666666666666666,
             "#ed7953"
            ],
            [
             0.7777777777777778,
             "#fb9f3a"
            ],
            [
             0.8888888888888888,
             "#fdca26"
            ],
            [
             1,
             "#f0f921"
            ]
           ],
           "sequentialminus": [
            [
             0,
             "#0d0887"
            ],
            [
             0.1111111111111111,
             "#46039f"
            ],
            [
             0.2222222222222222,
             "#7201a8"
            ],
            [
             0.3333333333333333,
             "#9c179e"
            ],
            [
             0.4444444444444444,
             "#bd3786"
            ],
            [
             0.5555555555555556,
             "#d8576b"
            ],
            [
             0.6666666666666666,
             "#ed7953"
            ],
            [
             0.7777777777777778,
             "#fb9f3a"
            ],
            [
             0.8888888888888888,
             "#fdca26"
            ],
            [
             1,
             "#f0f921"
            ]
           ]
          },
          "colorway": [
           "#636efa",
           "#EF553B",
           "#00cc96",
           "#ab63fa",
           "#FFA15A",
           "#19d3f3",
           "#FF6692",
           "#B6E880",
           "#FF97FF",
           "#FECB52"
          ],
          "font": {
           "color": "#2a3f5f"
          },
          "geo": {
           "bgcolor": "white",
           "lakecolor": "white",
           "landcolor": "#E5ECF6",
           "showlakes": true,
           "showland": true,
           "subunitcolor": "white"
          },
          "hoverlabel": {
           "align": "left"
          },
          "hovermode": "closest",
          "mapbox": {
           "style": "light"
          },
          "paper_bgcolor": "white",
          "plot_bgcolor": "#E5ECF6",
          "polar": {
           "angularaxis": {
            "gridcolor": "white",
            "linecolor": "white",
            "ticks": ""
           },
           "bgcolor": "#E5ECF6",
           "radialaxis": {
            "gridcolor": "white",
            "linecolor": "white",
            "ticks": ""
           }
          },
          "scene": {
           "xaxis": {
            "backgroundcolor": "#E5ECF6",
            "gridcolor": "white",
            "gridwidth": 2,
            "linecolor": "white",
            "showbackground": true,
            "ticks": "",
            "zerolinecolor": "white"
           },
           "yaxis": {
            "backgroundcolor": "#E5ECF6",
            "gridcolor": "white",
            "gridwidth": 2,
            "linecolor": "white",
            "showbackground": true,
            "ticks": "",
            "zerolinecolor": "white"
           },
           "zaxis": {
            "backgroundcolor": "#E5ECF6",
            "gridcolor": "white",
            "gridwidth": 2,
            "linecolor": "white",
            "showbackground": true,
            "ticks": "",
            "zerolinecolor": "white"
           }
          },
          "shapedefaults": {
           "line": {
            "color": "#2a3f5f"
           }
          },
          "ternary": {
           "aaxis": {
            "gridcolor": "white",
            "linecolor": "white",
            "ticks": ""
           },
           "baxis": {
            "gridcolor": "white",
            "linecolor": "white",
            "ticks": ""
           },
           "bgcolor": "#E5ECF6",
           "caxis": {
            "gridcolor": "white",
            "linecolor": "white",
            "ticks": ""
           }
          },
          "title": {
           "x": 0.05
          },
          "xaxis": {
           "automargin": true,
           "gridcolor": "white",
           "linecolor": "white",
           "ticks": "",
           "title": {
            "standoff": 15
           },
           "zerolinecolor": "white",
           "zerolinewidth": 2
          },
          "yaxis": {
           "automargin": true,
           "gridcolor": "white",
           "linecolor": "white",
           "ticks": "",
           "title": {
            "standoff": 15
           },
           "zerolinecolor": "white",
           "zerolinewidth": 2
          }
         }
        },
        "title": {
         "text": "Order Quantity Comparison between Three Sets for INJECTIONS"
        },
        "xaxis": {
         "anchor": "y",
         "domain": [
          0,
          1
         ],
         "tickmode": "linear",
         "title": {
          "text": "index"
         }
        },
        "yaxis": {
         "anchor": "x",
         "domain": [
          0,
          1
         ],
         "title": {
          "text": "Order Quantity"
         }
        }
       }
      }
     },
     "metadata": {},
     "output_type": "display_data"
    }
   ],
   "source": [
    "fig = px.bar(\n",
    "    combined_df,\n",
    "    x=combined_df.index,\n",
    "    y='Optimal_Order',\n",
    "    color='Set',\n",
    "    barmode='group',\n",
    "    labels={'Optimal_Order': 'Order Quantity', 'x': 'Cycle'},\n",
    "    title=f\"Order Quantity Comparison between Three Sets for {selected_subcat}\",\n",
    ")\n",
    "# Update layout to show all x-axis labels\n",
    "fig.update_layout(\n",
    "    xaxis=dict(\n",
    "        tickmode='linear'\n",
    "    )\n",
    ")"
   ]
  }
 ],
 "metadata": {
  "kernelspec": {
   "display_name": "dss",
   "language": "python",
   "name": "python3"
  },
  "language_info": {
   "codemirror_mode": {
    "name": "ipython",
    "version": 3
   },
   "file_extension": ".py",
   "mimetype": "text/x-python",
   "name": "python",
   "nbconvert_exporter": "python",
   "pygments_lexer": "ipython3",
   "version": "3.12.4"
  }
 },
 "nbformat": 4,
 "nbformat_minor": 2
}
