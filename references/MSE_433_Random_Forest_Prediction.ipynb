{
  "cells": [
    {
      "cell_type": "code",
      "execution_count": 1,
      "metadata": {
        "id": "CZ7q6aCgmlGi"
      },
      "outputs": [],
      "source": [
        "import pandas as pd\n",
        "import numpy as np\n",
        "import matplotlib.pyplot as plt\n",
        "import matplotlib.dates as mdates\n",
        "import seaborn as sns\n",
        "from sklearn.model_selection import train_test_split\n",
        "from sklearn.ensemble import RandomForestRegressor\n",
        "from sklearn.linear_model import LinearRegression, Ridge\n",
        "from sklearn import metrics"
      ]
    },
    {
      "cell_type": "code",
      "execution_count": 2,
      "metadata": {
        "colab": {
          "base_uri": "https://localhost:8080/",
          "height": 418
        },
        "id": "jBabex82mqSI",
        "outputId": "092a801a-8db8-4c71-9b62-25f58a73c98f"
      },
      "outputs": [
        {
          "data": {
            "application/vnd.microsoft.datawrangler.viewer.v0+json": {
              "columns": [
                {
                  "name": "index",
                  "rawType": "int64",
                  "type": "integer"
                },
                {
                  "name": "typeofsales",
                  "rawType": "object",
                  "type": "string"
                },
                {
                  "name": "patient_id",
                  "rawType": "int64",
                  "type": "integer"
                },
                {
                  "name": "specialisation",
                  "rawType": "object",
                  "type": "string"
                },
                {
                  "name": "dept",
                  "rawType": "object",
                  "type": "string"
                },
                {
                  "name": "dateofbill",
                  "rawType": "object",
                  "type": "string"
                },
                {
                  "name": "quantity",
                  "rawType": "int64",
                  "type": "integer"
                },
                {
                  "name": "returnquantity",
                  "rawType": "int64",
                  "type": "integer"
                },
                {
                  "name": "final_cost",
                  "rawType": "float64",
                  "type": "float"
                },
                {
                  "name": "final_sales",
                  "rawType": "float64",
                  "type": "float"
                },
                {
                  "name": "rtnmrp",
                  "rawType": "float64",
                  "type": "float"
                },
                {
                  "name": "formulation",
                  "rawType": "object",
                  "type": "string"
                },
                {
                  "name": "drugname",
                  "rawType": "object",
                  "type": "unknown"
                },
                {
                  "name": "subcat",
                  "rawType": "object",
                  "type": "unknown"
                },
                {
                  "name": "subcat1",
                  "rawType": "object",
                  "type": "unknown"
                }
              ],
              "conversionMethod": "pd.DataFrame",
              "ref": "0460b0ce-39ae-4dc7-891d-2d6db19c78db",
              "rows": [
                [
                  "6803",
                  "Sale",
                  "12018113968",
                  "Specialisation31",
                  "Department1",
                  "9-29-2022",
                  "2",
                  "0",
                  "620.16",
                  "1271.6",
                  "0.0",
                  "Patent",
                  "MEROPENEM 1GM INJ",
                  "INJECTIONS",
                  "ANTI-INFECTIVES"
                ],
                [
                  "7444",
                  "Sale",
                  "12018100390",
                  "Specialisation2",
                  "Department1",
                  "10-08-2022",
                  "1",
                  "0",
                  "51.85",
                  "57.568",
                  "0.0",
                  "Form1",
                  "SODIUM CHLORIDE 0.9%",
                  "IV FLUIDS, ELECTROLYTES, TPN",
                  "INTRAVENOUS & OTHER STERILE SOLUTIONS"
                ],
                [
                  "11789",
                  "Sale",
                  "12018083079",
                  "Specialisation4",
                  "Department1",
                  "09-02-2022",
                  "4",
                  "0",
                  "41.594",
                  "162.088",
                  "0.0",
                  "Form1",
                  "WATER FOR INJECTION 10ML SOLUTION",
                  "INJECTIONS",
                  "INTRAVENOUS & OTHER STERILE SOLUTIONS"
                ],
                [
                  "6523",
                  "Sale",
                  "12018096430",
                  "Specialisation50",
                  "Department1",
                  "12-05-2022",
                  "2",
                  "0",
                  "57.472",
                  "321.02",
                  "0.0",
                  "Form1",
                  "PARACETAMOL 1GM IV INJ",
                  "INJECTIONS",
                  "CENTRAL NERVOUS SYSTEM"
                ],
                [
                  "1941",
                  "Sale",
                  "12018096947",
                  "Specialisation4",
                  "Department2",
                  "9-20-2022",
                  "1",
                  "0",
                  "49.352",
                  "60.8",
                  "0.0",
                  "Form1",
                  null,
                  null,
                  null
                ]
              ],
              "shape": {
                "columns": 14,
                "rows": 5
              }
            },
            "text/html": [
              "<div>\n",
              "<style scoped>\n",
              "    .dataframe tbody tr th:only-of-type {\n",
              "        vertical-align: middle;\n",
              "    }\n",
              "\n",
              "    .dataframe tbody tr th {\n",
              "        vertical-align: top;\n",
              "    }\n",
              "\n",
              "    .dataframe thead th {\n",
              "        text-align: right;\n",
              "    }\n",
              "</style>\n",
              "<table border=\"1\" class=\"dataframe\">\n",
              "  <thead>\n",
              "    <tr style=\"text-align: right;\">\n",
              "      <th></th>\n",
              "      <th>typeofsales</th>\n",
              "      <th>patient_id</th>\n",
              "      <th>specialisation</th>\n",
              "      <th>dept</th>\n",
              "      <th>dateofbill</th>\n",
              "      <th>quantity</th>\n",
              "      <th>returnquantity</th>\n",
              "      <th>final_cost</th>\n",
              "      <th>final_sales</th>\n",
              "      <th>rtnmrp</th>\n",
              "      <th>formulation</th>\n",
              "      <th>drugname</th>\n",
              "      <th>subcat</th>\n",
              "      <th>subcat1</th>\n",
              "    </tr>\n",
              "  </thead>\n",
              "  <tbody>\n",
              "    <tr>\n",
              "      <th>6803</th>\n",
              "      <td>Sale</td>\n",
              "      <td>12018113968</td>\n",
              "      <td>Specialisation31</td>\n",
              "      <td>Department1</td>\n",
              "      <td>9-29-2022</td>\n",
              "      <td>2</td>\n",
              "      <td>0</td>\n",
              "      <td>620.160</td>\n",
              "      <td>1271.600</td>\n",
              "      <td>0.0</td>\n",
              "      <td>Patent</td>\n",
              "      <td>MEROPENEM 1GM INJ</td>\n",
              "      <td>INJECTIONS</td>\n",
              "      <td>ANTI-INFECTIVES</td>\n",
              "    </tr>\n",
              "    <tr>\n",
              "      <th>7444</th>\n",
              "      <td>Sale</td>\n",
              "      <td>12018100390</td>\n",
              "      <td>Specialisation2</td>\n",
              "      <td>Department1</td>\n",
              "      <td>10-08-2022</td>\n",
              "      <td>1</td>\n",
              "      <td>0</td>\n",
              "      <td>51.850</td>\n",
              "      <td>57.568</td>\n",
              "      <td>0.0</td>\n",
              "      <td>Form1</td>\n",
              "      <td>SODIUM CHLORIDE 0.9%</td>\n",
              "      <td>IV FLUIDS, ELECTROLYTES, TPN</td>\n",
              "      <td>INTRAVENOUS &amp; OTHER STERILE SOLUTIONS</td>\n",
              "    </tr>\n",
              "    <tr>\n",
              "      <th>11789</th>\n",
              "      <td>Sale</td>\n",
              "      <td>12018083079</td>\n",
              "      <td>Specialisation4</td>\n",
              "      <td>Department1</td>\n",
              "      <td>09-02-2022</td>\n",
              "      <td>4</td>\n",
              "      <td>0</td>\n",
              "      <td>41.594</td>\n",
              "      <td>162.088</td>\n",
              "      <td>0.0</td>\n",
              "      <td>Form1</td>\n",
              "      <td>WATER FOR INJECTION 10ML SOLUTION</td>\n",
              "      <td>INJECTIONS</td>\n",
              "      <td>INTRAVENOUS &amp; OTHER STERILE SOLUTIONS</td>\n",
              "    </tr>\n",
              "    <tr>\n",
              "      <th>6523</th>\n",
              "      <td>Sale</td>\n",
              "      <td>12018096430</td>\n",
              "      <td>Specialisation50</td>\n",
              "      <td>Department1</td>\n",
              "      <td>12-05-2022</td>\n",
              "      <td>2</td>\n",
              "      <td>0</td>\n",
              "      <td>57.472</td>\n",
              "      <td>321.020</td>\n",
              "      <td>0.0</td>\n",
              "      <td>Form1</td>\n",
              "      <td>PARACETAMOL 1GM IV INJ</td>\n",
              "      <td>INJECTIONS</td>\n",
              "      <td>CENTRAL NERVOUS SYSTEM</td>\n",
              "    </tr>\n",
              "    <tr>\n",
              "      <th>1941</th>\n",
              "      <td>Sale</td>\n",
              "      <td>12018096947</td>\n",
              "      <td>Specialisation4</td>\n",
              "      <td>Department2</td>\n",
              "      <td>9-20-2022</td>\n",
              "      <td>1</td>\n",
              "      <td>0</td>\n",
              "      <td>49.352</td>\n",
              "      <td>60.800</td>\n",
              "      <td>0.0</td>\n",
              "      <td>Form1</td>\n",
              "      <td>NaN</td>\n",
              "      <td>NaN</td>\n",
              "      <td>NaN</td>\n",
              "    </tr>\n",
              "  </tbody>\n",
              "</table>\n",
              "</div>"
            ],
            "text/plain": [
              "      typeofsales   patient_id    specialisation         dept  dateofbill  \\\n",
              "6803         Sale  12018113968  Specialisation31  Department1   9-29-2022   \n",
              "7444         Sale  12018100390   Specialisation2  Department1  10-08-2022   \n",
              "11789        Sale  12018083079   Specialisation4  Department1  09-02-2022   \n",
              "6523         Sale  12018096430  Specialisation50  Department1  12-05-2022   \n",
              "1941         Sale  12018096947   Specialisation4  Department2   9-20-2022   \n",
              "\n",
              "       quantity  returnquantity  final_cost  final_sales  rtnmrp formulation  \\\n",
              "6803          2               0     620.160     1271.600     0.0      Patent   \n",
              "7444          1               0      51.850       57.568     0.0       Form1   \n",
              "11789         4               0      41.594      162.088     0.0       Form1   \n",
              "6523          2               0      57.472      321.020     0.0       Form1   \n",
              "1941          1               0      49.352       60.800     0.0       Form1   \n",
              "\n",
              "                                drugname                        subcat  \\\n",
              "6803                   MEROPENEM 1GM INJ                    INJECTIONS   \n",
              "7444                SODIUM CHLORIDE 0.9%  IV FLUIDS, ELECTROLYTES, TPN   \n",
              "11789  WATER FOR INJECTION 10ML SOLUTION                    INJECTIONS   \n",
              "6523              PARACETAMOL 1GM IV INJ                    INJECTIONS   \n",
              "1941                                 NaN                           NaN   \n",
              "\n",
              "                                     subcat1  \n",
              "6803                         ANTI-INFECTIVES  \n",
              "7444   INTRAVENOUS & OTHER STERILE SOLUTIONS  \n",
              "11789  INTRAVENOUS & OTHER STERILE SOLUTIONS  \n",
              "6523                  CENTRAL NERVOUS SYSTEM  \n",
              "1941                                     NaN  "
            ]
          },
          "execution_count": 2,
          "metadata": {},
          "output_type": "execute_result"
        }
      ],
      "source": [
        "# from google.colab import drive\n",
        "# drive.mount('/content/drive')\n",
        "\n",
        "# df = pd.read_csv('/content/drive/MyDrive/Project/med_inv_dataset.csv') # For Sunith with the shortcut\n",
        "# df = pd.read_csv('/content/drive/MyDrive/433/Project/med_inv_dataset.csv') # For Akib\n",
        "df = pd.read_csv('data/med_inv_dataset.csv') # For local\n",
        "\n",
        "df.columns = df.columns.str.lower()\n",
        "df.sample(5)"
      ]
    },
    {
      "cell_type": "code",
      "execution_count": 3,
      "metadata": {
        "colab": {
          "base_uri": "https://localhost:8080/"
        },
        "id": "eh56VfOanVOy",
        "outputId": "3e919211-89c0-4eda-d022-0c9a4ed564cb"
      },
      "outputs": [
        {
          "name": "stdout",
          "output_type": "stream",
          "text": [
            "<class 'pandas.core.frame.DataFrame'>\n",
            "RangeIndex: 14218 entries, 0 to 14217\n",
            "Data columns (total 14 columns):\n",
            " #   Column          Non-Null Count  Dtype  \n",
            "---  ------          --------------  -----  \n",
            " 0   typeofsales     14218 non-null  object \n",
            " 1   patient_id      14218 non-null  int64  \n",
            " 2   specialisation  14218 non-null  object \n",
            " 3   dept            14218 non-null  object \n",
            " 4   dateofbill      14218 non-null  object \n",
            " 5   quantity        14218 non-null  int64  \n",
            " 6   returnquantity  14218 non-null  int64  \n",
            " 7   final_cost      14218 non-null  float64\n",
            " 8   final_sales     14218 non-null  float64\n",
            " 9   rtnmrp          14218 non-null  float64\n",
            " 10  formulation     13565 non-null  object \n",
            " 11  drugname        12550 non-null  object \n",
            " 12  subcat          12550 non-null  object \n",
            " 13  subcat1         12526 non-null  object \n",
            "dtypes: float64(3), int64(3), object(8)\n",
            "memory usage: 1.5+ MB\n"
          ]
        }
      ],
      "source": [
        "df.info()"
      ]
    },
    {
      "cell_type": "code",
      "execution_count": 4,
      "metadata": {
        "colab": {
          "base_uri": "https://localhost:8080/"
        },
        "id": "U8SoFFelnSpe",
        "outputId": "067d0743-182f-460c-f312-1eeaddcd2f17"
      },
      "outputs": [
        {
          "name": "stdout",
          "output_type": "stream",
          "text": [
            "<class 'pandas.core.frame.DataFrame'>\n",
            "Index: 12037 entries, 0 to 14217\n",
            "Data columns (total 14 columns):\n",
            " #   Column          Non-Null Count  Dtype  \n",
            "---  ------          --------------  -----  \n",
            " 0   typeofsales     12037 non-null  object \n",
            " 1   patient_id      12037 non-null  int64  \n",
            " 2   specialisation  12037 non-null  object \n",
            " 3   dept            12037 non-null  object \n",
            " 4   dateofbill      12037 non-null  object \n",
            " 5   quantity        12037 non-null  int64  \n",
            " 6   returnquantity  12037 non-null  int64  \n",
            " 7   final_cost      12037 non-null  float64\n",
            " 8   final_sales     12037 non-null  float64\n",
            " 9   rtnmrp          12037 non-null  float64\n",
            " 10  formulation     12037 non-null  object \n",
            " 11  drugname        12037 non-null  object \n",
            " 12  subcat          12037 non-null  object \n",
            " 13  subcat1         12037 non-null  object \n",
            "dtypes: float64(3), int64(3), object(8)\n",
            "memory usage: 1.4+ MB\n"
          ]
        }
      ],
      "source": [
        "df = df.dropna()\n",
        "df.info()"
      ]
    },
    {
      "cell_type": "code",
      "execution_count": 5,
      "metadata": {
        "colab": {
          "base_uri": "https://localhost:8080/",
          "height": 490
        },
        "id": "4HvRw8YXCOSZ",
        "outputId": "9e5f6a64-6ac7-473f-b223-1a36c21af42c"
      },
      "outputs": [
        {
          "data": {
            "application/vnd.microsoft.datawrangler.viewer.v0+json": {
              "columns": [
                {
                  "name": "index",
                  "rawType": "int64",
                  "type": "integer"
                },
                {
                  "name": "typeofsales",
                  "rawType": "object",
                  "type": "string"
                },
                {
                  "name": "patient_id",
                  "rawType": "int64",
                  "type": "integer"
                },
                {
                  "name": "specialisation",
                  "rawType": "object",
                  "type": "string"
                },
                {
                  "name": "dept",
                  "rawType": "object",
                  "type": "string"
                },
                {
                  "name": "dateofbill",
                  "rawType": "datetime64[ns]",
                  "type": "datetime"
                },
                {
                  "name": "quantity",
                  "rawType": "int64",
                  "type": "integer"
                },
                {
                  "name": "returnquantity",
                  "rawType": "int64",
                  "type": "integer"
                },
                {
                  "name": "final_cost",
                  "rawType": "float64",
                  "type": "float"
                },
                {
                  "name": "final_sales",
                  "rawType": "float64",
                  "type": "float"
                },
                {
                  "name": "rtnmrp",
                  "rawType": "float64",
                  "type": "float"
                },
                {
                  "name": "formulation",
                  "rawType": "object",
                  "type": "string"
                },
                {
                  "name": "drugname",
                  "rawType": "object",
                  "type": "string"
                },
                {
                  "name": "subcat",
                  "rawType": "object",
                  "type": "string"
                },
                {
                  "name": "subcat1",
                  "rawType": "object",
                  "type": "string"
                },
                {
                  "name": "month_name",
                  "rawType": "object",
                  "type": "string"
                },
                {
                  "name": "month_number",
                  "rawType": "int32",
                  "type": "integer"
                }
              ],
              "conversionMethod": "pd.DataFrame",
              "ref": "2af7f34b-47c0-4f02-a08f-53c873debbdc",
              "rows": [
                [
                  "0",
                  "Sale",
                  "12018098765",
                  "Specialisation6",
                  "Department1",
                  "2022-01-06 00:00:00",
                  "1",
                  "0",
                  "55.406",
                  "59.26",
                  "0.0",
                  "Form1",
                  "ZINC ACETATE 20MG/5ML SYP",
                  "SYRUP & SUSPENSION",
                  "VITAMINS & MINERALS",
                  "January",
                  "1"
                ],
                [
                  "1",
                  "Sale",
                  "12018103897",
                  "Specialisation7",
                  "Department1",
                  "2022-07-23 00:00:00",
                  "1",
                  "0",
                  "768.638",
                  "950.8",
                  "0.0",
                  "Form1",
                  "CEFTAZIDIME 2GM+AVIBACTAM 500MG",
                  "INJECTIONS",
                  "ANTI-INFECTIVES",
                  "July",
                  "7"
                ],
                [
                  "2",
                  "Sale",
                  "12018101123",
                  "Specialisation2",
                  "Department3",
                  "2022-06-23 00:00:00",
                  "1",
                  "0",
                  "774.266",
                  "4004.214",
                  "0.0",
                  "Form2",
                  "EPTIFIBATIDE 0.75MG/ML",
                  "INJECTIONS",
                  "CARDIOVASCULAR & HEMATOPOIETIC SYSTEM",
                  "June",
                  "6"
                ],
                [
                  "3",
                  "Sale",
                  "12018079281",
                  "Specialisation40",
                  "Department1",
                  "2022-03-17 00:00:00",
                  "2",
                  "0",
                  "40.798",
                  "81.044",
                  "0.0",
                  "Form1",
                  "WATER FOR INJECTION 10ML SOLUTION",
                  "INJECTIONS",
                  "INTRAVENOUS & OTHER STERILE SOLUTIONS",
                  "March",
                  "3"
                ],
                [
                  "4",
                  "Sale",
                  "12018117928",
                  "Specialisation5",
                  "Department1",
                  "2022-12-21 00:00:00",
                  "1",
                  "0",
                  "40.434",
                  "40.504",
                  "0.0",
                  "Form1",
                  "LORAZEPAM 1MG",
                  "TABLETS & CAPSULES",
                  "CENTRAL NERVOUS SYSTEM",
                  "December",
                  "12"
                ]
              ],
              "shape": {
                "columns": 16,
                "rows": 5
              }
            },
            "text/html": [
              "<div>\n",
              "<style scoped>\n",
              "    .dataframe tbody tr th:only-of-type {\n",
              "        vertical-align: middle;\n",
              "    }\n",
              "\n",
              "    .dataframe tbody tr th {\n",
              "        vertical-align: top;\n",
              "    }\n",
              "\n",
              "    .dataframe thead th {\n",
              "        text-align: right;\n",
              "    }\n",
              "</style>\n",
              "<table border=\"1\" class=\"dataframe\">\n",
              "  <thead>\n",
              "    <tr style=\"text-align: right;\">\n",
              "      <th></th>\n",
              "      <th>typeofsales</th>\n",
              "      <th>patient_id</th>\n",
              "      <th>specialisation</th>\n",
              "      <th>dept</th>\n",
              "      <th>dateofbill</th>\n",
              "      <th>quantity</th>\n",
              "      <th>returnquantity</th>\n",
              "      <th>final_cost</th>\n",
              "      <th>final_sales</th>\n",
              "      <th>rtnmrp</th>\n",
              "      <th>formulation</th>\n",
              "      <th>drugname</th>\n",
              "      <th>subcat</th>\n",
              "      <th>subcat1</th>\n",
              "      <th>month_name</th>\n",
              "      <th>month_number</th>\n",
              "    </tr>\n",
              "  </thead>\n",
              "  <tbody>\n",
              "    <tr>\n",
              "      <th>0</th>\n",
              "      <td>Sale</td>\n",
              "      <td>12018098765</td>\n",
              "      <td>Specialisation6</td>\n",
              "      <td>Department1</td>\n",
              "      <td>2022-01-06</td>\n",
              "      <td>1</td>\n",
              "      <td>0</td>\n",
              "      <td>55.406</td>\n",
              "      <td>59.260</td>\n",
              "      <td>0.0</td>\n",
              "      <td>Form1</td>\n",
              "      <td>ZINC ACETATE 20MG/5ML SYP</td>\n",
              "      <td>SYRUP &amp; SUSPENSION</td>\n",
              "      <td>VITAMINS &amp; MINERALS</td>\n",
              "      <td>January</td>\n",
              "      <td>1</td>\n",
              "    </tr>\n",
              "    <tr>\n",
              "      <th>1</th>\n",
              "      <td>Sale</td>\n",
              "      <td>12018103897</td>\n",
              "      <td>Specialisation7</td>\n",
              "      <td>Department1</td>\n",
              "      <td>2022-07-23</td>\n",
              "      <td>1</td>\n",
              "      <td>0</td>\n",
              "      <td>768.638</td>\n",
              "      <td>950.800</td>\n",
              "      <td>0.0</td>\n",
              "      <td>Form1</td>\n",
              "      <td>CEFTAZIDIME 2GM+AVIBACTAM 500MG</td>\n",
              "      <td>INJECTIONS</td>\n",
              "      <td>ANTI-INFECTIVES</td>\n",
              "      <td>July</td>\n",
              "      <td>7</td>\n",
              "    </tr>\n",
              "    <tr>\n",
              "      <th>2</th>\n",
              "      <td>Sale</td>\n",
              "      <td>12018101123</td>\n",
              "      <td>Specialisation2</td>\n",
              "      <td>Department3</td>\n",
              "      <td>2022-06-23</td>\n",
              "      <td>1</td>\n",
              "      <td>0</td>\n",
              "      <td>774.266</td>\n",
              "      <td>4004.214</td>\n",
              "      <td>0.0</td>\n",
              "      <td>Form2</td>\n",
              "      <td>EPTIFIBATIDE 0.75MG/ML</td>\n",
              "      <td>INJECTIONS</td>\n",
              "      <td>CARDIOVASCULAR &amp; HEMATOPOIETIC SYSTEM</td>\n",
              "      <td>June</td>\n",
              "      <td>6</td>\n",
              "    </tr>\n",
              "    <tr>\n",
              "      <th>3</th>\n",
              "      <td>Sale</td>\n",
              "      <td>12018079281</td>\n",
              "      <td>Specialisation40</td>\n",
              "      <td>Department1</td>\n",
              "      <td>2022-03-17</td>\n",
              "      <td>2</td>\n",
              "      <td>0</td>\n",
              "      <td>40.798</td>\n",
              "      <td>81.044</td>\n",
              "      <td>0.0</td>\n",
              "      <td>Form1</td>\n",
              "      <td>WATER FOR INJECTION 10ML SOLUTION</td>\n",
              "      <td>INJECTIONS</td>\n",
              "      <td>INTRAVENOUS &amp; OTHER STERILE SOLUTIONS</td>\n",
              "      <td>March</td>\n",
              "      <td>3</td>\n",
              "    </tr>\n",
              "    <tr>\n",
              "      <th>4</th>\n",
              "      <td>Sale</td>\n",
              "      <td>12018117928</td>\n",
              "      <td>Specialisation5</td>\n",
              "      <td>Department1</td>\n",
              "      <td>2022-12-21</td>\n",
              "      <td>1</td>\n",
              "      <td>0</td>\n",
              "      <td>40.434</td>\n",
              "      <td>40.504</td>\n",
              "      <td>0.0</td>\n",
              "      <td>Form1</td>\n",
              "      <td>LORAZEPAM 1MG</td>\n",
              "      <td>TABLETS &amp; CAPSULES</td>\n",
              "      <td>CENTRAL NERVOUS SYSTEM</td>\n",
              "      <td>December</td>\n",
              "      <td>12</td>\n",
              "    </tr>\n",
              "  </tbody>\n",
              "</table>\n",
              "</div>"
            ],
            "text/plain": [
              "  typeofsales   patient_id    specialisation         dept dateofbill  \\\n",
              "0        Sale  12018098765   Specialisation6  Department1 2022-01-06   \n",
              "1        Sale  12018103897   Specialisation7  Department1 2022-07-23   \n",
              "2        Sale  12018101123   Specialisation2  Department3 2022-06-23   \n",
              "3        Sale  12018079281  Specialisation40  Department1 2022-03-17   \n",
              "4        Sale  12018117928   Specialisation5  Department1 2022-12-21   \n",
              "\n",
              "   quantity  returnquantity  final_cost  final_sales  rtnmrp formulation  \\\n",
              "0         1               0      55.406       59.260     0.0       Form1   \n",
              "1         1               0     768.638      950.800     0.0       Form1   \n",
              "2         1               0     774.266     4004.214     0.0       Form2   \n",
              "3         2               0      40.798       81.044     0.0       Form1   \n",
              "4         1               0      40.434       40.504     0.0       Form1   \n",
              "\n",
              "                            drugname              subcat  \\\n",
              "0          ZINC ACETATE 20MG/5ML SYP  SYRUP & SUSPENSION   \n",
              "1    CEFTAZIDIME 2GM+AVIBACTAM 500MG          INJECTIONS   \n",
              "2             EPTIFIBATIDE 0.75MG/ML          INJECTIONS   \n",
              "3  WATER FOR INJECTION 10ML SOLUTION          INJECTIONS   \n",
              "4                      LORAZEPAM 1MG  TABLETS & CAPSULES   \n",
              "\n",
              "                                 subcat1 month_name  month_number  \n",
              "0                    VITAMINS & MINERALS    January             1  \n",
              "1                        ANTI-INFECTIVES       July             7  \n",
              "2  CARDIOVASCULAR & HEMATOPOIETIC SYSTEM       June             6  \n",
              "3  INTRAVENOUS & OTHER STERILE SOLUTIONS      March             3  \n",
              "4                 CENTRAL NERVOUS SYSTEM   December            12  "
            ]
          },
          "execution_count": 5,
          "metadata": {},
          "output_type": "execute_result"
        }
      ],
      "source": [
        "# Convert 'dateofbill' to datetime objects\n",
        "df['dateofbill'] = pd.to_datetime(df['dateofbill'])\n",
        "\n",
        "# Extract month name\n",
        "df['month_name'] = df['dateofbill'].dt.strftime('%B')\n",
        "\n",
        "# Extract month number\n",
        "df['month_number'] = df['dateofbill'].dt.month\n",
        "df.head()"
      ]
    },
    {
      "cell_type": "code",
      "execution_count": 6,
      "metadata": {
        "id": "ln3PN75YByxh"
      },
      "outputs": [],
      "source": [
        "df_subcat = df.groupby(['subcat',\n",
        "                        'month_name',\n",
        "                        'month_number'], as_index=False).agg(\n",
        "                            {'quantity': 'sum',\n",
        "                             'returnquantity': 'sum',\n",
        "                             'final_cost': 'sum',\n",
        "                             'final_sales': 'sum',\n",
        "                             'rtnmrp': 'sum'})"
      ]
    },
    {
      "cell_type": "code",
      "execution_count": 7,
      "metadata": {
        "colab": {
          "base_uri": "https://localhost:8080/",
          "height": 424
        },
        "id": "bEPTSPZmDps1",
        "outputId": "70d74e70-7635-46da-9ea4-198fed10359e"
      },
      "outputs": [
        {
          "data": {
            "application/vnd.microsoft.datawrangler.viewer.v0+json": {
              "columns": [
                {
                  "name": "index",
                  "rawType": "int64",
                  "type": "integer"
                },
                {
                  "name": "subcat",
                  "rawType": "object",
                  "type": "string"
                },
                {
                  "name": "month_name",
                  "rawType": "object",
                  "type": "string"
                },
                {
                  "name": "month_number",
                  "rawType": "int32",
                  "type": "integer"
                },
                {
                  "name": "quantity",
                  "rawType": "int64",
                  "type": "integer"
                },
                {
                  "name": "returnquantity",
                  "rawType": "int64",
                  "type": "integer"
                },
                {
                  "name": "final_cost",
                  "rawType": "float64",
                  "type": "float"
                },
                {
                  "name": "final_sales",
                  "rawType": "float64",
                  "type": "float"
                },
                {
                  "name": "rtnmrp",
                  "rawType": "float64",
                  "type": "float"
                }
              ],
              "conversionMethod": "pd.DataFrame",
              "ref": "8ef7326c-5c9d-4a09-9472-0568fa869061",
              "rows": [
                [
                  "0",
                  "DROPS",
                  "April",
                  "4",
                  "7",
                  "1",
                  "463.88",
                  "444.15",
                  "50.12"
                ],
                [
                  "1",
                  "DROPS",
                  "August",
                  "8",
                  "4",
                  "0",
                  "231.614",
                  "247.25",
                  "0.0"
                ],
                [
                  "2",
                  "DROPS",
                  "December",
                  "12",
                  "1",
                  "1",
                  "175.586",
                  "58.0",
                  "142.378"
                ],
                [
                  "3",
                  "DROPS",
                  "February",
                  "2",
                  "2",
                  "1",
                  "184.29",
                  "117.058",
                  "79.552"
                ],
                [
                  "4",
                  "DROPS",
                  "January",
                  "1",
                  "1",
                  "2",
                  "156.832",
                  "68.8",
                  "98.388"
                ],
                [
                  "5",
                  "DROPS",
                  "July",
                  "7",
                  "3",
                  "0",
                  "159.048",
                  "168.13400000000001",
                  "0.0"
                ],
                [
                  "6",
                  "DROPS",
                  "June",
                  "6",
                  "2",
                  "0",
                  "117.35",
                  "124.462",
                  "0.0"
                ],
                [
                  "7",
                  "DROPS",
                  "March",
                  "3",
                  "3",
                  "0",
                  "163.794",
                  "171.22",
                  "0.0"
                ],
                [
                  "8",
                  "DROPS",
                  "May",
                  "5",
                  "5",
                  "1",
                  "397.046",
                  "349.522",
                  "79.552"
                ],
                [
                  "9",
                  "DROPS",
                  "November",
                  "11",
                  "3",
                  "0",
                  "162.97",
                  "174.076",
                  "0.0"
                ],
                [
                  "10",
                  "DROPS",
                  "October",
                  "10",
                  "8",
                  "0",
                  "492.198",
                  "529.166",
                  "0.0"
                ],
                [
                  "11",
                  "DROPS",
                  "September",
                  "9",
                  "7",
                  "1",
                  "420.084",
                  "394.47",
                  "55.696"
                ],
                [
                  "12",
                  "INHALERS & RESPULES",
                  "April",
                  "4",
                  "83",
                  "9",
                  "1410.388",
                  "3553.59",
                  "399.10200000000003"
                ],
                [
                  "13",
                  "INHALERS & RESPULES",
                  "August",
                  "8",
                  "147",
                  "11",
                  "2349.934",
                  "6524.2119999999995",
                  "480.374"
                ],
                [
                  "14",
                  "INHALERS & RESPULES",
                  "December",
                  "12",
                  "129",
                  "48",
                  "2198.412",
                  "5545.806",
                  "2008.672"
                ],
                [
                  "15",
                  "INHALERS & RESPULES",
                  "February",
                  "2",
                  "84",
                  "5",
                  "1375.876",
                  "3613.838",
                  "274.976"
                ],
                [
                  "16",
                  "INHALERS & RESPULES",
                  "January",
                  "1",
                  "163",
                  "7",
                  "2011.2640000000001",
                  "7027.038",
                  "289.994"
                ],
                [
                  "17",
                  "INHALERS & RESPULES",
                  "July",
                  "7",
                  "148",
                  "22",
                  "1986.208",
                  "6320.266",
                  "948.756"
                ],
                [
                  "18",
                  "INHALERS & RESPULES",
                  "June",
                  "6",
                  "106",
                  "22",
                  "1935.408",
                  "4686.1",
                  "1112.6399999999999"
                ],
                [
                  "19",
                  "INHALERS & RESPULES",
                  "March",
                  "3",
                  "103",
                  "24",
                  "1916.716",
                  "4733.974",
                  "1017.962"
                ],
                [
                  "20",
                  "INHALERS & RESPULES",
                  "May",
                  "5",
                  "119",
                  "27",
                  "1981.356",
                  "5142.334",
                  "1294.406"
                ],
                [
                  "21",
                  "INHALERS & RESPULES",
                  "November",
                  "11",
                  "150",
                  "21",
                  "2438.12",
                  "6606.954",
                  "1092.92"
                ],
                [
                  "22",
                  "INHALERS & RESPULES",
                  "October",
                  "10",
                  "86",
                  "14",
                  "1872.354",
                  "3927.116",
                  "600.862"
                ],
                [
                  "23",
                  "INHALERS & RESPULES",
                  "September",
                  "9",
                  "151",
                  "14",
                  "2672.794",
                  "7043.0560000000005",
                  "596.182"
                ],
                [
                  "24",
                  "INJECTIONS",
                  "April",
                  "4",
                  "1039",
                  "110",
                  "74796.296",
                  "150461.498",
                  "9893.282"
                ],
                [
                  "25",
                  "INJECTIONS",
                  "August",
                  "8",
                  "1144",
                  "134",
                  "76275.92",
                  "155136.55",
                  "27583.72"
                ],
                [
                  "26",
                  "INJECTIONS",
                  "December",
                  "12",
                  "1165",
                  "130",
                  "137140.242",
                  "229072.966",
                  "19439.056"
                ],
                [
                  "27",
                  "INJECTIONS",
                  "February",
                  "2",
                  "867",
                  "59",
                  "52798.322",
                  "115425.6",
                  "5592.304"
                ],
                [
                  "28",
                  "INJECTIONS",
                  "January",
                  "1",
                  "794",
                  "73",
                  "51451.466",
                  "114053.486",
                  "12001.932"
                ],
                [
                  "29",
                  "INJECTIONS",
                  "July",
                  "7",
                  "1028",
                  "119",
                  "81767.67",
                  "150964.064",
                  "18461.744"
                ],
                [
                  "30",
                  "INJECTIONS",
                  "June",
                  "6",
                  "949",
                  "95",
                  "66444.482",
                  "139630.732",
                  "9166.548"
                ],
                [
                  "31",
                  "INJECTIONS",
                  "March",
                  "3",
                  "1021",
                  "130",
                  "57197.996",
                  "118666.752",
                  "12883.828"
                ],
                [
                  "32",
                  "INJECTIONS",
                  "May",
                  "5",
                  "898",
                  "177",
                  "93570.096",
                  "168083.302",
                  "20195.038"
                ],
                [
                  "33",
                  "INJECTIONS",
                  "November",
                  "11",
                  "1085",
                  "96",
                  "88086.668",
                  "153387.302",
                  "9381.342"
                ],
                [
                  "34",
                  "INJECTIONS",
                  "October",
                  "10",
                  "1032",
                  "131",
                  "82383.984",
                  "154100.2",
                  "13906.25"
                ],
                [
                  "35",
                  "INJECTIONS",
                  "September",
                  "9",
                  "1175",
                  "107",
                  "104548.744",
                  "170789.388",
                  "24745.992000000002"
                ],
                [
                  "36",
                  "IV FLUIDS, ELECTROLYTES, TPN",
                  "April",
                  "4",
                  "443",
                  "31",
                  "36511.123999999996",
                  "61182.232",
                  "1601.442"
                ],
                [
                  "37",
                  "IV FLUIDS, ELECTROLYTES, TPN",
                  "August",
                  "8",
                  "445",
                  "47",
                  "37832.56",
                  "63489.7",
                  "3569.034"
                ],
                [
                  "38",
                  "IV FLUIDS, ELECTROLYTES, TPN",
                  "December",
                  "12",
                  "401",
                  "36",
                  "38822.288",
                  "66007.448",
                  "2092.592"
                ],
                [
                  "39",
                  "IV FLUIDS, ELECTROLYTES, TPN",
                  "February",
                  "2",
                  "333",
                  "34",
                  "30990.079999999998",
                  "50487.39",
                  "2116.968"
                ],
                [
                  "40",
                  "IV FLUIDS, ELECTROLYTES, TPN",
                  "January",
                  "1",
                  "379",
                  "45",
                  "21459.376",
                  "36753.916",
                  "2520.496"
                ],
                [
                  "41",
                  "IV FLUIDS, ELECTROLYTES, TPN",
                  "July",
                  "7",
                  "447",
                  "42",
                  "38018.762",
                  "65808.624",
                  "2289.158"
                ],
                [
                  "42",
                  "IV FLUIDS, ELECTROLYTES, TPN",
                  "June",
                  "6",
                  "423",
                  "46",
                  "24977.006",
                  "43606.77",
                  "2480.018"
                ],
                [
                  "43",
                  "IV FLUIDS, ELECTROLYTES, TPN",
                  "March",
                  "3",
                  "413",
                  "41",
                  "27545.048",
                  "45744.496",
                  "2320.986"
                ],
                [
                  "44",
                  "IV FLUIDS, ELECTROLYTES, TPN",
                  "May",
                  "5",
                  "447",
                  "41",
                  "30833.532",
                  "54211.404",
                  "2103.968"
                ],
                [
                  "45",
                  "IV FLUIDS, ELECTROLYTES, TPN",
                  "November",
                  "11",
                  "321",
                  "25",
                  "32925.218",
                  "55534.006",
                  "1297.142"
                ],
                [
                  "46",
                  "IV FLUIDS, ELECTROLYTES, TPN",
                  "October",
                  "10",
                  "312",
                  "36",
                  "27366.17",
                  "45153.316",
                  "2090.196"
                ],
                [
                  "47",
                  "IV FLUIDS, ELECTROLYTES, TPN",
                  "September",
                  "9",
                  "352",
                  "39",
                  "26369.764",
                  "44809.234000000004",
                  "2309.822"
                ],
                [
                  "48",
                  "LIQUIDS & SOLUTIONS",
                  "April",
                  "4",
                  "85",
                  "3",
                  "1429.09",
                  "4254.078",
                  "236.088"
                ],
                [
                  "49",
                  "LIQUIDS & SOLUTIONS",
                  "August",
                  "8",
                  "139",
                  "2",
                  "1880.684",
                  "6959.572",
                  "120.05"
                ]
              ],
              "shape": {
                "columns": 8,
                "rows": 166
              }
            },
            "text/html": [
              "<div>\n",
              "<style scoped>\n",
              "    .dataframe tbody tr th:only-of-type {\n",
              "        vertical-align: middle;\n",
              "    }\n",
              "\n",
              "    .dataframe tbody tr th {\n",
              "        vertical-align: top;\n",
              "    }\n",
              "\n",
              "    .dataframe thead th {\n",
              "        text-align: right;\n",
              "    }\n",
              "</style>\n",
              "<table border=\"1\" class=\"dataframe\">\n",
              "  <thead>\n",
              "    <tr style=\"text-align: right;\">\n",
              "      <th></th>\n",
              "      <th>subcat</th>\n",
              "      <th>month_name</th>\n",
              "      <th>month_number</th>\n",
              "      <th>quantity</th>\n",
              "      <th>returnquantity</th>\n",
              "      <th>final_cost</th>\n",
              "      <th>final_sales</th>\n",
              "      <th>rtnmrp</th>\n",
              "    </tr>\n",
              "  </thead>\n",
              "  <tbody>\n",
              "    <tr>\n",
              "      <th>0</th>\n",
              "      <td>DROPS</td>\n",
              "      <td>April</td>\n",
              "      <td>4</td>\n",
              "      <td>7</td>\n",
              "      <td>1</td>\n",
              "      <td>463.880</td>\n",
              "      <td>444.150</td>\n",
              "      <td>50.120</td>\n",
              "    </tr>\n",
              "    <tr>\n",
              "      <th>1</th>\n",
              "      <td>DROPS</td>\n",
              "      <td>August</td>\n",
              "      <td>8</td>\n",
              "      <td>4</td>\n",
              "      <td>0</td>\n",
              "      <td>231.614</td>\n",
              "      <td>247.250</td>\n",
              "      <td>0.000</td>\n",
              "    </tr>\n",
              "    <tr>\n",
              "      <th>2</th>\n",
              "      <td>DROPS</td>\n",
              "      <td>December</td>\n",
              "      <td>12</td>\n",
              "      <td>1</td>\n",
              "      <td>1</td>\n",
              "      <td>175.586</td>\n",
              "      <td>58.000</td>\n",
              "      <td>142.378</td>\n",
              "    </tr>\n",
              "    <tr>\n",
              "      <th>3</th>\n",
              "      <td>DROPS</td>\n",
              "      <td>February</td>\n",
              "      <td>2</td>\n",
              "      <td>2</td>\n",
              "      <td>1</td>\n",
              "      <td>184.290</td>\n",
              "      <td>117.058</td>\n",
              "      <td>79.552</td>\n",
              "    </tr>\n",
              "    <tr>\n",
              "      <th>4</th>\n",
              "      <td>DROPS</td>\n",
              "      <td>January</td>\n",
              "      <td>1</td>\n",
              "      <td>1</td>\n",
              "      <td>2</td>\n",
              "      <td>156.832</td>\n",
              "      <td>68.800</td>\n",
              "      <td>98.388</td>\n",
              "    </tr>\n",
              "    <tr>\n",
              "      <th>...</th>\n",
              "      <td>...</td>\n",
              "      <td>...</td>\n",
              "      <td>...</td>\n",
              "      <td>...</td>\n",
              "      <td>...</td>\n",
              "      <td>...</td>\n",
              "      <td>...</td>\n",
              "      <td>...</td>\n",
              "    </tr>\n",
              "    <tr>\n",
              "      <th>161</th>\n",
              "      <td>VACCINE</td>\n",
              "      <td>March</td>\n",
              "      <td>3</td>\n",
              "      <td>1</td>\n",
              "      <td>0</td>\n",
              "      <td>55.804</td>\n",
              "      <td>58.816</td>\n",
              "      <td>0.000</td>\n",
              "    </tr>\n",
              "    <tr>\n",
              "      <th>162</th>\n",
              "      <td>VACCINE</td>\n",
              "      <td>May</td>\n",
              "      <td>5</td>\n",
              "      <td>3</td>\n",
              "      <td>0</td>\n",
              "      <td>170.482</td>\n",
              "      <td>183.258</td>\n",
              "      <td>0.000</td>\n",
              "    </tr>\n",
              "    <tr>\n",
              "      <th>163</th>\n",
              "      <td>VACCINE</td>\n",
              "      <td>November</td>\n",
              "      <td>11</td>\n",
              "      <td>3</td>\n",
              "      <td>1</td>\n",
              "      <td>256.290</td>\n",
              "      <td>221.846</td>\n",
              "      <td>58.816</td>\n",
              "    </tr>\n",
              "    <tr>\n",
              "      <th>164</th>\n",
              "      <td>VACCINE</td>\n",
              "      <td>October</td>\n",
              "      <td>10</td>\n",
              "      <td>1</td>\n",
              "      <td>1</td>\n",
              "      <td>132.040</td>\n",
              "      <td>58.816</td>\n",
              "      <td>86.826</td>\n",
              "    </tr>\n",
              "    <tr>\n",
              "      <th>165</th>\n",
              "      <td>VACCINE</td>\n",
              "      <td>September</td>\n",
              "      <td>9</td>\n",
              "      <td>1</td>\n",
              "      <td>0</td>\n",
              "      <td>46.884</td>\n",
              "      <td>48.194</td>\n",
              "      <td>0.000</td>\n",
              "    </tr>\n",
              "  </tbody>\n",
              "</table>\n",
              "<p>166 rows × 8 columns</p>\n",
              "</div>"
            ],
            "text/plain": [
              "      subcat month_name  month_number  quantity  returnquantity  final_cost  \\\n",
              "0      DROPS      April             4         7               1     463.880   \n",
              "1      DROPS     August             8         4               0     231.614   \n",
              "2      DROPS   December            12         1               1     175.586   \n",
              "3      DROPS   February             2         2               1     184.290   \n",
              "4      DROPS    January             1         1               2     156.832   \n",
              "..       ...        ...           ...       ...             ...         ...   \n",
              "161  VACCINE      March             3         1               0      55.804   \n",
              "162  VACCINE        May             5         3               0     170.482   \n",
              "163  VACCINE   November            11         3               1     256.290   \n",
              "164  VACCINE    October            10         1               1     132.040   \n",
              "165  VACCINE  September             9         1               0      46.884   \n",
              "\n",
              "     final_sales   rtnmrp  \n",
              "0        444.150   50.120  \n",
              "1        247.250    0.000  \n",
              "2         58.000  142.378  \n",
              "3        117.058   79.552  \n",
              "4         68.800   98.388  \n",
              "..           ...      ...  \n",
              "161       58.816    0.000  \n",
              "162      183.258    0.000  \n",
              "163      221.846   58.816  \n",
              "164       58.816   86.826  \n",
              "165       48.194    0.000  \n",
              "\n",
              "[166 rows x 8 columns]"
            ]
          },
          "execution_count": 7,
          "metadata": {},
          "output_type": "execute_result"
        }
      ],
      "source": [
        "df_subcat"
      ]
    },
    {
      "cell_type": "code",
      "execution_count": 8,
      "metadata": {
        "id": "IcFF-zufELSm"
      },
      "outputs": [],
      "source": [
        "highest_quantity_subcats = df_subcat.groupby('subcat')['quantity'].sum().nlargest(5)"
      ]
    },
    {
      "cell_type": "code",
      "execution_count": 9,
      "metadata": {
        "colab": {
          "base_uri": "https://localhost:8080/",
          "height": 272
        },
        "id": "seggk3ynEYjj",
        "outputId": "d77a2abc-ceba-4b57-8ce9-06bb2a945f03"
      },
      "outputs": [
        {
          "data": {
            "text/plain": [
              "subcat\n",
              "INJECTIONS                      12197\n",
              "IV FLUIDS, ELECTROLYTES, TPN     4716\n",
              "LIQUIDS & SOLUTIONS              1886\n",
              "TABLETS & CAPSULES               1607\n",
              "INHALERS & RESPULES              1469\n",
              "Name: quantity, dtype: int64"
            ]
          },
          "execution_count": 9,
          "metadata": {},
          "output_type": "execute_result"
        }
      ],
      "source": [
        "top_5_cat = highest_quantity_subcats.index.to_list()\n",
        "highest_quantity_subcats"
      ]
    },
    {
      "cell_type": "code",
      "execution_count": 10,
      "metadata": {
        "colab": {
          "base_uri": "https://localhost:8080/",
          "height": 206
        },
        "id": "BdfMCP-r_4OT",
        "outputId": "89ca4203-1a16-4985-e57a-a6e0366776f8"
      },
      "outputs": [
        {
          "data": {
            "application/vnd.microsoft.datawrangler.viewer.v0+json": {
              "columns": [
                {
                  "name": "index",
                  "rawType": "int64",
                  "type": "integer"
                },
                {
                  "name": "subcat",
                  "rawType": "object",
                  "type": "string"
                },
                {
                  "name": "month_name",
                  "rawType": "object",
                  "type": "string"
                },
                {
                  "name": "month_number",
                  "rawType": "int32",
                  "type": "integer"
                },
                {
                  "name": "quantity",
                  "rawType": "int64",
                  "type": "integer"
                },
                {
                  "name": "returnquantity",
                  "rawType": "int64",
                  "type": "integer"
                },
                {
                  "name": "final_cost",
                  "rawType": "float64",
                  "type": "float"
                },
                {
                  "name": "final_sales",
                  "rawType": "float64",
                  "type": "float"
                },
                {
                  "name": "rtnmrp",
                  "rawType": "float64",
                  "type": "float"
                }
              ],
              "conversionMethod": "pd.DataFrame",
              "ref": "9b88efcd-bcd7-4b69-9a13-0f729c2cd465",
              "rows": [
                [
                  "26",
                  "INJECTIONS",
                  "December",
                  "12",
                  "1165",
                  "130",
                  "137140.242",
                  "229072.966",
                  "19439.056"
                ],
                [
                  "147",
                  "TABLETS & CAPSULES",
                  "December",
                  "12",
                  "148",
                  "8",
                  "9744.718",
                  "11730.448",
                  "493.366"
                ],
                [
                  "50",
                  "LIQUIDS & SOLUTIONS",
                  "December",
                  "12",
                  "346",
                  "5",
                  "3487.832",
                  "17056.366",
                  "514.448"
                ],
                [
                  "38",
                  "IV FLUIDS, ELECTROLYTES, TPN",
                  "December",
                  "12",
                  "401",
                  "36",
                  "38822.288",
                  "66007.448",
                  "2092.592"
                ],
                [
                  "14",
                  "INHALERS & RESPULES",
                  "December",
                  "12",
                  "129",
                  "48",
                  "2198.412",
                  "5545.806",
                  "2008.672"
                ]
              ],
              "shape": {
                "columns": 8,
                "rows": 5
              }
            },
            "text/html": [
              "<div>\n",
              "<style scoped>\n",
              "    .dataframe tbody tr th:only-of-type {\n",
              "        vertical-align: middle;\n",
              "    }\n",
              "\n",
              "    .dataframe tbody tr th {\n",
              "        vertical-align: top;\n",
              "    }\n",
              "\n",
              "    .dataframe thead th {\n",
              "        text-align: right;\n",
              "    }\n",
              "</style>\n",
              "<table border=\"1\" class=\"dataframe\">\n",
              "  <thead>\n",
              "    <tr style=\"text-align: right;\">\n",
              "      <th></th>\n",
              "      <th>subcat</th>\n",
              "      <th>month_name</th>\n",
              "      <th>month_number</th>\n",
              "      <th>quantity</th>\n",
              "      <th>returnquantity</th>\n",
              "      <th>final_cost</th>\n",
              "      <th>final_sales</th>\n",
              "      <th>rtnmrp</th>\n",
              "    </tr>\n",
              "  </thead>\n",
              "  <tbody>\n",
              "    <tr>\n",
              "      <th>26</th>\n",
              "      <td>INJECTIONS</td>\n",
              "      <td>December</td>\n",
              "      <td>12</td>\n",
              "      <td>1165</td>\n",
              "      <td>130</td>\n",
              "      <td>137140.242</td>\n",
              "      <td>229072.966</td>\n",
              "      <td>19439.056</td>\n",
              "    </tr>\n",
              "    <tr>\n",
              "      <th>147</th>\n",
              "      <td>TABLETS &amp; CAPSULES</td>\n",
              "      <td>December</td>\n",
              "      <td>12</td>\n",
              "      <td>148</td>\n",
              "      <td>8</td>\n",
              "      <td>9744.718</td>\n",
              "      <td>11730.448</td>\n",
              "      <td>493.366</td>\n",
              "    </tr>\n",
              "    <tr>\n",
              "      <th>50</th>\n",
              "      <td>LIQUIDS &amp; SOLUTIONS</td>\n",
              "      <td>December</td>\n",
              "      <td>12</td>\n",
              "      <td>346</td>\n",
              "      <td>5</td>\n",
              "      <td>3487.832</td>\n",
              "      <td>17056.366</td>\n",
              "      <td>514.448</td>\n",
              "    </tr>\n",
              "    <tr>\n",
              "      <th>38</th>\n",
              "      <td>IV FLUIDS, ELECTROLYTES, TPN</td>\n",
              "      <td>December</td>\n",
              "      <td>12</td>\n",
              "      <td>401</td>\n",
              "      <td>36</td>\n",
              "      <td>38822.288</td>\n",
              "      <td>66007.448</td>\n",
              "      <td>2092.592</td>\n",
              "    </tr>\n",
              "    <tr>\n",
              "      <th>14</th>\n",
              "      <td>INHALERS &amp; RESPULES</td>\n",
              "      <td>December</td>\n",
              "      <td>12</td>\n",
              "      <td>129</td>\n",
              "      <td>48</td>\n",
              "      <td>2198.412</td>\n",
              "      <td>5545.806</td>\n",
              "      <td>2008.672</td>\n",
              "    </tr>\n",
              "  </tbody>\n",
              "</table>\n",
              "</div>"
            ],
            "text/plain": [
              "                           subcat month_name  month_number  quantity  \\\n",
              "26                     INJECTIONS   December            12      1165   \n",
              "147            TABLETS & CAPSULES   December            12       148   \n",
              "50            LIQUIDS & SOLUTIONS   December            12       346   \n",
              "38   IV FLUIDS, ELECTROLYTES, TPN   December            12       401   \n",
              "14            INHALERS & RESPULES   December            12       129   \n",
              "\n",
              "     returnquantity  final_cost  final_sales     rtnmrp  \n",
              "26              130  137140.242   229072.966  19439.056  \n",
              "147               8    9744.718    11730.448    493.366  \n",
              "50                5    3487.832    17056.366    514.448  \n",
              "38               36   38822.288    66007.448   2092.592  \n",
              "14               48    2198.412     5545.806   2008.672  "
            ]
          },
          "execution_count": 10,
          "metadata": {},
          "output_type": "execute_result"
        }
      ],
      "source": [
        "ml_data = df_subcat[df_subcat['subcat'].isin(top_5_cat)].sort_values('month_number')\n",
        "ml_data.tail(5)"
      ]
    },
    {
      "cell_type": "code",
      "execution_count": 11,
      "metadata": {
        "colab": {
          "base_uri": "https://localhost:8080/",
          "height": 206
        },
        "id": "RrfGPeF4GqQw",
        "outputId": "581becc1-9b5c-43b7-ee50-a997fb54d17c"
      },
      "outputs": [
        {
          "data": {
            "application/vnd.microsoft.datawrangler.viewer.v0+json": {
              "columns": [
                {
                  "name": "index",
                  "rawType": "int64",
                  "type": "integer"
                },
                {
                  "name": "subcat",
                  "rawType": "object",
                  "type": "string"
                },
                {
                  "name": "month_name",
                  "rawType": "object",
                  "type": "string"
                },
                {
                  "name": "month_number",
                  "rawType": "int32",
                  "type": "integer"
                },
                {
                  "name": "quantity",
                  "rawType": "int64",
                  "type": "integer"
                },
                {
                  "name": "returnquantity",
                  "rawType": "int64",
                  "type": "integer"
                },
                {
                  "name": "final_cost",
                  "rawType": "float64",
                  "type": "float"
                },
                {
                  "name": "final_sales",
                  "rawType": "float64",
                  "type": "float"
                },
                {
                  "name": "rtnmrp",
                  "rawType": "float64",
                  "type": "float"
                },
                {
                  "name": "demand",
                  "rawType": "int64",
                  "type": "integer"
                },
                {
                  "name": "profit",
                  "rawType": "float64",
                  "type": "float"
                }
              ],
              "conversionMethod": "pd.DataFrame",
              "ref": "e5c99064-f494-4875-afa1-95c481a03775",
              "rows": [
                [
                  "40",
                  "IV FLUIDS, ELECTROLYTES, TPN",
                  "January",
                  "1",
                  "379",
                  "45",
                  "21459.376",
                  "36753.916",
                  "2520.496",
                  "334",
                  "15294.539999999997"
                ],
                [
                  "16",
                  "INHALERS & RESPULES",
                  "January",
                  "1",
                  "163",
                  "7",
                  "2011.2640000000001",
                  "7027.038",
                  "289.994",
                  "156",
                  "5015.773999999999"
                ],
                [
                  "52",
                  "LIQUIDS & SOLUTIONS",
                  "January",
                  "1",
                  "267",
                  "6",
                  "2565.066",
                  "12707.573999999999",
                  "612.24",
                  "261",
                  "10142.507999999998"
                ],
                [
                  "28",
                  "INJECTIONS",
                  "January",
                  "1",
                  "794",
                  "73",
                  "51451.466",
                  "114053.486",
                  "12001.932",
                  "721",
                  "62602.020000000004"
                ],
                [
                  "149",
                  "TABLETS & CAPSULES",
                  "January",
                  "1",
                  "132",
                  "7",
                  "13122.932",
                  "15356.836",
                  "700.102",
                  "125",
                  "2233.9039999999986"
                ]
              ],
              "shape": {
                "columns": 10,
                "rows": 5
              }
            },
            "text/html": [
              "<div>\n",
              "<style scoped>\n",
              "    .dataframe tbody tr th:only-of-type {\n",
              "        vertical-align: middle;\n",
              "    }\n",
              "\n",
              "    .dataframe tbody tr th {\n",
              "        vertical-align: top;\n",
              "    }\n",
              "\n",
              "    .dataframe thead th {\n",
              "        text-align: right;\n",
              "    }\n",
              "</style>\n",
              "<table border=\"1\" class=\"dataframe\">\n",
              "  <thead>\n",
              "    <tr style=\"text-align: right;\">\n",
              "      <th></th>\n",
              "      <th>subcat</th>\n",
              "      <th>month_name</th>\n",
              "      <th>month_number</th>\n",
              "      <th>quantity</th>\n",
              "      <th>returnquantity</th>\n",
              "      <th>final_cost</th>\n",
              "      <th>final_sales</th>\n",
              "      <th>rtnmrp</th>\n",
              "      <th>demand</th>\n",
              "      <th>profit</th>\n",
              "    </tr>\n",
              "  </thead>\n",
              "  <tbody>\n",
              "    <tr>\n",
              "      <th>40</th>\n",
              "      <td>IV FLUIDS, ELECTROLYTES, TPN</td>\n",
              "      <td>January</td>\n",
              "      <td>1</td>\n",
              "      <td>379</td>\n",
              "      <td>45</td>\n",
              "      <td>21459.376</td>\n",
              "      <td>36753.916</td>\n",
              "      <td>2520.496</td>\n",
              "      <td>334</td>\n",
              "      <td>15294.540</td>\n",
              "    </tr>\n",
              "    <tr>\n",
              "      <th>16</th>\n",
              "      <td>INHALERS &amp; RESPULES</td>\n",
              "      <td>January</td>\n",
              "      <td>1</td>\n",
              "      <td>163</td>\n",
              "      <td>7</td>\n",
              "      <td>2011.264</td>\n",
              "      <td>7027.038</td>\n",
              "      <td>289.994</td>\n",
              "      <td>156</td>\n",
              "      <td>5015.774</td>\n",
              "    </tr>\n",
              "    <tr>\n",
              "      <th>52</th>\n",
              "      <td>LIQUIDS &amp; SOLUTIONS</td>\n",
              "      <td>January</td>\n",
              "      <td>1</td>\n",
              "      <td>267</td>\n",
              "      <td>6</td>\n",
              "      <td>2565.066</td>\n",
              "      <td>12707.574</td>\n",
              "      <td>612.240</td>\n",
              "      <td>261</td>\n",
              "      <td>10142.508</td>\n",
              "    </tr>\n",
              "    <tr>\n",
              "      <th>28</th>\n",
              "      <td>INJECTIONS</td>\n",
              "      <td>January</td>\n",
              "      <td>1</td>\n",
              "      <td>794</td>\n",
              "      <td>73</td>\n",
              "      <td>51451.466</td>\n",
              "      <td>114053.486</td>\n",
              "      <td>12001.932</td>\n",
              "      <td>721</td>\n",
              "      <td>62602.020</td>\n",
              "    </tr>\n",
              "    <tr>\n",
              "      <th>149</th>\n",
              "      <td>TABLETS &amp; CAPSULES</td>\n",
              "      <td>January</td>\n",
              "      <td>1</td>\n",
              "      <td>132</td>\n",
              "      <td>7</td>\n",
              "      <td>13122.932</td>\n",
              "      <td>15356.836</td>\n",
              "      <td>700.102</td>\n",
              "      <td>125</td>\n",
              "      <td>2233.904</td>\n",
              "    </tr>\n",
              "  </tbody>\n",
              "</table>\n",
              "</div>"
            ],
            "text/plain": [
              "                           subcat month_name  month_number  quantity  \\\n",
              "40   IV FLUIDS, ELECTROLYTES, TPN    January             1       379   \n",
              "16            INHALERS & RESPULES    January             1       163   \n",
              "52            LIQUIDS & SOLUTIONS    January             1       267   \n",
              "28                     INJECTIONS    January             1       794   \n",
              "149            TABLETS & CAPSULES    January             1       132   \n",
              "\n",
              "     returnquantity  final_cost  final_sales     rtnmrp  demand     profit  \n",
              "40               45   21459.376    36753.916   2520.496     334  15294.540  \n",
              "16                7    2011.264     7027.038    289.994     156   5015.774  \n",
              "52                6    2565.066    12707.574    612.240     261  10142.508  \n",
              "28               73   51451.466   114053.486  12001.932     721  62602.020  \n",
              "149               7   13122.932    15356.836    700.102     125   2233.904  "
            ]
          },
          "execution_count": 11,
          "metadata": {},
          "output_type": "execute_result"
        }
      ],
      "source": [
        "ml_data['demand'] = ml_data['quantity'] - ml_data['returnquantity']\n",
        "ml_data['profit'] = ml_data['final_sales'] - ml_data['final_cost']\n",
        "ml_data.head()"
      ]
    },
    {
      "cell_type": "markdown",
      "metadata": {
        "id": "YfLC2ElJIHov"
      },
      "source": [
        "### Test Dev"
      ]
    },
    {
      "cell_type": "code",
      "execution_count": 12,
      "metadata": {
        "colab": {
          "base_uri": "https://localhost:8080/",
          "height": 332
        },
        "id": "ccF9C5VpHXT3",
        "outputId": "6c8dff98-a6b4-424a-ea33-68deb62a32f4"
      },
      "outputs": [
        {
          "data": {
            "application/vnd.microsoft.datawrangler.viewer.v0+json": {
              "columns": [
                {
                  "name": "index",
                  "rawType": "int64",
                  "type": "integer"
                },
                {
                  "name": "month_number",
                  "rawType": "int32",
                  "type": "integer"
                },
                {
                  "name": "demand",
                  "rawType": "int64",
                  "type": "integer"
                },
                {
                  "name": "quantity_lastmonth",
                  "rawType": "float64",
                  "type": "float"
                },
                {
                  "name": "quantity_2monthsback",
                  "rawType": "float64",
                  "type": "float"
                },
                {
                  "name": "quantity_3monthsback",
                  "rawType": "float64",
                  "type": "float"
                }
              ],
              "conversionMethod": "pd.DataFrame",
              "ref": "8d0d9111-4b96-40ec-ba72-a83e9ea12865",
              "rows": [
                [
                  "48",
                  "4",
                  "82",
                  "186.0",
                  "63.0",
                  "261.0"
                ],
                [
                  "56",
                  "5",
                  "119",
                  "82.0",
                  "186.0",
                  "63.0"
                ],
                [
                  "54",
                  "6",
                  "33",
                  "119.0",
                  "82.0",
                  "186.0"
                ],
                [
                  "53",
                  "7",
                  "134",
                  "33.0",
                  "119.0",
                  "82.0"
                ],
                [
                  "49",
                  "8",
                  "137",
                  "134.0",
                  "33.0",
                  "119.0"
                ],
                [
                  "59",
                  "9",
                  "12",
                  "137.0",
                  "134.0",
                  "33.0"
                ],
                [
                  "58",
                  "10",
                  "185",
                  "12.0",
                  "137.0",
                  "134.0"
                ],
                [
                  "57",
                  "11",
                  "304",
                  "185.0",
                  "12.0",
                  "137.0"
                ],
                [
                  "50",
                  "12",
                  "341",
                  "304.0",
                  "185.0",
                  "12.0"
                ]
              ],
              "shape": {
                "columns": 5,
                "rows": 9
              }
            },
            "text/html": [
              "<div>\n",
              "<style scoped>\n",
              "    .dataframe tbody tr th:only-of-type {\n",
              "        vertical-align: middle;\n",
              "    }\n",
              "\n",
              "    .dataframe tbody tr th {\n",
              "        vertical-align: top;\n",
              "    }\n",
              "\n",
              "    .dataframe thead th {\n",
              "        text-align: right;\n",
              "    }\n",
              "</style>\n",
              "<table border=\"1\" class=\"dataframe\">\n",
              "  <thead>\n",
              "    <tr style=\"text-align: right;\">\n",
              "      <th></th>\n",
              "      <th>month_number</th>\n",
              "      <th>demand</th>\n",
              "      <th>quantity_lastmonth</th>\n",
              "      <th>quantity_2monthsback</th>\n",
              "      <th>quantity_3monthsback</th>\n",
              "    </tr>\n",
              "  </thead>\n",
              "  <tbody>\n",
              "    <tr>\n",
              "      <th>48</th>\n",
              "      <td>4</td>\n",
              "      <td>82</td>\n",
              "      <td>186.0</td>\n",
              "      <td>63.0</td>\n",
              "      <td>261.0</td>\n",
              "    </tr>\n",
              "    <tr>\n",
              "      <th>56</th>\n",
              "      <td>5</td>\n",
              "      <td>119</td>\n",
              "      <td>82.0</td>\n",
              "      <td>186.0</td>\n",
              "      <td>63.0</td>\n",
              "    </tr>\n",
              "    <tr>\n",
              "      <th>54</th>\n",
              "      <td>6</td>\n",
              "      <td>33</td>\n",
              "      <td>119.0</td>\n",
              "      <td>82.0</td>\n",
              "      <td>186.0</td>\n",
              "    </tr>\n",
              "    <tr>\n",
              "      <th>53</th>\n",
              "      <td>7</td>\n",
              "      <td>134</td>\n",
              "      <td>33.0</td>\n",
              "      <td>119.0</td>\n",
              "      <td>82.0</td>\n",
              "    </tr>\n",
              "    <tr>\n",
              "      <th>49</th>\n",
              "      <td>8</td>\n",
              "      <td>137</td>\n",
              "      <td>134.0</td>\n",
              "      <td>33.0</td>\n",
              "      <td>119.0</td>\n",
              "    </tr>\n",
              "    <tr>\n",
              "      <th>59</th>\n",
              "      <td>9</td>\n",
              "      <td>12</td>\n",
              "      <td>137.0</td>\n",
              "      <td>134.0</td>\n",
              "      <td>33.0</td>\n",
              "    </tr>\n",
              "    <tr>\n",
              "      <th>58</th>\n",
              "      <td>10</td>\n",
              "      <td>185</td>\n",
              "      <td>12.0</td>\n",
              "      <td>137.0</td>\n",
              "      <td>134.0</td>\n",
              "    </tr>\n",
              "    <tr>\n",
              "      <th>57</th>\n",
              "      <td>11</td>\n",
              "      <td>304</td>\n",
              "      <td>185.0</td>\n",
              "      <td>12.0</td>\n",
              "      <td>137.0</td>\n",
              "    </tr>\n",
              "    <tr>\n",
              "      <th>50</th>\n",
              "      <td>12</td>\n",
              "      <td>341</td>\n",
              "      <td>304.0</td>\n",
              "      <td>185.0</td>\n",
              "      <td>12.0</td>\n",
              "    </tr>\n",
              "  </tbody>\n",
              "</table>\n",
              "</div>"
            ],
            "text/plain": [
              "    month_number  demand  quantity_lastmonth  quantity_2monthsback  \\\n",
              "48             4      82               186.0                  63.0   \n",
              "56             5     119                82.0                 186.0   \n",
              "54             6      33               119.0                  82.0   \n",
              "53             7     134                33.0                 119.0   \n",
              "49             8     137               134.0                  33.0   \n",
              "59             9      12               137.0                 134.0   \n",
              "58            10     185                12.0                 137.0   \n",
              "57            11     304               185.0                  12.0   \n",
              "50            12     341               304.0                 185.0   \n",
              "\n",
              "    quantity_3monthsback  \n",
              "48                 261.0  \n",
              "56                  63.0  \n",
              "54                 186.0  \n",
              "53                  82.0  \n",
              "49                 119.0  \n",
              "59                  33.0  \n",
              "58                 134.0  \n",
              "57                 137.0  \n",
              "50                  12.0  "
            ]
          },
          "execution_count": 12,
          "metadata": {},
          "output_type": "execute_result"
        }
      ],
      "source": [
        "ml_df = ml_data[ml_data['subcat'] == 'LIQUIDS & SOLUTIONS'][['month_number', 'demand']]\n",
        "ml_df['quantity_lastmonth']=ml_df['demand'].shift(+1)\n",
        "ml_df['quantity_2monthsback']=ml_df['demand'].shift(+2)\n",
        "ml_df['quantity_3monthsback']=ml_df['demand'].shift(+3)\n",
        "ml_df = ml_df.dropna()\n",
        "ml_df.head(12)"
      ]
    },
    {
      "cell_type": "code",
      "execution_count": 13,
      "metadata": {
        "id": "Ejt43LOXPUa7"
      },
      "outputs": [],
      "source": [
        "X = ml_df[['quantity_lastmonth', 'quantity_2monthsback', 'quantity_3monthsback']]\n",
        "y = ml_df['demand']"
      ]
    },
    {
      "cell_type": "code",
      "execution_count": 14,
      "metadata": {
        "id": "qaJh27UsPPsR"
      },
      "outputs": [],
      "source": [
        "seed = 100"
      ]
    },
    {
      "cell_type": "code",
      "execution_count": 15,
      "metadata": {
        "id": "2BKZOUijPcbo"
      },
      "outputs": [],
      "source": [
        "X_train, X_test, y_train, y_test = train_test_split(X, y, test_size=0.2, random_state=seed)"
      ]
    },
    {
      "cell_type": "code",
      "execution_count": 16,
      "metadata": {
        "colab": {
          "base_uri": "https://localhost:8080/"
        },
        "id": "jeTK8XybZh2K",
        "outputId": "7270b34b-2597-41a0-90d1-d82679144291"
      },
      "outputs": [
        {
          "name": "stdout",
          "output_type": "stream",
          "text": [
            "[2988.82685, 54.67016416657261, 0.29194208494208496]\n"
          ]
        }
      ],
      "source": [
        "model = RandomForestRegressor(random_state=seed)\n",
        "model.fit(X_train, y_train)\n",
        "y_pred = model.predict(X_test)\n",
        "eval = [metrics.mean_squared_error(y_test, y_pred),\n",
        "      metrics.root_mean_squared_error(y_test, y_pred),\n",
        "      metrics.mean_absolute_percentage_error(y_test, y_pred),]\n",
        "print(eval)"
      ]
    },
    {
      "cell_type": "markdown",
      "metadata": {
        "id": "yX7-FCHhaqq1"
      },
      "source": [
        "### Production Ready Code"
      ]
    },
    {
      "cell_type": "code",
      "execution_count": 17,
      "metadata": {
        "id": "ukpCGsDyRB-6"
      },
      "outputs": [],
      "source": [
        "metric_results = pd.DataFrame(columns=[\"Model\", \"MSE\", \"RMSE\", \"MAPE\", \"y_pred\"])"
      ]
    },
    {
      "cell_type": "code",
      "execution_count": 18,
      "metadata": {
        "id": "zdiGUAwHWdkR"
      },
      "outputs": [],
      "source": [
        "def calculate_last_three_months(df, all_filter = False, code = False):\n",
        "  if not all_filter:\n",
        "    ml_df = df[df['subcat'] == subcat][['month_number', 'demand']]\n",
        "  elif code:\n",
        "    ml_df = df[df['subcat'] == subcat][['month_number', 'subcat_code', 'demand']]\n",
        "  else:\n",
        "    ml_df = df[['month_number', 'demand']]\n",
        "  ml_df['quantity_lastmonth']=ml_df['demand'].shift(+1)\n",
        "  ml_df['quantity_2monthsback']=ml_df['demand'].shift(+2)\n",
        "  ml_df['quantity_3monthsback']=ml_df['demand'].shift(+3)\n",
        "\n",
        "  # option #1\n",
        "  ml_df = ml_df.dropna() #dropping na is necessary to avoid model failure other option\n",
        "\n",
        "  # option #2\n",
        "  # ml_df['quantity_lastmonth'].fillna(ml_df['quantity_lastmonth'].mean())\n",
        "  # ml_df['quantity_2monthsback'].fillna(ml_df['quantity_2monthsback'].mean())\n",
        "  # ml_df['quantity_3monthsback'].fillna(ml_df['quantity_3monthsback'].mean())\n",
        "  if code:\n",
        "    X = ml_df[['subcat_code', 'quantity_lastmonth', 'quantity_2monthsback', 'quantity_3monthsback']]\n",
        "  else:\n",
        "    X = ml_df[['quantity_lastmonth', 'quantity_2monthsback', 'quantity_3monthsback']]\n",
        "  y = ml_df['demand']\n",
        "  return X, y"
      ]
    },
    {
      "cell_type": "code",
      "execution_count": 19,
      "metadata": {
        "id": "CpvvROgAP53s"
      },
      "outputs": [],
      "source": [
        "# Train a Random Forest model.\n",
        "def RandomForest(X, y):\n",
        "  model = RandomForestRegressor(random_state=seed)\n",
        "  model.fit(X, y)\n",
        "  return model\n",
        "\n",
        "# Calculate classification metrics.\n",
        "def calculate_metrics(model_type, y_test, y_pred):\n",
        "  model_results = [\n",
        "      model_type,\n",
        "      metrics.mean_squared_error(y_test, y_pred),\n",
        "      metrics.root_mean_squared_error(y_test, y_pred),\n",
        "      metrics.mean_absolute_percentage_error(y_test, y_pred),\n",
        "      y_pred,\n",
        "  ]\n",
        "  return model_results\n",
        "\n",
        "# Trains a model, generates performance metrics, and adds results.\n",
        "def train_and_evaluate_model(df, X_train, y_train, X_test, y_test, model_type):\n",
        "  rf = RandomForest(X_train, y_train)\n",
        "  y_pred = rf.predict(X_test)\n",
        "  df.loc[len(df)] = calculate_metrics(model_type, y_test, y_pred)"
      ]
    },
    {
      "cell_type": "code",
      "execution_count": 20,
      "metadata": {
        "id": "DCBf0m1vg23O"
      },
      "outputs": [],
      "source": [
        "# Train a Random Forest model.\n",
        "def LinearReg(X, y):\n",
        "  model = LinearRegression()\n",
        "  model.fit(X, y)\n",
        "  return model\n",
        "\n",
        "def RigdeReg(X, y):\n",
        "  model = Ridge(random_state=seed)\n",
        "  model.fit(X, y)\n",
        "  return model\n",
        "\n",
        "# Trains a model, generates performance metrics, and adds results.\n",
        "def train_and_evaluate_linear_model(df, X_train, y_train, X_test, y_test, model_name, model_type=\"Linear Regression\"):\n",
        "  if model_name == \"Linear Regression\":\n",
        "    model = LinearReg(X_train, y_train)\n",
        "  elif model_name == \"Ridge Regression\":\n",
        "    model = RigdeReg(X_train, y_train)\n",
        "  model = LinearReg(X_train, y_train)\n",
        "  y_pred = model.predict(X_test)\n",
        "  df.loc[len(df)] = calculate_metrics(model_name, y_test, y_pred)"
      ]
    },
    {
      "cell_type": "code",
      "execution_count": 21,
      "metadata": {
        "id": "4uN5MIlhVaiD"
      },
      "outputs": [],
      "source": [
        "y_test_arr = []\n",
        "for subcat in top_5_cat:\n",
        "  X, y = calculate_last_three_months(ml_data)\n",
        "  X_train, X_test, y_train, y_test = train_test_split(X, y, test_size=0.2, random_state=seed)\n",
        "  y_test_arr.append(y_test)\n",
        "  train_and_evaluate_model(metric_results, X_train, y_train, X_test, y_test, subcat)"
      ]
    },
    {
      "cell_type": "markdown",
      "metadata": {
        "id": "5rKLaQEAh3yf"
      },
      "source": [
        "#### For all the cats"
      ]
    },
    {
      "cell_type": "code",
      "execution_count": 22,
      "metadata": {
        "colab": {
          "base_uri": "https://localhost:8080/",
          "height": 206
        },
        "id": "o9sPkjd_fdze",
        "outputId": "d07a8713-b7d2-4235-f9fb-f1c7db6632c7"
      },
      "outputs": [
        {
          "data": {
            "application/vnd.microsoft.datawrangler.viewer.v0+json": {
              "columns": [
                {
                  "name": "index",
                  "rawType": "int64",
                  "type": "integer"
                },
                {
                  "name": "month_number",
                  "rawType": "int32",
                  "type": "integer"
                },
                {
                  "name": "demand",
                  "rawType": "int64",
                  "type": "integer"
                }
              ],
              "conversionMethod": "pd.DataFrame",
              "ref": "afa4f945-2469-4d03-bcea-b7045b648efd",
              "rows": [
                [
                  "0",
                  "1",
                  "1688"
                ],
                [
                  "1",
                  "2",
                  "1429"
                ],
                [
                  "2",
                  "3",
                  "1728"
                ],
                [
                  "3",
                  "4",
                  "1767"
                ],
                [
                  "4",
                  "5",
                  "1561"
                ]
              ],
              "shape": {
                "columns": 2,
                "rows": 5
              }
            },
            "text/html": [
              "<div>\n",
              "<style scoped>\n",
              "    .dataframe tbody tr th:only-of-type {\n",
              "        vertical-align: middle;\n",
              "    }\n",
              "\n",
              "    .dataframe tbody tr th {\n",
              "        vertical-align: top;\n",
              "    }\n",
              "\n",
              "    .dataframe thead th {\n",
              "        text-align: right;\n",
              "    }\n",
              "</style>\n",
              "<table border=\"1\" class=\"dataframe\">\n",
              "  <thead>\n",
              "    <tr style=\"text-align: right;\">\n",
              "      <th></th>\n",
              "      <th>month_number</th>\n",
              "      <th>demand</th>\n",
              "    </tr>\n",
              "  </thead>\n",
              "  <tbody>\n",
              "    <tr>\n",
              "      <th>0</th>\n",
              "      <td>1</td>\n",
              "      <td>1688</td>\n",
              "    </tr>\n",
              "    <tr>\n",
              "      <th>1</th>\n",
              "      <td>2</td>\n",
              "      <td>1429</td>\n",
              "    </tr>\n",
              "    <tr>\n",
              "      <th>2</th>\n",
              "      <td>3</td>\n",
              "      <td>1728</td>\n",
              "    </tr>\n",
              "    <tr>\n",
              "      <th>3</th>\n",
              "      <td>4</td>\n",
              "      <td>1767</td>\n",
              "    </tr>\n",
              "    <tr>\n",
              "      <th>4</th>\n",
              "      <td>5</td>\n",
              "      <td>1561</td>\n",
              "    </tr>\n",
              "  </tbody>\n",
              "</table>\n",
              "</div>"
            ],
            "text/plain": [
              "   month_number  demand\n",
              "0             1    1688\n",
              "1             2    1429\n",
              "2             3    1728\n",
              "3             4    1767\n",
              "4             5    1561"
            ]
          },
          "execution_count": 22,
          "metadata": {},
          "output_type": "execute_result"
        }
      ],
      "source": [
        "df_all = df_subcat.copy()\n",
        "df_all['demand'] = df_all['quantity'] - df_all['returnquantity']\n",
        "df_all['profit'] = df_all['final_sales'] - df_all['final_cost']\n",
        "df_all = df_all.groupby([\n",
        "                        'month_number'], as_index=False).agg({'demand': 'sum'})\n",
        "df_all.head()"
      ]
    },
    {
      "cell_type": "code",
      "execution_count": 23,
      "metadata": {
        "id": "BAjncwMhfclP"
      },
      "outputs": [],
      "source": [
        "X, y = calculate_last_three_months(df_all, all_filter=True)\n",
        "X_train, X_test, y_train, y_test = train_test_split(X, y, test_size=0.2, random_state=seed)\n",
        "train_and_evaluate_model(metric_results, X_train, y_train, X_test, y_test, \"All subcat\")"
      ]
    },
    {
      "cell_type": "markdown",
      "metadata": {
        "id": "MsBEZVqCh9ub"
      },
      "source": [
        "#### Using Linear models"
      ]
    },
    {
      "cell_type": "code",
      "execution_count": 24,
      "metadata": {
        "id": "xj-iMSa7iAyw"
      },
      "outputs": [],
      "source": [
        "for subcat in top_5_cat:\n",
        "  X, y = calculate_last_three_months(ml_data)\n",
        "  X_train, X_test, y_train, y_test = train_test_split(X, y, test_size=0.2, random_state=seed)\n",
        "  for model_name in [\"Linear Regression\"]:\n",
        "    name = subcat + \" \" + model_name\n",
        "    train_and_evaluate_linear_model(metric_results, X_train, y_train, X_test, y_test, name,model_type=model_name)"
      ]
    },
    {
      "cell_type": "code",
      "execution_count": 25,
      "metadata": {
        "id": "bLRcJzd7kDyD"
      },
      "outputs": [],
      "source": [
        "X, y = calculate_last_three_months(df_all, all_filter=True)\n",
        "X_train, X_test, y_train, y_test = train_test_split(X, y, test_size=0.2, random_state=seed)\n",
        "train_and_evaluate_linear_model(metric_results, X_train, y_train, X_test, y_test, \"ALL SUBCAT LINEAR\")"
      ]
    },
    {
      "cell_type": "markdown",
      "metadata": {
        "id": "t3aQVbEnc2kI"
      },
      "source": [
        "#### Model where the subcat level integrity is not lost"
      ]
    },
    {
      "cell_type": "code",
      "execution_count": 26,
      "metadata": {
        "id": "FjwMYv25eN3o"
      },
      "outputs": [],
      "source": [
        "target_mapping = {0: 'INHALERS & RESPULES', 1: 'INJECTIONS', 2: 'IV FLUIDS, ELECTROLYTES, TPN', 3: 'LIQUIDS & SOLUTIONS', 4: 'TABLETS & CAPSULES'}"
      ]
    },
    {
      "cell_type": "code",
      "execution_count": 27,
      "metadata": {
        "colab": {
          "base_uri": "https://localhost:8080/",
          "height": 206
        },
        "id": "vpNw33vFc6gK",
        "outputId": "8845f64c-7412-481e-8073-1c521e9f1c04"
      },
      "outputs": [
        {
          "data": {
            "application/vnd.microsoft.datawrangler.viewer.v0+json": {
              "columns": [
                {
                  "name": "index",
                  "rawType": "int64",
                  "type": "integer"
                },
                {
                  "name": "subcat",
                  "rawType": "object",
                  "type": "string"
                },
                {
                  "name": "month_name",
                  "rawType": "object",
                  "type": "string"
                },
                {
                  "name": "month_number",
                  "rawType": "int32",
                  "type": "integer"
                },
                {
                  "name": "quantity",
                  "rawType": "int64",
                  "type": "integer"
                },
                {
                  "name": "returnquantity",
                  "rawType": "int64",
                  "type": "integer"
                },
                {
                  "name": "final_cost",
                  "rawType": "float64",
                  "type": "float"
                },
                {
                  "name": "final_sales",
                  "rawType": "float64",
                  "type": "float"
                },
                {
                  "name": "rtnmrp",
                  "rawType": "float64",
                  "type": "float"
                },
                {
                  "name": "demand",
                  "rawType": "int64",
                  "type": "integer"
                },
                {
                  "name": "profit",
                  "rawType": "float64",
                  "type": "float"
                },
                {
                  "name": "subcat_code",
                  "rawType": "int8",
                  "type": "integer"
                }
              ],
              "conversionMethod": "pd.DataFrame",
              "ref": "0300882d-076a-4a6b-95da-2b6d76a15eee",
              "rows": [
                [
                  "40",
                  "IV FLUIDS, ELECTROLYTES, TPN",
                  "January",
                  "1",
                  "379",
                  "45",
                  "21459.376",
                  "36753.916",
                  "2520.496",
                  "334",
                  "15294.539999999997",
                  "2"
                ],
                [
                  "16",
                  "INHALERS & RESPULES",
                  "January",
                  "1",
                  "163",
                  "7",
                  "2011.2640000000001",
                  "7027.038",
                  "289.994",
                  "156",
                  "5015.773999999999",
                  "0"
                ],
                [
                  "52",
                  "LIQUIDS & SOLUTIONS",
                  "January",
                  "1",
                  "267",
                  "6",
                  "2565.066",
                  "12707.573999999999",
                  "612.24",
                  "261",
                  "10142.507999999998",
                  "3"
                ],
                [
                  "28",
                  "INJECTIONS",
                  "January",
                  "1",
                  "794",
                  "73",
                  "51451.466",
                  "114053.486",
                  "12001.932",
                  "721",
                  "62602.020000000004",
                  "1"
                ],
                [
                  "149",
                  "TABLETS & CAPSULES",
                  "January",
                  "1",
                  "132",
                  "7",
                  "13122.932",
                  "15356.836",
                  "700.102",
                  "125",
                  "2233.9039999999986",
                  "4"
                ]
              ],
              "shape": {
                "columns": 11,
                "rows": 5
              }
            },
            "text/html": [
              "<div>\n",
              "<style scoped>\n",
              "    .dataframe tbody tr th:only-of-type {\n",
              "        vertical-align: middle;\n",
              "    }\n",
              "\n",
              "    .dataframe tbody tr th {\n",
              "        vertical-align: top;\n",
              "    }\n",
              "\n",
              "    .dataframe thead th {\n",
              "        text-align: right;\n",
              "    }\n",
              "</style>\n",
              "<table border=\"1\" class=\"dataframe\">\n",
              "  <thead>\n",
              "    <tr style=\"text-align: right;\">\n",
              "      <th></th>\n",
              "      <th>subcat</th>\n",
              "      <th>month_name</th>\n",
              "      <th>month_number</th>\n",
              "      <th>quantity</th>\n",
              "      <th>returnquantity</th>\n",
              "      <th>final_cost</th>\n",
              "      <th>final_sales</th>\n",
              "      <th>rtnmrp</th>\n",
              "      <th>demand</th>\n",
              "      <th>profit</th>\n",
              "      <th>subcat_code</th>\n",
              "    </tr>\n",
              "  </thead>\n",
              "  <tbody>\n",
              "    <tr>\n",
              "      <th>40</th>\n",
              "      <td>IV FLUIDS, ELECTROLYTES, TPN</td>\n",
              "      <td>January</td>\n",
              "      <td>1</td>\n",
              "      <td>379</td>\n",
              "      <td>45</td>\n",
              "      <td>21459.376</td>\n",
              "      <td>36753.916</td>\n",
              "      <td>2520.496</td>\n",
              "      <td>334</td>\n",
              "      <td>15294.540</td>\n",
              "      <td>2</td>\n",
              "    </tr>\n",
              "    <tr>\n",
              "      <th>16</th>\n",
              "      <td>INHALERS &amp; RESPULES</td>\n",
              "      <td>January</td>\n",
              "      <td>1</td>\n",
              "      <td>163</td>\n",
              "      <td>7</td>\n",
              "      <td>2011.264</td>\n",
              "      <td>7027.038</td>\n",
              "      <td>289.994</td>\n",
              "      <td>156</td>\n",
              "      <td>5015.774</td>\n",
              "      <td>0</td>\n",
              "    </tr>\n",
              "    <tr>\n",
              "      <th>52</th>\n",
              "      <td>LIQUIDS &amp; SOLUTIONS</td>\n",
              "      <td>January</td>\n",
              "      <td>1</td>\n",
              "      <td>267</td>\n",
              "      <td>6</td>\n",
              "      <td>2565.066</td>\n",
              "      <td>12707.574</td>\n",
              "      <td>612.240</td>\n",
              "      <td>261</td>\n",
              "      <td>10142.508</td>\n",
              "      <td>3</td>\n",
              "    </tr>\n",
              "    <tr>\n",
              "      <th>28</th>\n",
              "      <td>INJECTIONS</td>\n",
              "      <td>January</td>\n",
              "      <td>1</td>\n",
              "      <td>794</td>\n",
              "      <td>73</td>\n",
              "      <td>51451.466</td>\n",
              "      <td>114053.486</td>\n",
              "      <td>12001.932</td>\n",
              "      <td>721</td>\n",
              "      <td>62602.020</td>\n",
              "      <td>1</td>\n",
              "    </tr>\n",
              "    <tr>\n",
              "      <th>149</th>\n",
              "      <td>TABLETS &amp; CAPSULES</td>\n",
              "      <td>January</td>\n",
              "      <td>1</td>\n",
              "      <td>132</td>\n",
              "      <td>7</td>\n",
              "      <td>13122.932</td>\n",
              "      <td>15356.836</td>\n",
              "      <td>700.102</td>\n",
              "      <td>125</td>\n",
              "      <td>2233.904</td>\n",
              "      <td>4</td>\n",
              "    </tr>\n",
              "  </tbody>\n",
              "</table>\n",
              "</div>"
            ],
            "text/plain": [
              "                           subcat month_name  month_number  quantity  \\\n",
              "40   IV FLUIDS, ELECTROLYTES, TPN    January             1       379   \n",
              "16            INHALERS & RESPULES    January             1       163   \n",
              "52            LIQUIDS & SOLUTIONS    January             1       267   \n",
              "28                     INJECTIONS    January             1       794   \n",
              "149            TABLETS & CAPSULES    January             1       132   \n",
              "\n",
              "     returnquantity  final_cost  final_sales     rtnmrp  demand     profit  \\\n",
              "40               45   21459.376    36753.916   2520.496     334  15294.540   \n",
              "16                7    2011.264     7027.038    289.994     156   5015.774   \n",
              "52                6    2565.066    12707.574    612.240     261  10142.508   \n",
              "28               73   51451.466   114053.486  12001.932     721  62602.020   \n",
              "149               7   13122.932    15356.836    700.102     125   2233.904   \n",
              "\n",
              "     subcat_code  \n",
              "40             2  \n",
              "16             0  \n",
              "52             3  \n",
              "28             1  \n",
              "149            4  "
            ]
          },
          "execution_count": 27,
          "metadata": {},
          "output_type": "execute_result"
        }
      ],
      "source": [
        "ml_data_test = ml_data.copy()\n",
        "ml_data_test['subcat_code'] = ml_data_test['subcat'].astype('category').cat.codes\n",
        "ml_data_test.head()"
      ]
    },
    {
      "cell_type": "code",
      "execution_count": null,
      "metadata": {
        "id": "0yyi3cBlfWRe"
      },
      "outputs": [],
      "source": [
        "# X = ml_data_test[['month_number', 'subcat_code']]\n",
        "# y = ml_data_test['demand']"
      ]
    },
    {
      "cell_type": "code",
      "execution_count": 28,
      "metadata": {
        "colab": {
          "base_uri": "https://localhost:8080/"
        },
        "id": "dxRQn2KYfADJ",
        "outputId": "48c842a4-7e6a-421f-e2d3-dd5bc472b66c"
      },
      "outputs": [
        {
          "name": "stderr",
          "output_type": "stream",
          "text": [
            "/var/folders/dc/n7cp43k94blc5lmsv8p725pc0000gn/T/ipykernel_25332/1260890033.py:12: FutureWarning: The behavior of DataFrame concatenation with empty or all-NA entries is deprecated. In a future version, this will no longer exclude empty or all-NA columns when determining the result dtypes. To retain the old behavior, exclude the relevant entries before the concat operation.\n",
            "  X_train_final = pd.concat([X_train_final, X_train])\n",
            "/var/folders/dc/n7cp43k94blc5lmsv8p725pc0000gn/T/ipykernel_25332/1260890033.py:14: FutureWarning: The behavior of DataFrame concatenation with empty or all-NA entries is deprecated. In a future version, this will no longer exclude empty or all-NA columns when determining the result dtypes. To retain the old behavior, exclude the relevant entries before the concat operation.\n",
            "  X_test_final = pd.concat([X_test_final, X_test])\n"
          ]
        }
      ],
      "source": [
        "X_train_final = pd.DataFrame(columns=[\n",
        "    # 'subcat_code',\n",
        "    'quantity_lastmonth', 'quantity_2monthsback', 'quantity_3monthsback'])\n",
        "y_train_final = pd.DataFrame(columns=['demand'])\n",
        "X_test_final = pd.DataFrame(columns=[\n",
        "    # 'subcat_code',\n",
        "    'quantity_lastmonth', 'quantity_2monthsback', 'quantity_3monthsback'])\n",
        "y_test_final = pd.DataFrame(columns=['demand'])\n",
        "for subcat in top_5_cat:\n",
        "  X, y = calculate_last_three_months(ml_data_test)\n",
        "  X_train, X_test, y_train, y_test = train_test_split(X, y, test_size=0.2, random_state=seed)\n",
        "  X_train_final = pd.concat([X_train_final, X_train])\n",
        "  y_train_final = pd.concat([y_train_final, y_train])\n",
        "  X_test_final = pd.concat([X_test_final, X_test])\n",
        "  y_test_final = pd.concat([y_test_final, y_test])"
      ]
    },
    {
      "cell_type": "code",
      "execution_count": 29,
      "metadata": {
        "colab": {
          "base_uri": "https://localhost:8080/",
          "height": 363
        },
        "id": "2Hq2-by5f5Mt",
        "outputId": "ce70a32a-12c0-432a-c1f7-2cfb07608080"
      },
      "outputs": [
        {
          "data": {
            "application/vnd.microsoft.datawrangler.viewer.v0+json": {
              "columns": [
                {
                  "name": "index",
                  "rawType": "int64",
                  "type": "integer"
                },
                {
                  "name": "quantity_lastmonth",
                  "rawType": "float64",
                  "type": "float"
                },
                {
                  "name": "quantity_2monthsback",
                  "rawType": "float64",
                  "type": "float"
                },
                {
                  "name": "quantity_3monthsback",
                  "rawType": "float64",
                  "type": "float"
                }
              ],
              "conversionMethod": "pd.DataFrame",
              "ref": "68e2d614-b3e3-4c1f-97e8-3dedcfe7ac1c",
              "rows": [
                [
                  "32",
                  "929.0",
                  "891.0",
                  "808.0"
                ],
                [
                  "34",
                  "1068.0",
                  "1010.0",
                  "909.0"
                ],
                [
                  "44",
                  "412.0",
                  "372.0",
                  "299.0"
                ],
                [
                  "46",
                  "313.0",
                  "398.0",
                  "405.0"
                ],
                [
                  "56",
                  "82.0",
                  "186.0",
                  "63.0"
                ],
                [
                  "58",
                  "12.0",
                  "137.0",
                  "134.0"
                ],
                [
                  "153",
                  "163.0",
                  "114.0",
                  "90.0"
                ],
                [
                  "155",
                  "108.0",
                  "141.0",
                  "108.0"
                ],
                [
                  "20",
                  "74.0",
                  "79.0",
                  "79.0"
                ],
                [
                  "22",
                  "137.0",
                  "136.0",
                  "126.0"
                ]
              ],
              "shape": {
                "columns": 3,
                "rows": 10
              }
            },
            "text/html": [
              "<div>\n",
              "<style scoped>\n",
              "    .dataframe tbody tr th:only-of-type {\n",
              "        vertical-align: middle;\n",
              "    }\n",
              "\n",
              "    .dataframe tbody tr th {\n",
              "        vertical-align: top;\n",
              "    }\n",
              "\n",
              "    .dataframe thead th {\n",
              "        text-align: right;\n",
              "    }\n",
              "</style>\n",
              "<table border=\"1\" class=\"dataframe\">\n",
              "  <thead>\n",
              "    <tr style=\"text-align: right;\">\n",
              "      <th></th>\n",
              "      <th>quantity_lastmonth</th>\n",
              "      <th>quantity_2monthsback</th>\n",
              "      <th>quantity_3monthsback</th>\n",
              "    </tr>\n",
              "  </thead>\n",
              "  <tbody>\n",
              "    <tr>\n",
              "      <th>32</th>\n",
              "      <td>929.0</td>\n",
              "      <td>891.0</td>\n",
              "      <td>808.0</td>\n",
              "    </tr>\n",
              "    <tr>\n",
              "      <th>34</th>\n",
              "      <td>1068.0</td>\n",
              "      <td>1010.0</td>\n",
              "      <td>909.0</td>\n",
              "    </tr>\n",
              "    <tr>\n",
              "      <th>44</th>\n",
              "      <td>412.0</td>\n",
              "      <td>372.0</td>\n",
              "      <td>299.0</td>\n",
              "    </tr>\n",
              "    <tr>\n",
              "      <th>46</th>\n",
              "      <td>313.0</td>\n",
              "      <td>398.0</td>\n",
              "      <td>405.0</td>\n",
              "    </tr>\n",
              "    <tr>\n",
              "      <th>56</th>\n",
              "      <td>82.0</td>\n",
              "      <td>186.0</td>\n",
              "      <td>63.0</td>\n",
              "    </tr>\n",
              "    <tr>\n",
              "      <th>58</th>\n",
              "      <td>12.0</td>\n",
              "      <td>137.0</td>\n",
              "      <td>134.0</td>\n",
              "    </tr>\n",
              "    <tr>\n",
              "      <th>153</th>\n",
              "      <td>163.0</td>\n",
              "      <td>114.0</td>\n",
              "      <td>90.0</td>\n",
              "    </tr>\n",
              "    <tr>\n",
              "      <th>155</th>\n",
              "      <td>108.0</td>\n",
              "      <td>141.0</td>\n",
              "      <td>108.0</td>\n",
              "    </tr>\n",
              "    <tr>\n",
              "      <th>20</th>\n",
              "      <td>74.0</td>\n",
              "      <td>79.0</td>\n",
              "      <td>79.0</td>\n",
              "    </tr>\n",
              "    <tr>\n",
              "      <th>22</th>\n",
              "      <td>137.0</td>\n",
              "      <td>136.0</td>\n",
              "      <td>126.0</td>\n",
              "    </tr>\n",
              "  </tbody>\n",
              "</table>\n",
              "</div>"
            ],
            "text/plain": [
              "     quantity_lastmonth  quantity_2monthsback  quantity_3monthsback\n",
              "32                929.0                 891.0                 808.0\n",
              "34               1068.0                1010.0                 909.0\n",
              "44                412.0                 372.0                 299.0\n",
              "46                313.0                 398.0                 405.0\n",
              "56                 82.0                 186.0                  63.0\n",
              "58                 12.0                 137.0                 134.0\n",
              "153               163.0                 114.0                  90.0\n",
              "155               108.0                 141.0                 108.0\n",
              "20                 74.0                  79.0                  79.0\n",
              "22                137.0                 136.0                 126.0"
            ]
          },
          "execution_count": 29,
          "metadata": {},
          "output_type": "execute_result"
        }
      ],
      "source": [
        "X_test_final"
      ]
    },
    {
      "cell_type": "code",
      "execution_count": 30,
      "metadata": {
        "colab": {
          "base_uri": "https://localhost:8080/"
        },
        "id": "5FH_GJq6hNIR",
        "outputId": "caa33730-9d5d-4e0b-d5d1-390ccb326b5c"
      },
      "outputs": [
        {
          "name": "stderr",
          "output_type": "stream",
          "text": [
            "/Users/sunith/opt/anaconda3/envs/dss/lib/python3.12/site-packages/sklearn/base.py:1473: DataConversionWarning: A column-vector y was passed when a 1d array was expected. Please change the shape of y to (n_samples,), for example using ravel().\n",
            "  return fit_method(estimator, *args, **kwargs)\n"
          ]
        }
      ],
      "source": [
        "train_and_evaluate_model(metric_results, X_train_final, y_train_final, X_test_final, y_test_final, \"no subcat code seed 100\")"
      ]
    },
    {
      "cell_type": "markdown",
      "metadata": {
        "id": "qGGt1q1oh7r2"
      },
      "source": [
        "#### Final table"
      ]
    },
    {
      "cell_type": "code",
      "execution_count": 31,
      "metadata": {
        "colab": {
          "base_uri": "https://localhost:8080/",
          "height": 551
        },
        "id": "wfTzm3gpYDGj",
        "outputId": "7bf70037-a7f4-4204-ae0f-f7c6f7bc0ee9"
      },
      "outputs": [
        {
          "data": {
            "application/vnd.microsoft.datawrangler.viewer.v0+json": {
              "columns": [
                {
                  "name": "index",
                  "rawType": "int64",
                  "type": "integer"
                },
                {
                  "name": "Model",
                  "rawType": "object",
                  "type": "string"
                },
                {
                  "name": "MSE",
                  "rawType": "float64",
                  "type": "float"
                },
                {
                  "name": "RMSE",
                  "rawType": "float64",
                  "type": "float"
                },
                {
                  "name": "MAPE",
                  "rawType": "float64",
                  "type": "float"
                }
              ],
              "conversionMethod": "pd.DataFrame",
              "ref": "882f975e-f75d-4916-b0b7-218080e60258",
              "rows": [
                [
                  "0",
                  "INJECTIONS",
                  "47033.63599999999",
                  "216.87239566159633",
                  "0.26485778630924794"
                ],
                [
                  "1",
                  "IV FLUIDS, ELECTROLYTES, TPN",
                  "4196.24585",
                  "64.77843661281122",
                  "0.19465758192332405"
                ],
                [
                  "2",
                  "LIQUIDS & SOLUTIONS",
                  "2988.82685",
                  "54.67016416657261",
                  "0.29194208494208496"
                ],
                [
                  "3",
                  "TABLETS & CAPSULES",
                  "506.4074499999998",
                  "22.50349861688177",
                  "0.15220972423802615"
                ],
                [
                  "4",
                  "INHALERS & RESPULES",
                  "1513.1668499999996",
                  "38.899445368796705",
                  "0.3903532608695652"
                ],
                [
                  "5",
                  "All subcat",
                  "63143.86545000003",
                  "251.28443137210078",
                  "0.15122659725167148"
                ],
                [
                  "6",
                  "INJECTIONS Linear Regression",
                  "63031.25831210986",
                  "251.06026828654083",
                  "0.3153380336674233"
                ],
                [
                  "7",
                  "IV FLUIDS, ELECTROLYTES, TPN Linear Regression",
                  "337.1217351349251",
                  "18.360875118983984",
                  "0.05503928891912074"
                ],
                [
                  "8",
                  "LIQUIDS & SOLUTIONS Linear Regression",
                  "34604.692978581996",
                  "186.02336675423868",
                  "1.0727348214619006"
                ],
                [
                  "9",
                  "TABLETS & CAPSULES Linear Regression",
                  "1385.7068169757806",
                  "37.225083169494475",
                  "0.27123791652151963"
                ],
                [
                  "10",
                  "INHALERS & RESPULES Linear Regression",
                  "2431.7517735241654",
                  "49.31279523130042",
                  "0.5384912473550165"
                ],
                [
                  "11",
                  "ALL SUBCAT LINEAR",
                  "10312.217082868125",
                  "101.54908706073199",
                  "0.04422889097118591"
                ],
                [
                  "12",
                  "no subcat code seed 100",
                  "11769.44767",
                  "108.48708526824748",
                  "0.262841263603235"
                ]
              ],
              "shape": {
                "columns": 4,
                "rows": 13
              }
            },
            "text/html": [
              "<div>\n",
              "<style scoped>\n",
              "    .dataframe tbody tr th:only-of-type {\n",
              "        vertical-align: middle;\n",
              "    }\n",
              "\n",
              "    .dataframe tbody tr th {\n",
              "        vertical-align: top;\n",
              "    }\n",
              "\n",
              "    .dataframe thead th {\n",
              "        text-align: right;\n",
              "    }\n",
              "</style>\n",
              "<table border=\"1\" class=\"dataframe\">\n",
              "  <thead>\n",
              "    <tr style=\"text-align: right;\">\n",
              "      <th></th>\n",
              "      <th>Model</th>\n",
              "      <th>MSE</th>\n",
              "      <th>RMSE</th>\n",
              "      <th>MAPE</th>\n",
              "    </tr>\n",
              "  </thead>\n",
              "  <tbody>\n",
              "    <tr>\n",
              "      <th>0</th>\n",
              "      <td>INJECTIONS</td>\n",
              "      <td>47033.636000</td>\n",
              "      <td>216.872396</td>\n",
              "      <td>0.264858</td>\n",
              "    </tr>\n",
              "    <tr>\n",
              "      <th>1</th>\n",
              "      <td>IV FLUIDS, ELECTROLYTES, TPN</td>\n",
              "      <td>4196.245850</td>\n",
              "      <td>64.778437</td>\n",
              "      <td>0.194658</td>\n",
              "    </tr>\n",
              "    <tr>\n",
              "      <th>2</th>\n",
              "      <td>LIQUIDS &amp; SOLUTIONS</td>\n",
              "      <td>2988.826850</td>\n",
              "      <td>54.670164</td>\n",
              "      <td>0.291942</td>\n",
              "    </tr>\n",
              "    <tr>\n",
              "      <th>3</th>\n",
              "      <td>TABLETS &amp; CAPSULES</td>\n",
              "      <td>506.407450</td>\n",
              "      <td>22.503499</td>\n",
              "      <td>0.152210</td>\n",
              "    </tr>\n",
              "    <tr>\n",
              "      <th>4</th>\n",
              "      <td>INHALERS &amp; RESPULES</td>\n",
              "      <td>1513.166850</td>\n",
              "      <td>38.899445</td>\n",
              "      <td>0.390353</td>\n",
              "    </tr>\n",
              "    <tr>\n",
              "      <th>5</th>\n",
              "      <td>All subcat</td>\n",
              "      <td>63143.865450</td>\n",
              "      <td>251.284431</td>\n",
              "      <td>0.151227</td>\n",
              "    </tr>\n",
              "    <tr>\n",
              "      <th>6</th>\n",
              "      <td>INJECTIONS Linear Regression</td>\n",
              "      <td>63031.258312</td>\n",
              "      <td>251.060268</td>\n",
              "      <td>0.315338</td>\n",
              "    </tr>\n",
              "    <tr>\n",
              "      <th>7</th>\n",
              "      <td>IV FLUIDS, ELECTROLYTES, TPN Linear Regression</td>\n",
              "      <td>337.121735</td>\n",
              "      <td>18.360875</td>\n",
              "      <td>0.055039</td>\n",
              "    </tr>\n",
              "    <tr>\n",
              "      <th>8</th>\n",
              "      <td>LIQUIDS &amp; SOLUTIONS Linear Regression</td>\n",
              "      <td>34604.692979</td>\n",
              "      <td>186.023367</td>\n",
              "      <td>1.072735</td>\n",
              "    </tr>\n",
              "    <tr>\n",
              "      <th>9</th>\n",
              "      <td>TABLETS &amp; CAPSULES Linear Regression</td>\n",
              "      <td>1385.706817</td>\n",
              "      <td>37.225083</td>\n",
              "      <td>0.271238</td>\n",
              "    </tr>\n",
              "    <tr>\n",
              "      <th>10</th>\n",
              "      <td>INHALERS &amp; RESPULES Linear Regression</td>\n",
              "      <td>2431.751774</td>\n",
              "      <td>49.312795</td>\n",
              "      <td>0.538491</td>\n",
              "    </tr>\n",
              "    <tr>\n",
              "      <th>11</th>\n",
              "      <td>ALL SUBCAT LINEAR</td>\n",
              "      <td>10312.217083</td>\n",
              "      <td>101.549087</td>\n",
              "      <td>0.044229</td>\n",
              "    </tr>\n",
              "    <tr>\n",
              "      <th>12</th>\n",
              "      <td>no subcat code seed 100</td>\n",
              "      <td>11769.447670</td>\n",
              "      <td>108.487085</td>\n",
              "      <td>0.262841</td>\n",
              "    </tr>\n",
              "  </tbody>\n",
              "</table>\n",
              "</div>"
            ],
            "text/plain": [
              "                                             Model           MSE        RMSE  \\\n",
              "0                                       INJECTIONS  47033.636000  216.872396   \n",
              "1                     IV FLUIDS, ELECTROLYTES, TPN   4196.245850   64.778437   \n",
              "2                              LIQUIDS & SOLUTIONS   2988.826850   54.670164   \n",
              "3                               TABLETS & CAPSULES    506.407450   22.503499   \n",
              "4                              INHALERS & RESPULES   1513.166850   38.899445   \n",
              "5                                       All subcat  63143.865450  251.284431   \n",
              "6                     INJECTIONS Linear Regression  63031.258312  251.060268   \n",
              "7   IV FLUIDS, ELECTROLYTES, TPN Linear Regression    337.121735   18.360875   \n",
              "8            LIQUIDS & SOLUTIONS Linear Regression  34604.692979  186.023367   \n",
              "9             TABLETS & CAPSULES Linear Regression   1385.706817   37.225083   \n",
              "10           INHALERS & RESPULES Linear Regression   2431.751774   49.312795   \n",
              "11                               ALL SUBCAT LINEAR  10312.217083  101.549087   \n",
              "12                         no subcat code seed 100  11769.447670  108.487085   \n",
              "\n",
              "        MAPE  \n",
              "0   0.264858  \n",
              "1   0.194658  \n",
              "2   0.291942  \n",
              "3   0.152210  \n",
              "4   0.390353  \n",
              "5   0.151227  \n",
              "6   0.315338  \n",
              "7   0.055039  \n",
              "8   1.072735  \n",
              "9   0.271238  \n",
              "10  0.538491  \n",
              "11  0.044229  \n",
              "12  0.262841  "
            ]
          },
          "execution_count": 31,
          "metadata": {},
          "output_type": "execute_result"
        }
      ],
      "source": [
        "# metric_results = metric_results.drop(columns=[\"y_pred\"])\n",
        "output_to_show = metric_results[[\"Model\", \"MSE\", \"RMSE\", \"MAPE\"]]\n",
        "output_to_show"
      ]
    },
    {
      "cell_type": "markdown",
      "metadata": {
        "id": "Uc1y6LvKkWfk"
      },
      "source": [
        "Subcat coding as a feature column has no impact on the prediction."
      ]
    },
    {
      "cell_type": "markdown",
      "metadata": {
        "id": "4WgDYlV1gGq7"
      },
      "source": [
        "### Visualizations"
      ]
    },
    {
      "cell_type": "code",
      "execution_count": null,
      "metadata": {
        "id": "Mu6aTiObDwmV"
      },
      "outputs": [],
      "source": [
        "# prompt: in the loop keep adding all the y_test and y_pred  and finally show them as one table\n",
        "\n",
        "# Create a list to store the y_test and y_pred values for each subcat\n",
        "all_y_test = []\n",
        "all_y_pred = []\n",
        "all_subcats = []\n",
        "\n",
        "for subcat in top_5_cat:\n",
        "  X, y = calculate_last_three_months(ml_data)\n",
        "  X_train, X_test, y_train, y_test = train_test_split(X, y, test_size=0.2, random_state=seed)\n",
        "\n",
        "  rf_model = RandomForest(X_train, y_train)\n",
        "  y_pred = rf_model.predict(X_test)\n",
        "\n",
        "  all_y_test.extend(y_test)\n",
        "  all_y_pred.extend(y_pred)\n",
        "  all_subcats.extend([subcat] * len(y_test))"
      ]
    },
    {
      "cell_type": "code",
      "execution_count": null,
      "metadata": {
        "colab": {
          "base_uri": "https://localhost:8080/",
          "height": 363
        },
        "id": "l3uD4ReLCmR_",
        "outputId": "a95b5dbd-da74-4a8b-996b-49803225c573"
      },
      "outputs": [
        {
          "data": {
            "application/vnd.google.colaboratory.intrinsic+json": {
              "summary": "{\n  \"name\": \"combined_results\",\n  \"rows\": 10,\n  \"fields\": [\n    {\n      \"column\": \"Subcategory\",\n      \"properties\": {\n        \"dtype\": \"string\",\n        \"num_unique_values\": 5,\n        \"samples\": [\n          \"IV FLUIDS, ELECTROLYTES, TPN\",\n          \"INHALERS & RESPULES\",\n          \"LIQUIDS & SOLUTIONS\"\n        ],\n        \"semantic_type\": \"\",\n        \"description\": \"\"\n      }\n    },\n    {\n      \"column\": \"y_test\",\n      \"properties\": {\n        \"dtype\": \"number\",\n        \"std\": 290,\n        \"min\": 72,\n        \"max\": 901,\n        \"num_unique_values\": 10,\n        \"samples\": [\n          92,\n          901,\n          185\n        ],\n        \"semantic_type\": \"\",\n        \"description\": \"\"\n      }\n    },\n    {\n      \"column\": \"y_pred\",\n      \"properties\": {\n        \"dtype\": \"number\",\n        \"std\": 367.47069875630143,\n        \"min\": 93.56,\n        \"max\": 1031.32,\n        \"num_unique_values\": 10,\n        \"samples\": [\n          93.56,\n          1031.32,\n          110.81\n        ],\n        \"semantic_type\": \"\",\n        \"description\": \"\"\n      }\n    }\n  ]\n}",
              "type": "dataframe",
              "variable_name": "combined_results"
            },
            "text/html": [
              "\n",
              "  <div id=\"df-c960229e-8c53-4038-9dc7-0e452c8e4cfb\" class=\"colab-df-container\">\n",
              "    <div>\n",
              "<style scoped>\n",
              "    .dataframe tbody tr th:only-of-type {\n",
              "        vertical-align: middle;\n",
              "    }\n",
              "\n",
              "    .dataframe tbody tr th {\n",
              "        vertical-align: top;\n",
              "    }\n",
              "\n",
              "    .dataframe thead th {\n",
              "        text-align: right;\n",
              "    }\n",
              "</style>\n",
              "<table border=\"1\" class=\"dataframe\">\n",
              "  <thead>\n",
              "    <tr style=\"text-align: right;\">\n",
              "      <th></th>\n",
              "      <th>Subcategory</th>\n",
              "      <th>y_test</th>\n",
              "      <th>y_pred</th>\n",
              "    </tr>\n",
              "  </thead>\n",
              "  <tbody>\n",
              "    <tr>\n",
              "      <th>0</th>\n",
              "      <td>INJECTIONS</td>\n",
              "      <td>721</td>\n",
              "      <td>998.64</td>\n",
              "    </tr>\n",
              "    <tr>\n",
              "      <th>1</th>\n",
              "      <td>INJECTIONS</td>\n",
              "      <td>901</td>\n",
              "      <td>1031.32</td>\n",
              "    </tr>\n",
              "    <tr>\n",
              "      <th>2</th>\n",
              "      <td>IV FLUIDS, ELECTROLYTES, TPN</td>\n",
              "      <td>406</td>\n",
              "      <td>374.46</td>\n",
              "    </tr>\n",
              "    <tr>\n",
              "      <th>3</th>\n",
              "      <td>IV FLUIDS, ELECTROLYTES, TPN</td>\n",
              "      <td>276</td>\n",
              "      <td>362.01</td>\n",
              "    </tr>\n",
              "    <tr>\n",
              "      <th>4</th>\n",
              "      <td>LIQUIDS &amp; SOLUTIONS</td>\n",
              "      <td>119</td>\n",
              "      <td>97.24</td>\n",
              "    </tr>\n",
              "    <tr>\n",
              "      <th>5</th>\n",
              "      <td>LIQUIDS &amp; SOLUTIONS</td>\n",
              "      <td>185</td>\n",
              "      <td>110.81</td>\n",
              "    </tr>\n",
              "    <tr>\n",
              "      <th>6</th>\n",
              "      <td>TABLETS &amp; CAPSULES</td>\n",
              "      <td>130</td>\n",
              "      <td>130.55</td>\n",
              "    </tr>\n",
              "    <tr>\n",
              "      <th>7</th>\n",
              "      <td>TABLETS &amp; CAPSULES</td>\n",
              "      <td>106</td>\n",
              "      <td>137.82</td>\n",
              "    </tr>\n",
              "    <tr>\n",
              "      <th>8</th>\n",
              "      <td>INHALERS &amp; RESPULES</td>\n",
              "      <td>92</td>\n",
              "      <td>93.56</td>\n",
              "    </tr>\n",
              "    <tr>\n",
              "      <th>9</th>\n",
              "      <td>INHALERS &amp; RESPULES</td>\n",
              "      <td>72</td>\n",
              "      <td>126.99</td>\n",
              "    </tr>\n",
              "  </tbody>\n",
              "</table>\n",
              "</div>\n",
              "    <div class=\"colab-df-buttons\">\n",
              "\n",
              "  <div class=\"colab-df-container\">\n",
              "    <button class=\"colab-df-convert\" onclick=\"convertToInteractive('df-c960229e-8c53-4038-9dc7-0e452c8e4cfb')\"\n",
              "            title=\"Convert this dataframe to an interactive table.\"\n",
              "            style=\"display:none;\">\n",
              "\n",
              "  <svg xmlns=\"http://www.w3.org/2000/svg\" height=\"24px\" viewBox=\"0 -960 960 960\">\n",
              "    <path d=\"M120-120v-720h720v720H120Zm60-500h600v-160H180v160Zm220 220h160v-160H400v160Zm0 220h160v-160H400v160ZM180-400h160v-160H180v160Zm440 0h160v-160H620v160ZM180-180h160v-160H180v160Zm440 0h160v-160H620v160Z\"/>\n",
              "  </svg>\n",
              "    </button>\n",
              "\n",
              "  <style>\n",
              "    .colab-df-container {\n",
              "      display:flex;\n",
              "      gap: 12px;\n",
              "    }\n",
              "\n",
              "    .colab-df-convert {\n",
              "      background-color: #E8F0FE;\n",
              "      border: none;\n",
              "      border-radius: 50%;\n",
              "      cursor: pointer;\n",
              "      display: none;\n",
              "      fill: #1967D2;\n",
              "      height: 32px;\n",
              "      padding: 0 0 0 0;\n",
              "      width: 32px;\n",
              "    }\n",
              "\n",
              "    .colab-df-convert:hover {\n",
              "      background-color: #E2EBFA;\n",
              "      box-shadow: 0px 1px 2px rgba(60, 64, 67, 0.3), 0px 1px 3px 1px rgba(60, 64, 67, 0.15);\n",
              "      fill: #174EA6;\n",
              "    }\n",
              "\n",
              "    .colab-df-buttons div {\n",
              "      margin-bottom: 4px;\n",
              "    }\n",
              "\n",
              "    [theme=dark] .colab-df-convert {\n",
              "      background-color: #3B4455;\n",
              "      fill: #D2E3FC;\n",
              "    }\n",
              "\n",
              "    [theme=dark] .colab-df-convert:hover {\n",
              "      background-color: #434B5C;\n",
              "      box-shadow: 0px 1px 3px 1px rgba(0, 0, 0, 0.15);\n",
              "      filter: drop-shadow(0px 1px 2px rgba(0, 0, 0, 0.3));\n",
              "      fill: #FFFFFF;\n",
              "    }\n",
              "  </style>\n",
              "\n",
              "    <script>\n",
              "      const buttonEl =\n",
              "        document.querySelector('#df-c960229e-8c53-4038-9dc7-0e452c8e4cfb button.colab-df-convert');\n",
              "      buttonEl.style.display =\n",
              "        google.colab.kernel.accessAllowed ? 'block' : 'none';\n",
              "\n",
              "      async function convertToInteractive(key) {\n",
              "        const element = document.querySelector('#df-c960229e-8c53-4038-9dc7-0e452c8e4cfb');\n",
              "        const dataTable =\n",
              "          await google.colab.kernel.invokeFunction('convertToInteractive',\n",
              "                                                    [key], {});\n",
              "        if (!dataTable) return;\n",
              "\n",
              "        const docLinkHtml = 'Like what you see? Visit the ' +\n",
              "          '<a target=\"_blank\" href=https://colab.research.google.com/notebooks/data_table.ipynb>data table notebook</a>'\n",
              "          + ' to learn more about interactive tables.';\n",
              "        element.innerHTML = '';\n",
              "        dataTable['output_type'] = 'display_data';\n",
              "        await google.colab.output.renderOutput(dataTable, element);\n",
              "        const docLink = document.createElement('div');\n",
              "        docLink.innerHTML = docLinkHtml;\n",
              "        element.appendChild(docLink);\n",
              "      }\n",
              "    </script>\n",
              "  </div>\n",
              "\n",
              "\n",
              "<div id=\"df-b4598757-6ce4-44ff-a8d8-665468b87a7b\">\n",
              "  <button class=\"colab-df-quickchart\" onclick=\"quickchart('df-b4598757-6ce4-44ff-a8d8-665468b87a7b')\"\n",
              "            title=\"Suggest charts\"\n",
              "            style=\"display:none;\">\n",
              "\n",
              "<svg xmlns=\"http://www.w3.org/2000/svg\" height=\"24px\"viewBox=\"0 0 24 24\"\n",
              "     width=\"24px\">\n",
              "    <g>\n",
              "        <path d=\"M19 3H5c-1.1 0-2 .9-2 2v14c0 1.1.9 2 2 2h14c1.1 0 2-.9 2-2V5c0-1.1-.9-2-2-2zM9 17H7v-7h2v7zm4 0h-2V7h2v10zm4 0h-2v-4h2v4z\"/>\n",
              "    </g>\n",
              "</svg>\n",
              "  </button>\n",
              "\n",
              "<style>\n",
              "  .colab-df-quickchart {\n",
              "      --bg-color: #E8F0FE;\n",
              "      --fill-color: #1967D2;\n",
              "      --hover-bg-color: #E2EBFA;\n",
              "      --hover-fill-color: #174EA6;\n",
              "      --disabled-fill-color: #AAA;\n",
              "      --disabled-bg-color: #DDD;\n",
              "  }\n",
              "\n",
              "  [theme=dark] .colab-df-quickchart {\n",
              "      --bg-color: #3B4455;\n",
              "      --fill-color: #D2E3FC;\n",
              "      --hover-bg-color: #434B5C;\n",
              "      --hover-fill-color: #FFFFFF;\n",
              "      --disabled-bg-color: #3B4455;\n",
              "      --disabled-fill-color: #666;\n",
              "  }\n",
              "\n",
              "  .colab-df-quickchart {\n",
              "    background-color: var(--bg-color);\n",
              "    border: none;\n",
              "    border-radius: 50%;\n",
              "    cursor: pointer;\n",
              "    display: none;\n",
              "    fill: var(--fill-color);\n",
              "    height: 32px;\n",
              "    padding: 0;\n",
              "    width: 32px;\n",
              "  }\n",
              "\n",
              "  .colab-df-quickchart:hover {\n",
              "    background-color: var(--hover-bg-color);\n",
              "    box-shadow: 0 1px 2px rgba(60, 64, 67, 0.3), 0 1px 3px 1px rgba(60, 64, 67, 0.15);\n",
              "    fill: var(--button-hover-fill-color);\n",
              "  }\n",
              "\n",
              "  .colab-df-quickchart-complete:disabled,\n",
              "  .colab-df-quickchart-complete:disabled:hover {\n",
              "    background-color: var(--disabled-bg-color);\n",
              "    fill: var(--disabled-fill-color);\n",
              "    box-shadow: none;\n",
              "  }\n",
              "\n",
              "  .colab-df-spinner {\n",
              "    border: 2px solid var(--fill-color);\n",
              "    border-color: transparent;\n",
              "    border-bottom-color: var(--fill-color);\n",
              "    animation:\n",
              "      spin 1s steps(1) infinite;\n",
              "  }\n",
              "\n",
              "  @keyframes spin {\n",
              "    0% {\n",
              "      border-color: transparent;\n",
              "      border-bottom-color: var(--fill-color);\n",
              "      border-left-color: var(--fill-color);\n",
              "    }\n",
              "    20% {\n",
              "      border-color: transparent;\n",
              "      border-left-color: var(--fill-color);\n",
              "      border-top-color: var(--fill-color);\n",
              "    }\n",
              "    30% {\n",
              "      border-color: transparent;\n",
              "      border-left-color: var(--fill-color);\n",
              "      border-top-color: var(--fill-color);\n",
              "      border-right-color: var(--fill-color);\n",
              "    }\n",
              "    40% {\n",
              "      border-color: transparent;\n",
              "      border-right-color: var(--fill-color);\n",
              "      border-top-color: var(--fill-color);\n",
              "    }\n",
              "    60% {\n",
              "      border-color: transparent;\n",
              "      border-right-color: var(--fill-color);\n",
              "    }\n",
              "    80% {\n",
              "      border-color: transparent;\n",
              "      border-right-color: var(--fill-color);\n",
              "      border-bottom-color: var(--fill-color);\n",
              "    }\n",
              "    90% {\n",
              "      border-color: transparent;\n",
              "      border-bottom-color: var(--fill-color);\n",
              "    }\n",
              "  }\n",
              "</style>\n",
              "\n",
              "  <script>\n",
              "    async function quickchart(key) {\n",
              "      const quickchartButtonEl =\n",
              "        document.querySelector('#' + key + ' button');\n",
              "      quickchartButtonEl.disabled = true;  // To prevent multiple clicks.\n",
              "      quickchartButtonEl.classList.add('colab-df-spinner');\n",
              "      try {\n",
              "        const charts = await google.colab.kernel.invokeFunction(\n",
              "            'suggestCharts', [key], {});\n",
              "      } catch (error) {\n",
              "        console.error('Error during call to suggestCharts:', error);\n",
              "      }\n",
              "      quickchartButtonEl.classList.remove('colab-df-spinner');\n",
              "      quickchartButtonEl.classList.add('colab-df-quickchart-complete');\n",
              "    }\n",
              "    (() => {\n",
              "      let quickchartButtonEl =\n",
              "        document.querySelector('#df-b4598757-6ce4-44ff-a8d8-665468b87a7b button');\n",
              "      quickchartButtonEl.style.display =\n",
              "        google.colab.kernel.accessAllowed ? 'block' : 'none';\n",
              "    })();\n",
              "  </script>\n",
              "</div>\n",
              "\n",
              "  <div id=\"id_304d71a7-aa30-48bc-bad6-24822cb916c0\">\n",
              "    <style>\n",
              "      .colab-df-generate {\n",
              "        background-color: #E8F0FE;\n",
              "        border: none;\n",
              "        border-radius: 50%;\n",
              "        cursor: pointer;\n",
              "        display: none;\n",
              "        fill: #1967D2;\n",
              "        height: 32px;\n",
              "        padding: 0 0 0 0;\n",
              "        width: 32px;\n",
              "      }\n",
              "\n",
              "      .colab-df-generate:hover {\n",
              "        background-color: #E2EBFA;\n",
              "        box-shadow: 0px 1px 2px rgba(60, 64, 67, 0.3), 0px 1px 3px 1px rgba(60, 64, 67, 0.15);\n",
              "        fill: #174EA6;\n",
              "      }\n",
              "\n",
              "      [theme=dark] .colab-df-generate {\n",
              "        background-color: #3B4455;\n",
              "        fill: #D2E3FC;\n",
              "      }\n",
              "\n",
              "      [theme=dark] .colab-df-generate:hover {\n",
              "        background-color: #434B5C;\n",
              "        box-shadow: 0px 1px 3px 1px rgba(0, 0, 0, 0.15);\n",
              "        filter: drop-shadow(0px 1px 2px rgba(0, 0, 0, 0.3));\n",
              "        fill: #FFFFFF;\n",
              "      }\n",
              "    </style>\n",
              "    <button class=\"colab-df-generate\" onclick=\"generateWithVariable('combined_results')\"\n",
              "            title=\"Generate code using this dataframe.\"\n",
              "            style=\"display:none;\">\n",
              "\n",
              "  <svg xmlns=\"http://www.w3.org/2000/svg\" height=\"24px\"viewBox=\"0 0 24 24\"\n",
              "       width=\"24px\">\n",
              "    <path d=\"M7,19H8.4L18.45,9,17,7.55,7,17.6ZM5,21V16.75L18.45,3.32a2,2,0,0,1,2.83,0l1.4,1.43a1.91,1.91,0,0,1,.58,1.4,1.91,1.91,0,0,1-.58,1.4L9.25,21ZM18.45,9,17,7.55Zm-12,3A5.31,5.31,0,0,0,4.9,8.1,5.31,5.31,0,0,0,1,6.5,5.31,5.31,0,0,0,4.9,4.9,5.31,5.31,0,0,0,6.5,1,5.31,5.31,0,0,0,8.1,4.9,5.31,5.31,0,0,0,12,6.5,5.46,5.46,0,0,0,6.5,12Z\"/>\n",
              "  </svg>\n",
              "    </button>\n",
              "    <script>\n",
              "      (() => {\n",
              "      const buttonEl =\n",
              "        document.querySelector('#id_304d71a7-aa30-48bc-bad6-24822cb916c0 button.colab-df-generate');\n",
              "      buttonEl.style.display =\n",
              "        google.colab.kernel.accessAllowed ? 'block' : 'none';\n",
              "\n",
              "      buttonEl.onclick = () => {\n",
              "        google.colab.notebook.generateWithVariable('combined_results');\n",
              "      }\n",
              "      })();\n",
              "    </script>\n",
              "  </div>\n",
              "\n",
              "    </div>\n",
              "  </div>\n"
            ],
            "text/plain": [
              "                    Subcategory  y_test   y_pred\n",
              "0                    INJECTIONS     721   998.64\n",
              "1                    INJECTIONS     901  1031.32\n",
              "2  IV FLUIDS, ELECTROLYTES, TPN     406   374.46\n",
              "3  IV FLUIDS, ELECTROLYTES, TPN     276   362.01\n",
              "4           LIQUIDS & SOLUTIONS     119    97.24\n",
              "5           LIQUIDS & SOLUTIONS     185   110.81\n",
              "6            TABLETS & CAPSULES     130   130.55\n",
              "7            TABLETS & CAPSULES     106   137.82\n",
              "8           INHALERS & RESPULES      92    93.56\n",
              "9           INHALERS & RESPULES      72   126.99"
            ]
          },
          "execution_count": 40,
          "metadata": {},
          "output_type": "execute_result"
        }
      ],
      "source": [
        "# Create a DataFrame to display the combined y_test and y_pred values\n",
        "combined_results = pd.DataFrame({'Subcategory': all_subcats, 'y_test': all_y_test, 'y_pred': all_y_pred})\n",
        "combined_results"
      ]
    },
    {
      "cell_type": "code",
      "execution_count": null,
      "metadata": {
        "colab": {
          "base_uri": "https://localhost:8080/",
          "height": 564
        },
        "id": "xM6HlwHdDnN6",
        "outputId": "9bb529cd-051c-4af4-bb47-15ce7223c004"
      },
      "outputs": [
        {
          "data": {
            "image/png": "[encoded data removed]",
            "text/plain": [
              "<Figure size 1000x600 with 1 Axes>"
            ]
          },
          "metadata": {},
          "output_type": "display_data"
        }
      ],
      "source": [
        "# prompt: generate a line plot using y_test and y_pred as two lines, actual and predicted with index as the x\n",
        "\n",
        "import matplotlib.pyplot as plt\n",
        "\n",
        "# Assuming 'combined_results' DataFrame is available from the previous code\n",
        "\n",
        "plt.figure(figsize=(10, 6))\n",
        "plt.plot(combined_results.index, combined_results['y_test'], label='Actual')\n",
        "plt.plot(combined_results.index, combined_results['y_pred'], label='Predicted')\n",
        "plt.xlabel('Data points')\n",
        "plt.ylabel('Demand')\n",
        "plt.title('Actual vs Predicted Demand - Random Forest Regressor')\n",
        "plt.legend()\n",
        "plt.grid(True)\n",
        "plt.show()\n"
      ]
    },
    {
      "cell_type": "markdown",
      "metadata": {
        "id": "SR4OlEDBcOcW"
      },
      "source": [
        "We can visualize the demand over time for each of the subcats to see how they actually faired over time."
      ]
    },
    {
      "cell_type": "code",
      "execution_count": null,
      "metadata": {
        "id": "-iZKY8VmlCbX"
      },
      "outputs": [],
      "source": [
        "filter_category = 'INJECTIONS'"
      ]
    },
    {
      "cell_type": "code",
      "execution_count": null,
      "metadata": {
        "colab": {
          "base_uri": "https://localhost:8080/",
          "height": 365
        },
        "id": "eVhWIyryYeRb",
        "outputId": "577483dc-ef57-4dcb-bd39-f0c35c22d9ee"
      },
      "outputs": [
        {
          "data": {
            "application/vnd.google.colaboratory.intrinsic+json": {
              "summary": "{\n  \"name\": \"filtered_df\",\n  \"rows\": 6231,\n  \"fields\": [\n    {\n      \"column\": \"typeofsales\",\n      \"properties\": {\n        \"dtype\": \"category\",\n        \"num_unique_values\": 2,\n        \"samples\": [\n          \"Return\",\n          \"Sale\"\n        ],\n        \"semantic_type\": \"\",\n        \"description\": \"\"\n      }\n    },\n    {\n      \"column\": \"patient_id\",\n      \"properties\": {\n        \"dtype\": \"number\",\n        \"std\": 28156,\n        \"min\": 12017998218,\n        \"max\": 12018125353,\n        \"num_unique_values\": 3184,\n        \"samples\": [\n          12018115806,\n          12018106432\n        ],\n        \"semantic_type\": \"\",\n        \"description\": \"\"\n      }\n    },\n    {\n      \"column\": \"specialisation\",\n      \"properties\": {\n        \"dtype\": \"category\",\n        \"num_unique_values\": 53,\n        \"samples\": [\n          \"Specialisation33\",\n          \"Specialisation51\"\n        ],\n        \"semantic_type\": \"\",\n        \"description\": \"\"\n      }\n    },\n    {\n      \"column\": \"dept\",\n      \"properties\": {\n        \"dtype\": \"category\",\n        \"num_unique_values\": 3,\n        \"samples\": [\n          \"Department1\",\n          \"Department2\"\n        ],\n        \"semantic_type\": \"\",\n        \"description\": \"\"\n      }\n    },\n    {\n      \"column\": \"dateofbill\",\n      \"properties\": {\n        \"dtype\": \"date\",\n        \"min\": \"2022-01-01 00:00:00\",\n        \"max\": \"2022-12-31 00:00:00\",\n        \"num_unique_values\": 365,\n        \"samples\": [\n          \"2022-07-13 00:00:00\",\n          \"2022-02-03 00:00:00\"\n        ],\n        \"semantic_type\": \"\",\n        \"description\": \"\"\n      }\n    },\n    {\n      \"column\": \"quantity\",\n      \"properties\": {\n        \"dtype\": \"number\",\n        \"std\": 2,\n        \"min\": 0,\n        \"max\": 100,\n        \"num_unique_values\": 27,\n        \"samples\": [\n          7,\n          49\n        ],\n        \"semantic_type\": \"\",\n        \"description\": \"\"\n      }\n    },\n    {\n      \"column\": \"returnquantity\",\n      \"properties\": {\n        \"dtype\": \"number\",\n        \"std\": 0,\n        \"min\": 0,\n        \"max\": 20,\n        \"num_unique_values\": 16,\n        \"samples\": [\n          0,\n          2\n        ],\n        \"semantic_type\": \"\",\n        \"description\": \"\"\n      }\n    },\n    {\n      \"column\": \"final_cost\",\n      \"properties\": {\n        \"dtype\": \"number\",\n        \"std\": 657.6959130049895,\n        \"min\": 40.0,\n        \"max\": 33178.0,\n        \"num_unique_values\": 902,\n        \"samples\": [\n          66.88,\n          54.616\n        ],\n        \"semantic_type\": \"\",\n        \"description\": \"\"\n      }\n    },\n    {\n      \"column\": \"final_sales\",\n      \"properties\": {\n        \"dtype\": \"number\",\n        \"std\": 884.511205857618,\n        \"min\": 0.0,\n        \"max\": 39490.0,\n        \"num_unique_values\": 915,\n        \"samples\": [\n          102.132,\n          238.7\n        ],\n        \"semantic_type\": \"\",\n        \"description\": \"\"\n      }\n    },\n    {\n      \"column\": \"rtnmrp\",\n      \"properties\": {\n        \"dtype\": \"number\",\n        \"std\": 205.64138534006244,\n        \"min\": 0.0,\n        \"max\": 8014.0,\n        \"num_unique_values\": 287,\n        \"samples\": [\n          371.624,\n          42.456\n        ],\n        \"semantic_type\": \"\",\n        \"description\": \"\"\n      }\n    },\n    {\n      \"column\": \"formulation\",\n      \"properties\": {\n        \"dtype\": \"category\",\n        \"num_unique_values\": 4,\n        \"samples\": [\n          \"Form1\",\n          \"Form3\"\n        ],\n        \"semantic_type\": \"\",\n        \"description\": \"\"\n      }\n    },\n    {\n      \"column\": \"drugname\",\n      \"properties\": {\n        \"dtype\": \"category\",\n        \"num_unique_values\": 231,\n        \"samples\": [\n          \"IRINOTECAN 100MG INJ\",\n          \"ENOXAPARIN 20MG\"\n        ],\n        \"semantic_type\": \"\",\n        \"description\": \"\"\n      }\n    },\n    {\n      \"column\": \"subcat\",\n      \"properties\": {\n        \"dtype\": \"category\",\n        \"num_unique_values\": 1,\n        \"samples\": [\n          \"INJECTIONS\"\n        ],\n        \"semantic_type\": \"\",\n        \"description\": \"\"\n      }\n    },\n    {\n      \"column\": \"subcat1\",\n      \"properties\": {\n        \"dtype\": \"category\",\n        \"num_unique_values\": 19,\n        \"samples\": [\n          \"CARDIOVASCULAR & HEMATOPOIETIC SYSTEM\"\n        ],\n        \"semantic_type\": \"\",\n        \"description\": \"\"\n      }\n    },\n    {\n      \"column\": \"month_name\",\n      \"properties\": {\n        \"dtype\": \"category\",\n        \"num_unique_values\": 12,\n        \"samples\": [\n          \"November\"\n        ],\n        \"semantic_type\": \"\",\n        \"description\": \"\"\n      }\n    },\n    {\n      \"column\": \"month_number\",\n      \"properties\": {\n        \"dtype\": \"int32\",\n        \"num_unique_values\": 12,\n        \"samples\": [\n          11\n        ],\n        \"semantic_type\": \"\",\n        \"description\": \"\"\n      }\n    },\n    {\n      \"column\": \"demand\",\n      \"properties\": {\n        \"dtype\": \"number\",\n        \"std\": 2,\n        \"min\": -20,\n        \"max\": 100,\n        \"num_unique_values\": 41,\n        \"samples\": [\n          -14\n        ],\n        \"semantic_type\": \"\",\n        \"description\": \"\"\n      }\n    }\n  ]\n}",
              "type": "dataframe",
              "variable_name": "filtered_df"
            },
            "text/html": [
              "\n",
              "  <div id=\"df-2330b859-a16a-421d-9346-7c43b6f45629\" class=\"colab-df-container\">\n",
              "    <div>\n",
              "<style scoped>\n",
              "    .dataframe tbody tr th:only-of-type {\n",
              "        vertical-align: middle;\n",
              "    }\n",
              "\n",
              "    .dataframe tbody tr th {\n",
              "        vertical-align: top;\n",
              "    }\n",
              "\n",
              "    .dataframe thead th {\n",
              "        text-align: right;\n",
              "    }\n",
              "</style>\n",
              "<table border=\"1\" class=\"dataframe\">\n",
              "  <thead>\n",
              "    <tr style=\"text-align: right;\">\n",
              "      <th></th>\n",
              "      <th>typeofsales</th>\n",
              "      <th>patient_id</th>\n",
              "      <th>specialisation</th>\n",
              "      <th>dept</th>\n",
              "      <th>dateofbill</th>\n",
              "      <th>quantity</th>\n",
              "      <th>returnquantity</th>\n",
              "      <th>final_cost</th>\n",
              "      <th>final_sales</th>\n",
              "      <th>rtnmrp</th>\n",
              "      <th>formulation</th>\n",
              "      <th>drugname</th>\n",
              "      <th>subcat</th>\n",
              "      <th>subcat1</th>\n",
              "      <th>month_name</th>\n",
              "      <th>month_number</th>\n",
              "      <th>demand</th>\n",
              "    </tr>\n",
              "  </thead>\n",
              "  <tbody>\n",
              "    <tr>\n",
              "      <th>9916</th>\n",
              "      <td>Sale</td>\n",
              "      <td>12018080633</td>\n",
              "      <td>Specialisation14</td>\n",
              "      <td>Department1</td>\n",
              "      <td>2022-01-01</td>\n",
              "      <td>1</td>\n",
              "      <td>0</td>\n",
              "      <td>77.800</td>\n",
              "      <td>125.586</td>\n",
              "      <td>0.0</td>\n",
              "      <td>Form2</td>\n",
              "      <td>ENOXAPARIN 40MG</td>\n",
              "      <td>INJECTIONS</td>\n",
              "      <td>CARDIOVASCULAR &amp; HEMATOPOIETIC SYSTEM</td>\n",
              "      <td>January</td>\n",
              "      <td>1</td>\n",
              "      <td>1</td>\n",
              "    </tr>\n",
              "    <tr>\n",
              "      <th>154</th>\n",
              "      <td>Sale</td>\n",
              "      <td>12018081316</td>\n",
              "      <td>Specialisation3</td>\n",
              "      <td>Department1</td>\n",
              "      <td>2022-01-01</td>\n",
              "      <td>2</td>\n",
              "      <td>0</td>\n",
              "      <td>49.278</td>\n",
              "      <td>104.204</td>\n",
              "      <td>0.0</td>\n",
              "      <td>Form1</td>\n",
              "      <td>CEFTRIAXONE 1GM</td>\n",
              "      <td>INJECTIONS</td>\n",
              "      <td>ANTI-INFECTIVES</td>\n",
              "      <td>January</td>\n",
              "      <td>1</td>\n",
              "      <td>2</td>\n",
              "    </tr>\n",
              "    <tr>\n",
              "      <th>14055</th>\n",
              "      <td>Sale</td>\n",
              "      <td>12018064578</td>\n",
              "      <td>Specialisation10</td>\n",
              "      <td>Department2</td>\n",
              "      <td>2022-01-01</td>\n",
              "      <td>3</td>\n",
              "      <td>0</td>\n",
              "      <td>120.640</td>\n",
              "      <td>307.800</td>\n",
              "      <td>0.0</td>\n",
              "      <td>Form1</td>\n",
              "      <td>PROPOFOL 1% 20ML INJ</td>\n",
              "      <td>INJECTIONS</td>\n",
              "      <td>ANAESTHETICS</td>\n",
              "      <td>January</td>\n",
              "      <td>1</td>\n",
              "      <td>3</td>\n",
              "    </tr>\n",
              "    <tr>\n",
              "      <th>11052</th>\n",
              "      <td>Sale</td>\n",
              "      <td>12018076250</td>\n",
              "      <td>Specialisation5</td>\n",
              "      <td>Department1</td>\n",
              "      <td>2022-01-01</td>\n",
              "      <td>1</td>\n",
              "      <td>0</td>\n",
              "      <td>42.060</td>\n",
              "      <td>42.600</td>\n",
              "      <td>0.0</td>\n",
              "      <td>Form1</td>\n",
              "      <td>GLYCOPYRROLATE</td>\n",
              "      <td>INJECTIONS</td>\n",
              "      <td>MUSCULO-SKELETAL SYSTEM</td>\n",
              "      <td>January</td>\n",
              "      <td>1</td>\n",
              "      <td>1</td>\n",
              "    </tr>\n",
              "    <tr>\n",
              "      <th>9776</th>\n",
              "      <td>Sale</td>\n",
              "      <td>12018081582</td>\n",
              "      <td>Specialisation3</td>\n",
              "      <td>Department1</td>\n",
              "      <td>2022-01-01</td>\n",
              "      <td>3</td>\n",
              "      <td>0</td>\n",
              "      <td>66.208</td>\n",
              "      <td>448.680</td>\n",
              "      <td>0.0</td>\n",
              "      <td>Form1</td>\n",
              "      <td>PARACETAMOL 1GM IV INJ</td>\n",
              "      <td>INJECTIONS</td>\n",
              "      <td>CENTRAL NERVOUS SYSTEM</td>\n",
              "      <td>January</td>\n",
              "      <td>1</td>\n",
              "      <td>3</td>\n",
              "    </tr>\n",
              "  </tbody>\n",
              "</table>\n",
              "</div>\n",
              "    <div class=\"colab-df-buttons\">\n",
              "\n",
              "  <div class=\"colab-df-container\">\n",
              "    <button class=\"colab-df-convert\" onclick=\"convertToInteractive('df-2330b859-a16a-421d-9346-7c43b6f45629')\"\n",
              "            title=\"Convert this dataframe to an interactive table.\"\n",
              "            style=\"display:none;\">\n",
              "\n",
              "  <svg xmlns=\"http://www.w3.org/2000/svg\" height=\"24px\" viewBox=\"0 -960 960 960\">\n",
              "    <path d=\"M120-120v-720h720v720H120Zm60-500h600v-160H180v160Zm220 220h160v-160H400v160Zm0 220h160v-160H400v160ZM180-400h160v-160H180v160Zm440 0h160v-160H620v160ZM180-180h160v-160H180v160Zm440 0h160v-160H620v160Z\"/>\n",
              "  </svg>\n",
              "    </button>\n",
              "\n",
              "  <style>\n",
              "    .colab-df-container {\n",
              "      display:flex;\n",
              "      gap: 12px;\n",
              "    }\n",
              "\n",
              "    .colab-df-convert {\n",
              "      background-color: #E8F0FE;\n",
              "      border: none;\n",
              "      border-radius: 50%;\n",
              "      cursor: pointer;\n",
              "      display: none;\n",
              "      fill: #1967D2;\n",
              "      height: 32px;\n",
              "      padding: 0 0 0 0;\n",
              "      width: 32px;\n",
              "    }\n",
              "\n",
              "    .colab-df-convert:hover {\n",
              "      background-color: #E2EBFA;\n",
              "      box-shadow: 0px 1px 2px rgba(60, 64, 67, 0.3), 0px 1px 3px 1px rgba(60, 64, 67, 0.15);\n",
              "      fill: #174EA6;\n",
              "    }\n",
              "\n",
              "    .colab-df-buttons div {\n",
              "      margin-bottom: 4px;\n",
              "    }\n",
              "\n",
              "    [theme=dark] .colab-df-convert {\n",
              "      background-color: #3B4455;\n",
              "      fill: #D2E3FC;\n",
              "    }\n",
              "\n",
              "    [theme=dark] .colab-df-convert:hover {\n",
              "      background-color: #434B5C;\n",
              "      box-shadow: 0px 1px 3px 1px rgba(0, 0, 0, 0.15);\n",
              "      filter: drop-shadow(0px 1px 2px rgba(0, 0, 0, 0.3));\n",
              "      fill: #FFFFFF;\n",
              "    }\n",
              "  </style>\n",
              "\n",
              "    <script>\n",
              "      const buttonEl =\n",
              "        document.querySelector('#df-2330b859-a16a-421d-9346-7c43b6f45629 button.colab-df-convert');\n",
              "      buttonEl.style.display =\n",
              "        google.colab.kernel.accessAllowed ? 'block' : 'none';\n",
              "\n",
              "      async function convertToInteractive(key) {\n",
              "        const element = document.querySelector('#df-2330b859-a16a-421d-9346-7c43b6f45629');\n",
              "        const dataTable =\n",
              "          await google.colab.kernel.invokeFunction('convertToInteractive',\n",
              "                                                    [key], {});\n",
              "        if (!dataTable) return;\n",
              "\n",
              "        const docLinkHtml = 'Like what you see? Visit the ' +\n",
              "          '<a target=\"_blank\" href=https://colab.research.google.com/notebooks/data_table.ipynb>data table notebook</a>'\n",
              "          + ' to learn more about interactive tables.';\n",
              "        element.innerHTML = '';\n",
              "        dataTable['output_type'] = 'display_data';\n",
              "        await google.colab.output.renderOutput(dataTable, element);\n",
              "        const docLink = document.createElement('div');\n",
              "        docLink.innerHTML = docLinkHtml;\n",
              "        element.appendChild(docLink);\n",
              "      }\n",
              "    </script>\n",
              "  </div>\n",
              "\n",
              "\n",
              "<div id=\"df-bd648fe6-bc5d-4607-97bc-d67de187b71a\">\n",
              "  <button class=\"colab-df-quickchart\" onclick=\"quickchart('df-bd648fe6-bc5d-4607-97bc-d67de187b71a')\"\n",
              "            title=\"Suggest charts\"\n",
              "            style=\"display:none;\">\n",
              "\n",
              "<svg xmlns=\"http://www.w3.org/2000/svg\" height=\"24px\"viewBox=\"0 0 24 24\"\n",
              "     width=\"24px\">\n",
              "    <g>\n",
              "        <path d=\"M19 3H5c-1.1 0-2 .9-2 2v14c0 1.1.9 2 2 2h14c1.1 0 2-.9 2-2V5c0-1.1-.9-2-2-2zM9 17H7v-7h2v7zm4 0h-2V7h2v10zm4 0h-2v-4h2v4z\"/>\n",
              "    </g>\n",
              "</svg>\n",
              "  </button>\n",
              "\n",
              "<style>\n",
              "  .colab-df-quickchart {\n",
              "      --bg-color: #E8F0FE;\n",
              "      --fill-color: #1967D2;\n",
              "      --hover-bg-color: #E2EBFA;\n",
              "      --hover-fill-color: #174EA6;\n",
              "      --disabled-fill-color: #AAA;\n",
              "      --disabled-bg-color: #DDD;\n",
              "  }\n",
              "\n",
              "  [theme=dark] .colab-df-quickchart {\n",
              "      --bg-color: #3B4455;\n",
              "      --fill-color: #D2E3FC;\n",
              "      --hover-bg-color: #434B5C;\n",
              "      --hover-fill-color: #FFFFFF;\n",
              "      --disabled-bg-color: #3B4455;\n",
              "      --disabled-fill-color: #666;\n",
              "  }\n",
              "\n",
              "  .colab-df-quickchart {\n",
              "    background-color: var(--bg-color);\n",
              "    border: none;\n",
              "    border-radius: 50%;\n",
              "    cursor: pointer;\n",
              "    display: none;\n",
              "    fill: var(--fill-color);\n",
              "    height: 32px;\n",
              "    padding: 0;\n",
              "    width: 32px;\n",
              "  }\n",
              "\n",
              "  .colab-df-quickchart:hover {\n",
              "    background-color: var(--hover-bg-color);\n",
              "    box-shadow: 0 1px 2px rgba(60, 64, 67, 0.3), 0 1px 3px 1px rgba(60, 64, 67, 0.15);\n",
              "    fill: var(--button-hover-fill-color);\n",
              "  }\n",
              "\n",
              "  .colab-df-quickchart-complete:disabled,\n",
              "  .colab-df-quickchart-complete:disabled:hover {\n",
              "    background-color: var(--disabled-bg-color);\n",
              "    fill: var(--disabled-fill-color);\n",
              "    box-shadow: none;\n",
              "  }\n",
              "\n",
              "  .colab-df-spinner {\n",
              "    border: 2px solid var(--fill-color);\n",
              "    border-color: transparent;\n",
              "    border-bottom-color: var(--fill-color);\n",
              "    animation:\n",
              "      spin 1s steps(1) infinite;\n",
              "  }\n",
              "\n",
              "  @keyframes spin {\n",
              "    0% {\n",
              "      border-color: transparent;\n",
              "      border-bottom-color: var(--fill-color);\n",
              "      border-left-color: var(--fill-color);\n",
              "    }\n",
              "    20% {\n",
              "      border-color: transparent;\n",
              "      border-left-color: var(--fill-color);\n",
              "      border-top-color: var(--fill-color);\n",
              "    }\n",
              "    30% {\n",
              "      border-color: transparent;\n",
              "      border-left-color: var(--fill-color);\n",
              "      border-top-color: var(--fill-color);\n",
              "      border-right-color: var(--fill-color);\n",
              "    }\n",
              "    40% {\n",
              "      border-color: transparent;\n",
              "      border-right-color: var(--fill-color);\n",
              "      border-top-color: var(--fill-color);\n",
              "    }\n",
              "    60% {\n",
              "      border-color: transparent;\n",
              "      border-right-color: var(--fill-color);\n",
              "    }\n",
              "    80% {\n",
              "      border-color: transparent;\n",
              "      border-right-color: var(--fill-color);\n",
              "      border-bottom-color: var(--fill-color);\n",
              "    }\n",
              "    90% {\n",
              "      border-color: transparent;\n",
              "      border-bottom-color: var(--fill-color);\n",
              "    }\n",
              "  }\n",
              "</style>\n",
              "\n",
              "  <script>\n",
              "    async function quickchart(key) {\n",
              "      const quickchartButtonEl =\n",
              "        document.querySelector('#' + key + ' button');\n",
              "      quickchartButtonEl.disabled = true;  // To prevent multiple clicks.\n",
              "      quickchartButtonEl.classList.add('colab-df-spinner');\n",
              "      try {\n",
              "        const charts = await google.colab.kernel.invokeFunction(\n",
              "            'suggestCharts', [key], {});\n",
              "      } catch (error) {\n",
              "        console.error('Error during call to suggestCharts:', error);\n",
              "      }\n",
              "      quickchartButtonEl.classList.remove('colab-df-spinner');\n",
              "      quickchartButtonEl.classList.add('colab-df-quickchart-complete');\n",
              "    }\n",
              "    (() => {\n",
              "      let quickchartButtonEl =\n",
              "        document.querySelector('#df-bd648fe6-bc5d-4607-97bc-d67de187b71a button');\n",
              "      quickchartButtonEl.style.display =\n",
              "        google.colab.kernel.accessAllowed ? 'block' : 'none';\n",
              "    })();\n",
              "  </script>\n",
              "</div>\n",
              "\n",
              "    </div>\n",
              "  </div>\n"
            ],
            "text/plain": [
              "      typeofsales   patient_id    specialisation         dept dateofbill  \\\n",
              "9916         Sale  12018080633  Specialisation14  Department1 2022-01-01   \n",
              "154          Sale  12018081316   Specialisation3  Department1 2022-01-01   \n",
              "14055        Sale  12018064578  Specialisation10  Department2 2022-01-01   \n",
              "11052        Sale  12018076250   Specialisation5  Department1 2022-01-01   \n",
              "9776         Sale  12018081582   Specialisation3  Department1 2022-01-01   \n",
              "\n",
              "       quantity  returnquantity  final_cost  final_sales  rtnmrp formulation  \\\n",
              "9916          1               0      77.800      125.586     0.0       Form2   \n",
              "154           2               0      49.278      104.204     0.0       Form1   \n",
              "14055         3               0     120.640      307.800     0.0       Form1   \n",
              "11052         1               0      42.060       42.600     0.0       Form1   \n",
              "9776          3               0      66.208      448.680     0.0       Form1   \n",
              "\n",
              "                     drugname      subcat  \\\n",
              "9916          ENOXAPARIN 40MG  INJECTIONS   \n",
              "154           CEFTRIAXONE 1GM  INJECTIONS   \n",
              "14055    PROPOFOL 1% 20ML INJ  INJECTIONS   \n",
              "11052          GLYCOPYRROLATE  INJECTIONS   \n",
              "9776   PARACETAMOL 1GM IV INJ  INJECTIONS   \n",
              "\n",
              "                                     subcat1 month_name  month_number  demand  \n",
              "9916   CARDIOVASCULAR & HEMATOPOIETIC SYSTEM    January             1       1  \n",
              "154                          ANTI-INFECTIVES    January             1       2  \n",
              "14055                           ANAESTHETICS    January             1       3  \n",
              "11052                MUSCULO-SKELETAL SYSTEM    January             1       1  \n",
              "9776                  CENTRAL NERVOUS SYSTEM    January             1       3  "
            ]
          },
          "execution_count": 28,
          "metadata": {},
          "output_type": "execute_result"
        }
      ],
      "source": [
        "filtered_df = df[df['subcat'] == filter_category].sort_values('dateofbill')\n",
        "filtered_df['demand'] = filtered_df['quantity'] - filtered_df['returnquantity']\n",
        "filtered_df.head()"
      ]
    },
    {
      "cell_type": "code",
      "execution_count": null,
      "metadata": {
        "colab": {
          "base_uri": "https://localhost:8080/",
          "height": 607
        },
        "id": "MuyDIVGFam2b",
        "outputId": "688c2e33-9175-4799-e744-fd77e4fc8a4a"
      },
      "outputs": [
        {
          "data": {
            "image/png": "[encoded data removed]",
            "text/plain": [
              "<Figure size 1200x600 with 1 Axes>"
            ]
          },
          "metadata": {},
          "output_type": "display_data"
        }
      ],
      "source": [
        "# Aggregate filtered_df by dateofbill, sum demand, and visualize\n",
        "demand_by_date = filtered_df.groupby('dateofbill')['demand'].sum()\n",
        "\n",
        "plt.figure(figsize=(12, 6))\n",
        "plt.plot(demand_by_date.index, demand_by_date.values)\n",
        "plt.xlabel('Date of Bill')\n",
        "plt.ylabel('Total Demand')\n",
        "plt.title(f'Total Demand Over Time for {filter_category}')\n",
        "plt.xticks(rotation=45)\n",
        "plt.gca().xaxis.set_major_locator(mdates.AutoDateLocator())\n",
        "plt.gca().xaxis.set_major_formatter(mdates.DateFormatter('%Y-%m-%d'))\n",
        "plt.tight_layout()\n",
        "plt.show()"
      ]
    },
    {
      "cell_type": "code",
      "execution_count": null,
      "metadata": {
        "colab": {
          "base_uri": "https://localhost:8080/",
          "height": 607
        },
        "id": "9WLrJ6pVcYea",
        "outputId": "b4d00d24-ce20-4dfd-98e9-de8dde031c9c"
      },
      "outputs": [
        {
          "data": {
            "image/png": "[encoded data removed]",
            "text/plain": [
              "<Figure size 1200x600 with 1 Axes>"
            ]
          },
          "metadata": {},
          "output_type": "display_data"
        }
      ],
      "source": [
        "demand_by_month = filtered_df.groupby('month_number')['demand'].sum()\n",
        "\n",
        "plt.figure(figsize=(12, 6))\n",
        "plt.plot(demand_by_month.index, demand_by_month.values)\n",
        "plt.xlabel('Month of Bill')\n",
        "plt.ylabel('Total Demand')\n",
        "plt.title(f'Total Demand Over Time for {filter_category}')\n",
        "plt.xticks(rotation=45)\n",
        "plt.tight_layout()\n",
        "plt.show()"
      ]
    }
  ],
  "metadata": {
    "colab": {
      "provenance": []
    },
    "kernelspec": {
      "display_name": "dss",
      "language": "python",
      "name": "python3"
    },
    "language_info": {
      "codemirror_mode": {
        "name": "ipython",
        "version": 3
      },
      "file_extension": ".py",
      "mimetype": "text/x-python",
      "name": "python",
      "nbconvert_exporter": "python",
      "pygments_lexer": "ipython3",
      "version": "3.12.4"
    }
  },
  "nbformat": 4,
  "nbformat_minor": 0
}
